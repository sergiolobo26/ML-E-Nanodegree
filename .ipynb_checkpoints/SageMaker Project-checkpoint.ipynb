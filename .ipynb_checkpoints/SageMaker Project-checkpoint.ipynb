{
 "cells": [
  {
   "cell_type": "markdown",
   "metadata": {},
   "source": [
    "# Creating a Sentiment Analysis Web App\n",
    "## Using PyTorch and SageMaker\n",
    "\n",
    "_Deep Learning Nanodegree Program | Deployment_\n",
    "\n",
    "---\n",
    "\n",
    "Now that we have a basic understanding of how SageMaker works we will try to use it to construct a complete project from end to end. Our goal will be to have a simple web page which a user can use to enter a movie review. The web page will then send the review off to our deployed model which will predict the sentiment of the entered review.\n",
    "\n",
    "## Instructions\n",
    "\n",
    "Some template code has already been provided for you, and you will need to implement additional functionality to successfully complete this notebook. You will not need to modify the included code beyond what is requested. Sections that begin with '**TODO**' in the header indicate that you need to complete or implement some portion within them. Instructions will be provided for each section and the specifics of the implementation are marked in the code block with a `# TODO: ...` comment. Please be sure to read the instructions carefully!\n",
    "\n",
    "In addition to implementing code, there will be questions for you to answer which relate to the task and your implementation. Each section where you will answer a question is preceded by a '**Question:**' header. Carefully read each question and provide your answer below the '**Answer:**' header by editing the Markdown cell.\n",
    "\n",
    "> **Note**: Code and Markdown cells can be executed using the **Shift+Enter** keyboard shortcut. In addition, a cell can be edited by typically clicking it (double-click for Markdown cells) or by pressing **Enter** while it is highlighted.\n",
    "\n",
    "## General Outline\n",
    "\n",
    "Recall the general outline for SageMaker projects using a notebook instance.\n",
    "\n",
    "1. Download or otherwise retrieve the data.\n",
    "2. Process / Prepare the data.\n",
    "3. Upload the processed data to S3.\n",
    "4. Train a chosen model.\n",
    "5. Test the trained model (typically using a batch transform job).\n",
    "6. Deploy the trained model.\n",
    "7. Use the deployed model.\n",
    "\n",
    "For this project, you will be following the steps in the general outline with some modifications. \n",
    "\n",
    "First, you will not be testing the model in its own step. You will still be testing the model, however, you will do it by deploying your model and then using the deployed model by sending the test data to it. One of the reasons for doing this is so that you can make sure that your deployed model is working correctly before moving forward.\n",
    "\n",
    "In addition, you will deploy and use your trained model a second time. In the second iteration you will customize the way that your trained model is deployed by including some of your own code. In addition, your newly deployed model will be used in the sentiment analysis web app."
   ]
  },
  {
   "cell_type": "markdown",
   "metadata": {},
   "source": [
    "## Step 1: Downloading the data\n",
    "\n",
    "As in the XGBoost in SageMaker notebook, we will be using the [IMDb dataset](http://ai.stanford.edu/~amaas/data/sentiment/)\n",
    "\n",
    "> Maas, Andrew L., et al. [Learning Word Vectors for Sentiment Analysis](http://ai.stanford.edu/~amaas/data/sentiment/). In _Proceedings of the 49th Annual Meeting of the Association for Computational Linguistics: Human Language Technologies_. Association for Computational Linguistics, 2011."
   ]
  },
  {
   "cell_type": "code",
   "execution_count": 1,
   "metadata": {},
   "outputs": [
    {
     "name": "stdout",
     "output_type": "stream",
     "text": [
      "mkdir: cannot create directory ‘../data’: File exists\n",
      "--2020-09-27 00:00:57--  http://ai.stanford.edu/~amaas/data/sentiment/aclImdb_v1.tar.gz\n",
      "Resolving ai.stanford.edu (ai.stanford.edu)... 171.64.68.10\n",
      "Connecting to ai.stanford.edu (ai.stanford.edu)|171.64.68.10|:80... connected.\n",
      "HTTP request sent, awaiting response... 200 OK\n",
      "Length: 84125825 (80M) [application/x-gzip]\n",
      "Saving to: ‘../data/aclImdb_v1.tar.gz’\n",
      "\n",
      "../data/aclImdb_v1. 100%[===================>]  80.23M  1.19MB/s    in 13s     \n",
      "\n",
      "2020-09-27 00:01:11 (6.02 MB/s) - ‘../data/aclImdb_v1.tar.gz’ saved [84125825/84125825]\n",
      "\n"
     ]
    }
   ],
   "source": [
    "%mkdir ../data\n",
    "!wget -O ../data/aclImdb_v1.tar.gz http://ai.stanford.edu/~amaas/data/sentiment/aclImdb_v1.tar.gz\n",
    "!tar -zxf ../data/aclImdb_v1.tar.gz -C ../data"
   ]
  },
  {
   "cell_type": "markdown",
   "metadata": {},
   "source": [
    "## Step 2: Preparing and Processing the data\n",
    "\n",
    "Also, as in the XGBoost notebook, we will be doing some initial data processing. The first few steps are the same as in the XGBoost example. To begin with, we will read in each of the reviews and combine them into a single input structure. Then, we will split the dataset into a training set and a testing set."
   ]
  },
  {
   "cell_type": "code",
   "execution_count": 1,
   "metadata": {},
   "outputs": [],
   "source": [
    "import os\n",
    "import glob\n",
    "\n",
    "def read_imdb_data(data_dir='../data/aclImdb'):\n",
    "    data = {}\n",
    "    labels = {}\n",
    "    \n",
    "    for data_type in ['train', 'test']:\n",
    "        data[data_type] = {}\n",
    "        labels[data_type] = {}\n",
    "        \n",
    "        for sentiment in ['pos', 'neg']:\n",
    "            data[data_type][sentiment] = []\n",
    "            labels[data_type][sentiment] = []\n",
    "            \n",
    "            path = os.path.join(data_dir, data_type, sentiment, '*.txt')\n",
    "            files = glob.glob(path)\n",
    "            \n",
    "            for f in files:\n",
    "                with open(f) as review:\n",
    "                    data[data_type][sentiment].append(review.read())\n",
    "                    # Here we represent a positive review by '1' and a negative review by '0'\n",
    "                    labels[data_type][sentiment].append(1 if sentiment == 'pos' else 0)\n",
    "                    \n",
    "            assert len(data[data_type][sentiment]) == len(labels[data_type][sentiment]), \\\n",
    "                    \"{}/{} data size does not match labels size\".format(data_type, sentiment)\n",
    "                \n",
    "    return data, labels"
   ]
  },
  {
   "cell_type": "code",
   "execution_count": 2,
   "metadata": {},
   "outputs": [
    {
     "name": "stdout",
     "output_type": "stream",
     "text": [
      "IMDB reviews: train = 12500 pos / 12500 neg, test = 12500 pos / 12500 neg\n"
     ]
    }
   ],
   "source": [
    "data, labels = read_imdb_data()\n",
    "print(\"IMDB reviews: train = {} pos / {} neg, test = {} pos / {} neg\".format(\n",
    "            len(data['train']['pos']), len(data['train']['neg']),\n",
    "            len(data['test']['pos']), len(data['test']['neg'])))"
   ]
  },
  {
   "cell_type": "markdown",
   "metadata": {},
   "source": [
    "Now that we've read the raw training and testing data from the downloaded dataset, we will combine the positive and negative reviews and shuffle the resulting records."
   ]
  },
  {
   "cell_type": "code",
   "execution_count": 3,
   "metadata": {},
   "outputs": [],
   "source": [
    "from sklearn.utils import shuffle\n",
    "\n",
    "def prepare_imdb_data(data, labels):\n",
    "    \"\"\"Prepare training and test sets from IMDb movie reviews.\"\"\"\n",
    "    \n",
    "    #Combine positive and negative reviews and labels\n",
    "    data_train = data['train']['pos'] + data['train']['neg']\n",
    "    data_test = data['test']['pos'] + data['test']['neg']\n",
    "    labels_train = labels['train']['pos'] + labels['train']['neg']\n",
    "    labels_test = labels['test']['pos'] + labels['test']['neg']\n",
    "    \n",
    "    #Shuffle reviews and corresponding labels within training and test sets\n",
    "    data_train, labels_train = shuffle(data_train, labels_train)\n",
    "    data_test, labels_test = shuffle(data_test, labels_test)\n",
    "    \n",
    "    # Return a unified training data, test data, training labels, test labets\n",
    "    return data_train, data_test, labels_train, labels_test"
   ]
  },
  {
   "cell_type": "code",
   "execution_count": 4,
   "metadata": {},
   "outputs": [
    {
     "name": "stdout",
     "output_type": "stream",
     "text": [
      "IMDb reviews (combined): train = 25000, test = 25000\n"
     ]
    }
   ],
   "source": [
    "train_X, test_X, train_y, test_y = prepare_imdb_data(data, labels)\n",
    "print(\"IMDb reviews (combined): train = {}, test = {}\".format(len(train_X), len(test_X)))"
   ]
  },
  {
   "cell_type": "markdown",
   "metadata": {},
   "source": [
    "Now that we have our training and testing sets unified and prepared, we should do a quick check and see an example of the data our model will be trained on. This is generally a good idea as it allows you to see how each of the further processing steps affects the reviews and it also ensures that the data has been loaded correctly."
   ]
  },
  {
   "cell_type": "code",
   "execution_count": 5,
   "metadata": {},
   "outputs": [
    {
     "name": "stdout",
     "output_type": "stream",
     "text": [
      "This film is fantastic. Finally well-written characters you can love for all their good and bad. Pierce Brosnan is flat-out hysterical in this self-effacing role. I think its the best thing he's ever done. He's done other roles that exhibited shades of being capable of this kind of fully-fledged work, but this role finally gave him the room to run with it. I almost died when he walked across the hotel lobby in his underwear and boots. And Greg Kinnear and Hope Davis are a couple to aspire too, as well as actors to aspire too. Kinnear is so goofy likable that his turn in the end is truly gratifying. You give good actors good work to play with and they give us something more back.\n",
      "1\n"
     ]
    }
   ],
   "source": [
    "print(train_X[100])\n",
    "print(train_y[100])"
   ]
  },
  {
   "cell_type": "markdown",
   "metadata": {},
   "source": [
    "The first step in processing the reviews is to make sure that any html tags that appear should be removed. In addition we wish to tokenize our input, that way words such as *entertained* and *entertaining* are considered the same with regard to sentiment analysis."
   ]
  },
  {
   "cell_type": "code",
   "execution_count": 6,
   "metadata": {},
   "outputs": [],
   "source": [
    "import nltk\n",
    "from nltk.corpus import stopwords\n",
    "from nltk.stem.porter import *\n",
    "\n",
    "import re\n",
    "from bs4 import BeautifulSoup\n",
    "\n",
    "def review_to_words(review):\n",
    "    nltk.download(\"stopwords\", quiet=True)\n",
    "    stemmer = PorterStemmer()\n",
    "    \n",
    "    text = BeautifulSoup(review, \"html.parser\").get_text() # Remove HTML tags\n",
    "    text = re.sub(r\"[^a-zA-Z0-9]\", \" \", text.lower()) # Convert to lower case\n",
    "    words = text.split() # Split string into words\n",
    "    words = [w for w in words if w not in stopwords.words(\"english\")] # Remove stopwords\n",
    "    words = [PorterStemmer().stem(w) for w in words] # stem\n",
    "    \n",
    "    return words"
   ]
  },
  {
   "cell_type": "markdown",
   "metadata": {},
   "source": [
    "The `review_to_words` method defined above uses `BeautifulSoup` to remove any html tags that appear and uses the `nltk` package to tokenize the reviews. As a check to ensure we know how everything is working, try applying `review_to_words` to one of the reviews in the training set."
   ]
  },
  {
   "cell_type": "code",
   "execution_count": 7,
   "metadata": {},
   "outputs": [
    {
     "name": "stdout",
     "output_type": "stream",
     "text": [
      "['film', 'fantast', 'final', 'well', 'written', 'charact', 'love', 'good', 'bad', 'pierc', 'brosnan', 'flat', 'hyster', 'self', 'effac', 'role', 'think', 'best', 'thing', 'ever', 'done', 'done', 'role', 'exhibit', 'shade', 'capabl', 'kind', 'fulli', 'fledg', 'work', 'role', 'final', 'gave', 'room', 'run', 'almost', 'die', 'walk', 'across', 'hotel', 'lobbi', 'underwear', 'boot', 'greg', 'kinnear', 'hope', 'davi', 'coupl', 'aspir', 'well', 'actor', 'aspir', 'kinnear', 'goofi', 'likabl', 'turn', 'end', 'truli', 'gratifi', 'give', 'good', 'actor', 'good', 'work', 'play', 'give', 'us', 'someth', 'back']\n"
     ]
    }
   ],
   "source": [
    "# TODO: Apply review_to_words to a review (train_X[100] or any other review)\n",
    "print(review_to_words(train_X[100]))"
   ]
  },
  {
   "cell_type": "markdown",
   "metadata": {},
   "source": [
    "**Question:** Above we mentioned that `review_to_words` method removes html formatting and allows us to tokenize the words found in a review, for example, converting *entertained* and *entertaining* into *entertain* so that they are treated as though they are the same word. What else, if anything, does this method do to the input?"
   ]
  },
  {
   "cell_type": "markdown",
   "metadata": {},
   "source": [
    "**Answer:** The method transforms the review into a list of words, also removes stop words using the nltk library, converts to lower case and removes non-alphanumeric characters using a regular expression. "
   ]
  },
  {
   "cell_type": "markdown",
   "metadata": {},
   "source": [
    "The method below applies the `review_to_words` method to each of the reviews in the training and testing datasets. In addition it caches the results. This is because performing this processing step can take a long time. This way if you are unable to complete the notebook in the current session, you can come back without needing to process the data a second time."
   ]
  },
  {
   "cell_type": "code",
   "execution_count": 8,
   "metadata": {},
   "outputs": [],
   "source": [
    "import pickle\n",
    "\n",
    "cache_dir = os.path.join(\"../cache\", \"sentiment_analysis\")  # where to store cache files\n",
    "os.makedirs(cache_dir, exist_ok=True)  # ensure cache directory exists\n",
    "\n",
    "def preprocess_data(data_train, data_test, labels_train, labels_test,\n",
    "                    cache_dir=cache_dir, cache_file=\"preprocessed_data.pkl\"):\n",
    "    \"\"\"Convert each review to words; read from cache if available.\"\"\"\n",
    "\n",
    "    # If cache_file is not None, try to read from it first\n",
    "    cache_data = None\n",
    "    if cache_file is not None:\n",
    "        try:\n",
    "            with open(os.path.join(cache_dir, cache_file), \"rb\") as f:\n",
    "                cache_data = pickle.load(f)\n",
    "            print(\"Read preprocessed data from cache file:\", cache_file)\n",
    "        except:\n",
    "            pass  # unable to read from cache, but that's okay\n",
    "    \n",
    "    # If cache is missing, then do the heavy lifting\n",
    "    if cache_data is None:\n",
    "        # Preprocess training and test data to obtain words for each review\n",
    "        #words_train = list(map(review_to_words, data_train))\n",
    "        #words_test = list(map(review_to_words, data_test))\n",
    "        words_train = [review_to_words(review) for review in data_train]\n",
    "        words_test = [review_to_words(review) for review in data_test]\n",
    "        \n",
    "        # Write to cache file for future runs\n",
    "        if cache_file is not None:\n",
    "            cache_data = dict(words_train=words_train, words_test=words_test,\n",
    "                              labels_train=labels_train, labels_test=labels_test)\n",
    "            with open(os.path.join(cache_dir, cache_file), \"wb\") as f:\n",
    "                pickle.dump(cache_data, f)\n",
    "            print(\"Wrote preprocessed data to cache file:\", cache_file)\n",
    "    else:\n",
    "        # Unpack data loaded from cache file\n",
    "        words_train, words_test, labels_train, labels_test = (cache_data['words_train'],\n",
    "                cache_data['words_test'], cache_data['labels_train'], cache_data['labels_test'])\n",
    "    \n",
    "    return words_train, words_test, labels_train, labels_test"
   ]
  },
  {
   "cell_type": "code",
   "execution_count": 9,
   "metadata": {},
   "outputs": [
    {
     "name": "stdout",
     "output_type": "stream",
     "text": [
      "Read preprocessed data from cache file: preprocessed_data.pkl\n"
     ]
    }
   ],
   "source": [
    "# Preprocess data\n",
    "train_X, test_X, train_y, test_y = preprocess_data(train_X, test_X, train_y, test_y)"
   ]
  },
  {
   "cell_type": "markdown",
   "metadata": {},
   "source": [
    "## Transform the data\n",
    "\n",
    "In the XGBoost notebook we transformed the data from its word representation to a bag-of-words feature representation. For the model we are going to construct in this notebook we will construct a feature representation which is very similar. To start, we will represent each word as an integer. Of course, some of the words that appear in the reviews occur very infrequently and so likely don't contain much information for the purposes of sentiment analysis. The way we will deal with this problem is that we will fix the size of our working vocabulary and we will only include the words that appear most frequently. We will then combine all of the infrequent words into a single category and, in our case, we will label it as `1`.\n",
    "\n",
    "Since we will be using a recurrent neural network, it will be convenient if the length of each review is the same. To do this, we will fix a size for our reviews and then pad short reviews with the category 'no word' (which we will label `0`) and truncate long reviews."
   ]
  },
  {
   "cell_type": "markdown",
   "metadata": {},
   "source": [
    "### (TODO) Create a word dictionary\n",
    "\n",
    "To begin with, we need to construct a way to map words that appear in the reviews to integers. Here we fix the size of our vocabulary (including the 'no word' and 'infrequent' categories) to be `5000` but you may wish to change this to see how it affects the model.\n",
    "\n",
    "> **TODO:** Complete the implementation for the `build_dict()` method below. Note that even though the vocab_size is set to `5000`, we only want to construct a mapping for the most frequently appearing `4998` words. This is because we want to reserve the special labels `0` for 'no word' and `1` for 'infrequent word'."
   ]
  },
  {
   "cell_type": "code",
   "execution_count": 10,
   "metadata": {},
   "outputs": [],
   "source": [
    "import numpy as np\n",
    "from sklearn.feature_extraction.text import CountVectorizer\n",
    "from operator import itemgetter\n",
    "import pdb\n",
    "def build_dict(data, vocab_size = 5000):\n",
    "    \"\"\"Construct and return a dictionary mapping each of the most frequently appearing words to a unique integer.\"\"\"\n",
    "    \n",
    "    # TODO: Determine how often each word appears in `data`. Note that `data` is a list of sentences and that a\n",
    "    #       sentence is a list of words.\n",
    "    \n",
    "    vectorizer = CountVectorizer(max_features=vocab_size, preprocessor=lambda x: ' '.join(x))  \n",
    "    vectorized_words = vectorizer.fit_transform(data)\n",
    "    \n",
    "    # A dict storing the words that appear in the reviews along with how often they occur\n",
    "    word_count = dict(list(zip(vectorizer.get_feature_names(), np.squeeze(np.asarray(np.sum(vectorized_words, axis=0))))))\n",
    "    vectorizer = vectorized_words = None\n",
    "    # TODO: Sort the words found in `data` so that sorted_words[0] is the most frequently appearing word and\n",
    "    #       sorted_words[-1] is the least frequently appearing word.\n",
    "    sorted_words = [t for t, i in sorted(word_count.items(), key=itemgetter(1), reverse=True)]\n",
    "    \n",
    "    word_dict = {} # This is what we are building, a dictionary that translates words into integers\n",
    "    for idx, word in enumerate(sorted_words[:vocab_size - 2]): # The -2 is so that we save room for the 'no word'\n",
    "        word_dict[word] = idx + 2                              # 'infrequent' labels\n",
    "        \n",
    "    return word_dict"
   ]
  },
  {
   "cell_type": "code",
   "execution_count": 11,
   "metadata": {},
   "outputs": [],
   "source": [
    "word_dict =  build_dict(train_X)"
   ]
  },
  {
   "cell_type": "code",
   "execution_count": 12,
   "metadata": {},
   "outputs": [
    {
     "name": "stdout",
     "output_type": "stream",
     "text": [
      "{'movi': 2, 'film': 3, 'one': 4, 'like': 5, 'time': 6, 'good': 7, 'make': 8, 'charact': 9, 'get': 10, 'see': 11, 'watch': 12, 'stori': 13, 'even': 14, 'would': 15, 'realli': 16, 'well': 17, 'scene': 18, 'look': 19, 'show': 20, 'much': 21, 'end': 22, 'peopl': 23, 'bad': 24, 'go': 25, 'great': 26, 'also': 27, 'first': 28, 'love': 29, 'think': 30, 'way': 31, 'act': 32, 'play': 33, 'made': 34, 'thing': 35, 'could': 36, 'know': 37, 'say': 38, 'seem': 39, 'work': 40, 'plot': 41, 'two': 42, 'actor': 43, 'year': 44, 'come': 45, 'mani': 46, 'seen': 47, 'take': 48, 'life': 49, 'want': 50, 'never': 51, 'littl': 52, 'best': 53, 'tri': 54, 'man': 55, 'ever': 56, 'give': 57, 'better': 58, 'still': 59, 'perform': 60, 'find': 61, 'feel': 62, 'part': 63, 'back': 64, 'use': 65, 'someth': 66, 'director': 67, 'actual': 68, 'interest': 69, 'lot': 70, 'real': 71, 'old': 72, 'cast': 73, 'though': 74, 'live': 75, 'star': 76, 'enjoy': 77, 'guy': 78, 'anoth': 79, 'new': 80, 'role': 81, 'noth': 82, '10': 83, 'funni': 84, 'music': 85, 'point': 86, 'start': 87, 'set': 88, 'girl': 89, 'origin': 90, 'day': 91, 'world': 92, 'everi': 93, 'believ': 94, 'turn': 95, 'quit': 96, 'direct': 97, 'us': 98, 'thought': 99, 'fact': 100, 'minut': 101, 'horror': 102, 'kill': 103, 'action': 104, 'comedi': 105, 'pretti': 106, 'young': 107, 'wonder': 108, 'happen': 109, 'around': 110, 'got': 111, 'effect': 112, 'right': 113, 'long': 114, 'howev': 115, 'big': 116, 'line': 117, 'famili': 118, 'enough': 119, 'seri': 120, 'may': 121, 'need': 122, 'fan': 123, 'bit': 124, 'script': 125, 'beauti': 126, 'person': 127, 'becom': 128, 'without': 129, 'must': 130, 'alway': 131, 'friend': 132, 'tell': 133, 'reason': 134, 'saw': 135, 'last': 136, 'final': 137, 'kid': 138, 'almost': 139, 'put': 140, 'least': 141, 'sure': 142, 'done': 143, 'whole': 144, 'place': 145, 'complet': 146, 'kind': 147, 'differ': 148, 'expect': 149, 'shot': 150, 'far': 151, 'mean': 152, 'anyth': 153, 'book': 154, 'laugh': 155, 'might': 156, 'name': 157, 'sinc': 158, 'begin': 159, 'probabl': 160, 'woman': 161, 'help': 162, 'entertain': 163, 'let': 164, 'screen': 165, 'call': 166, 'tv': 167, 'moment': 168, 'away': 169, 'read': 170, 'yet': 171, 'rather': 172, 'worst': 173, 'run': 174, 'fun': 175, 'lead': 176, 'hard': 177, 'audienc': 178, 'idea': 179, 'anyon': 180, 'episod': 181, 'american': 182, 'found': 183, 'appear': 184, 'bore': 185, 'especi': 186, 'although': 187, 'hope': 188, 'cours': 189, 'keep': 190, 'anim': 191, 'job': 192, 'goe': 193, 'move': 194, 'sens': 195, 'dvd': 196, 'version': 197, 'war': 198, 'money': 199, 'someon': 200, 'mind': 201, 'mayb': 202, 'problem': 203, 'true': 204, 'hous': 205, 'everyth': 206, 'nice': 207, 'second': 208, 'rate': 209, 'three': 210, 'night': 211, 'face': 212, 'follow': 213, 'recommend': 214, 'main': 215, 'product': 216, 'worth': 217, 'leav': 218, 'human': 219, 'special': 220, 'excel': 221, 'togeth': 222, 'wast': 223, 'everyon': 224, 'sound': 225, 'john': 226, 'hand': 227, 'father': 228, 'later': 229, 'eye': 230, 'said': 231, 'view': 232, 'instead': 233, 'review': 234, 'boy': 235, 'high': 236, 'hour': 237, 'miss': 238, 'classic': 239, 'talk': 240, 'wife': 241, 'understand': 242, 'left': 243, 'care': 244, 'black': 245, 'death': 246, 'open': 247, 'murder': 248, 'write': 249, 'half': 250, 'head': 251, 'rememb': 252, 'chang': 253, 'viewer': 254, 'fight': 255, 'gener': 256, 'surpris': 257, 'includ': 258, 'short': 259, 'die': 260, 'fall': 261, 'less': 262, 'els': 263, 'entir': 264, 'piec': 265, 'involv': 266, 'pictur': 267, 'simpli': 268, 'home': 269, 'power': 270, 'top': 271, 'total': 272, 'usual': 273, 'budget': 274, 'attempt': 275, 'suppos': 276, 'releas': 277, 'hollywood': 278, 'terribl': 279, 'song': 280, 'men': 281, 'possibl': 282, 'featur': 283, 'portray': 284, 'disappoint': 285, 'poor': 286, 'coupl': 287, 'camera': 288, 'stupid': 289, 'dead': 290, 'wrong': 291, 'low': 292, 'produc': 293, 'either': 294, 'video': 295, 'aw': 296, 'definit': 297, 'except': 298, 'rest': 299, 'given': 300, 'absolut': 301, 'women': 302, 'lack': 303, 'word': 304, 'writer': 305, 'titl': 306, 'talent': 307, 'decid': 308, 'full': 309, 'perfect': 310, 'along': 311, 'style': 312, 'close': 313, 'truli': 314, 'school': 315, 'emot': 316, 'save': 317, 'age': 318, 'sex': 319, 'next': 320, 'bring': 321, 'mr': 322, 'case': 323, 'killer': 324, 'heart': 325, 'comment': 326, 'sort': 327, 'creat': 328, 'perhap': 329, 'came': 330, 'brother': 331, 'sever': 332, 'joke': 333, 'art': 334, 'dialogu': 335, 'game': 336, 'small': 337, 'base': 338, 'flick': 339, 'written': 340, 'sequenc': 341, 'meet': 342, 'earli': 343, 'often': 344, 'other': 345, 'mother': 346, 'develop': 347, 'humor': 348, 'actress': 349, 'consid': 350, 'dark': 351, 'guess': 352, 'amaz': 353, 'unfortun': 354, 'light': 355, 'lost': 356, 'exampl': 357, 'cinema': 358, 'drama': 359, 'white': 360, 'ye': 361, 'experi': 362, 'imagin': 363, 'mention': 364, 'stop': 365, 'natur': 366, 'forc': 367, 'manag': 368, 'felt': 369, 'cut': 370, 'present': 371, 'children': 372, 'fail': 373, 'son': 374, 'car': 375, 'qualiti': 376, 'support': 377, 'ask': 378, 'hit': 379, 'side': 380, 'voic': 381, 'extrem': 382, 'impress': 383, 'evil': 384, 'wors': 385, 'stand': 386, 'went': 387, 'certainli': 388, 'basic': 389, 'oh': 390, 'overal': 391, 'favorit': 392, 'horribl': 393, 'mysteri': 394, 'number': 395, 'type': 396, 'danc': 397, 'wait': 398, 'hero': 399, 'alreadi': 400, 'learn': 401, 'matter': 402, 'michael': 403, 'genr': 404, 'fine': 405, 'despit': 406, 'throughout': 407, 'walk': 408, 'success': 409, 'histori': 410, 'question': 411, 'zombi': 412, 'town': 413, 'realiz': 414, 'relationship': 415, 'child': 416, 'past': 417, 'daughter': 418, 'late': 419, 'wish': 420, 'credit': 421, 'hate': 422, 'event': 423, 'theme': 424, 'touch': 425, 'citi': 426, 'today': 427, 'sometim': 428, 'behind': 429, 'god': 430, 'twist': 431, 'sit': 432, 'annoy': 433, 'deal': 434, 'stay': 435, 'abl': 436, 'rent': 437, 'pleas': 438, 'edit': 439, 'blood': 440, 'deserv': 441, 'anyway': 442, 'comic': 443, 'appar': 444, 'soon': 445, 'gave': 446, 'etc': 447, 'level': 448, 'slow': 449, 'chanc': 450, 'score': 451, 'bodi': 452, 'brilliant': 453, 'incred': 454, 'figur': 455, 'situat': 456, 'major': 457, 'self': 458, 'stuff': 459, 'decent': 460, 'element': 461, 'dream': 462, 'return': 463, 'obvious': 464, 'continu': 465, 'order': 466, 'pace': 467, 'ridicul': 468, 'happi': 469, 'add': 470, 'group': 471, 'highli': 472, 'thank': 473, 'ladi': 474, 'novel': 475, 'pain': 476, 'speak': 477, 'career': 478, 'shoot': 479, 'strang': 480, 'heard': 481, 'sad': 482, 'husband': 483, 'polic': 484, 'import': 485, 'break': 486, 'took': 487, 'cannot': 488, 'strong': 489, 'predict': 490, 'robert': 491, 'violenc': 492, 'hilari': 493, 'recent': 494, 'countri': 495, 'known': 496, 'particularli': 497, 'pick': 498, 'documentari': 499, 'season': 500, 'critic': 501, 'jame': 502, 'compar': 503, 'alon': 504, 'obviou': 505, 'told': 506, 'state': 507, 'rock': 508, 'visual': 509, 'exist': 510, 'offer': 511, 'theater': 512, 'opinion': 513, 'gore': 514, 'crap': 515, 'hold': 516, 'result': 517, 'hear': 518, 'realiti': 519, 'room': 520, 'clich': 521, 'effort': 522, 'thriller': 523, 'caus': 524, 'explain': 525, 'sequel': 526, 'serious': 527, 'king': 528, 'local': 529, 'ago': 530, 'hell': 531, 'none': 532, 'note': 533, 'allow': 534, 'david': 535, 'sister': 536, 'simpl': 537, 'femal': 538, 'deliv': 539, 'ok': 540, 'class': 541, 'convinc': 542, 'check': 543, 'suspens': 544, 'win': 545, 'buy': 546, 'oscar': 547, 'huge': 548, 'valu': 549, 'sexual': 550, 'cool': 551, 'scari': 552, 'excit': 553, 'similar': 554, 'apart': 555, 'exactli': 556, 'provid': 557, 'avoid': 558, 'shown': 559, 'seriou': 560, 'english': 561, 'taken': 562, 'whose': 563, 'cinematographi': 564, 'shock': 565, 'polit': 566, 'spoiler': 567, 'offic': 568, 'across': 569, 'middl': 570, 'pass': 571, 'street': 572, 'messag': 573, 'charm': 574, 'silli': 575, 'somewhat': 576, 'modern': 577, 'confus': 578, 'filmmak': 579, 'form': 580, 'tale': 581, 'singl': 582, 'jack': 583, 'mostli': 584, 'attent': 585, 'carri': 586, 'william': 587, 'sing': 588, 'five': 589, 'subject': 590, 'prove': 591, 'richard': 592, 'stage': 593, 'team': 594, 'cop': 595, 'unlik': 596, 'georg': 597, 'monster': 598, 'televis': 599, 'earth': 600, 'cover': 601, 'villain': 602, 'pay': 603, 'marri': 604, 'toward': 605, 'build': 606, 'parent': 607, 'pull': 608, 'due': 609, 'fill': 610, 'respect': 611, 'dialog': 612, 'four': 613, 'remind': 614, 'futur': 615, 'typic': 616, 'weak': 617, 'cheap': 618, 'intellig': 619, 'atmospher': 620, 'british': 621, '80': 622, 'clearli': 623, 'dog': 624, 'non': 625, 'paul': 626, 'artist': 627, 'fast': 628, 'knew': 629, 'crime': 630, 'easili': 631, 'escap': 632, 'adult': 633, 'doubt': 634, 'detail': 635, 'date': 636, 'fire': 637, 'member': 638, 'romant': 639, 'drive': 640, 'gun': 641, 'straight': 642, 'beyond': 643, 'fit': 644, 'attack': 645, 'imag': 646, 'upon': 647, 'posit': 648, 'whether': 649, 'fantast': 650, 'peter': 651, 'appreci': 652, 'aspect': 653, 'captur': 654, 'ten': 655, 'plan': 656, 'discov': 657, 'remain': 658, 'near': 659, 'period': 660, 'air': 661, 'realist': 662, 'mark': 663, 'red': 664, 'dull': 665, 'adapt': 666, 'within': 667, 'lose': 668, 'spend': 669, 'color': 670, 'materi': 671, 'chase': 672, 'mari': 673, 'storylin': 674, 'forget': 675, 'bunch': 676, 'clear': 677, 'lee': 678, 'victim': 679, 'nearli': 680, 'box': 681, 'york': 682, 'inspir': 683, 'match': 684, 'finish': 685, 'mess': 686, 'standard': 687, 'easi': 688, 'truth': 689, 'busi': 690, 'suffer': 691, 'bill': 692, 'dramat': 693, 'space': 694, 'western': 695, 'list': 696, 'battl': 697, 'notic': 698, 'de': 699, 'french': 700, 'ad': 701, 'tom': 702, 'larg': 703, 'among': 704, 'eventu': 705, 'accept': 706, 'train': 707, 'agre': 708, 'soundtrack': 709, 'spirit': 710, 'third': 711, 'teenag': 712, 'adventur': 713, 'soldier': 714, 'drug': 715, 'famou': 716, 'sorri': 717, 'suggest': 718, 'babi': 719, 'cri': 720, 'normal': 721, 'troubl': 722, 'ultim': 723, 'contain': 724, 'certain': 725, 'cultur': 726, 'romanc': 727, 'rare': 728, 'lame': 729, 'somehow': 730, 'disney': 731, 'mix': 732, 'gone': 733, 'cartoon': 734, 'student': 735, 'fear': 736, 'reveal': 737, 'kept': 738, 'suck': 739, 'attract': 740, 'appeal': 741, 'premis': 742, 'design': 743, 'greatest': 744, 'secret': 745, 'shame': 746, 'throw': 747, 'copi': 748, 'scare': 749, 'wit': 750, 'admit': 751, 'america': 752, 'brought': 753, 'particular': 754, 'relat': 755, 'screenplay': 756, 'whatev': 757, 'pure': 758, '70': 759, 'averag': 760, 'harri': 761, 'master': 762, 'describ': 763, 'male': 764, 'treat': 765, '20': 766, 'fantasi': 767, 'issu': 768, 'warn': 769, 'inde': 770, 'background': 771, 'forward': 772, 'free': 773, 'project': 774, 'japanes': 775, 'memor': 776, 'poorli': 777, 'award': 778, 'locat': 779, 'amus': 780, 'potenti': 781, 'struggl': 782, 'magic': 783, 'weird': 784, 'societi': 785, 'okay': 786, 'accent': 787, 'doctor': 788, 'imdb': 789, 'hot': 790, 'water': 791, '30': 792, 'alien': 793, 'dr': 794, 'express': 795, 'odd': 796, 'choic': 797, 'crazi': 798, 'fiction': 799, 'studio': 800, 'becam': 801, 'control': 802, 'masterpiec': 803, 'difficult': 804, 'fli': 805, 'joe': 806, 'scream': 807, 'costum': 808, 'lover': 809, 'refer': 810, 'uniqu': 811, 'remak': 812, 'girlfriend': 813, 'vampir': 814, 'prison': 815, 'execut': 816, 'wear': 817, 'jump': 818, 'unless': 819, 'wood': 820, 'creepi': 821, 'cheesi': 822, 'superb': 823, 'otherwis': 824, 'parti': 825, 'ghost': 826, 'roll': 827, 'mad': 828, 'public': 829, 'depict': 830, 'badli': 831, 'earlier': 832, 'jane': 833, 'moral': 834, 'week': 835, 'dumb': 836, 'fi': 837, 'flaw': 838, 'grow': 839, 'deep': 840, 'sci': 841, 'cat': 842, 'maker': 843, 'connect': 844, 'footag': 845, 'older': 846, 'bother': 847, 'plenti': 848, 'outsid': 849, 'stick': 850, 'gay': 851, 'catch': 852, 'co': 853, 'plu': 854, 'popular': 855, 'equal': 856, 'social': 857, 'disturb': 858, 'quickli': 859, 'perfectli': 860, 'dress': 861, '90': 862, 'era': 863, 'mistak': 864, 'lie': 865, 'previou': 866, 'ride': 867, 'combin': 868, 'band': 869, 'concept': 870, 'answer': 871, 'rich': 872, 'surviv': 873, 'front': 874, 'christma': 875, 'sweet': 876, 'insid': 877, 'bare': 878, 'concern': 879, 'eat': 880, 'beat': 881, 'ben': 882, 'listen': 883, 'serv': 884, 'term': 885, 'german': 886, 'la': 887, 'meant': 888, 'hardli': 889, 'stereotyp': 890, 'innoc': 891, 'law': 892, 'desper': 893, 'memori': 894, 'promis': 895, 'cute': 896, 'intent': 897, 'inform': 898, 'steal': 899, 'variou': 900, 'brain': 901, 'post': 902, 'tone': 903, 'island': 904, 'amount': 905, 'compani': 906, 'nuditi': 907, 'track': 908, 'claim': 909, 'store': 910, '50': 911, 'flat': 912, 'hair': 913, 'land': 914, 'univers': 915, 'danger': 916, 'fairli': 917, 'kick': 918, 'scott': 919, 'player': 920, 'crew': 921, 'plain': 922, 'step': 923, 'toni': 924, 'share': 925, 'centuri': 926, 'tast': 927, 'achiev': 928, 'engag': 929, 'cold': 930, 'travel': 931, 'record': 932, 'rip': 933, 'suit': 934, 'manner': 935, 'sadli': 936, 'spot': 937, 'tension': 938, 'wrote': 939, 'fascin': 940, 'intens': 941, 'familiar': 942, 'burn': 943, 'depth': 944, 'remark': 945, 'destroy': 946, 'histor': 947, 'sleep': 948, 'purpos': 949, 'languag': 950, 'ignor': 951, 'ruin': 952, 'delight': 953, 'italian': 954, 'unbeliev': 955, 'abil': 956, 'collect': 957, 'soul': 958, 'clever': 959, 'detect': 960, 'violent': 961, 'rape': 962, 'reach': 963, 'door': 964, 'liter': 965, 'scienc': 966, 'trash': 967, 'caught': 968, 'commun': 969, 'reveng': 970, 'creatur': 971, 'approach': 972, 'trip': 973, 'fashion': 974, 'intrigu': 975, 'introduc': 976, 'paint': 977, 'skill': 978, 'channel': 979, 'complex': 980, 'camp': 981, 'christian': 982, 'extra': 983, 'hole': 984, 'ann': 985, 'immedi': 986, 'limit': 987, 'mental': 988, 'comput': 989, 'mere': 990, 'million': 991, 'slightli': 992, 'conclus': 993, 'slasher': 994, 'imposs': 995, 'suddenli': 996, 'crimin': 997, 'neither': 998, 'teen': 999, 'nation': 1000, 'physic': 1001, 'spent': 1002, 'respons': 1003, 'planet': 1004, 'fake': 1005, 'receiv': 1006, 'blue': 1007, 'sick': 1008, 'bizarr': 1009, 'embarrass': 1010, 'indian': 1011, '15': 1012, 'ring': 1013, 'drop': 1014, 'pop': 1015, 'drag': 1016, 'haunt': 1017, 'pointless': 1018, 'suspect': 1019, 'edg': 1020, 'search': 1021, 'handl': 1022, 'biggest': 1023, 'common': 1024, 'arriv': 1025, 'faith': 1026, 'hurt': 1027, 'technic': 1028, 'angel': 1029, 'dad': 1030, 'genuin': 1031, 'awesom': 1032, 'solid': 1033, 'colleg': 1034, 'focu': 1035, 'former': 1036, 'van': 1037, 'count': 1038, 'heavi': 1039, 'tear': 1040, 'rais': 1041, 'wall': 1042, 'laughabl': 1043, 'visit': 1044, 'younger': 1045, 'excus': 1046, 'fair': 1047, 'sign': 1048, 'cult': 1049, 'key': 1050, 'motion': 1051, 'tough': 1052, 'desir': 1053, 'super': 1054, 'addit': 1055, 'stun': 1056, 'cloth': 1057, 'exploit': 1058, 'smith': 1059, 'tortur': 1060, 'davi': 1061, 'race': 1062, 'author': 1063, 'cross': 1064, 'jim': 1065, 'compel': 1066, 'consist': 1067, 'focus': 1068, 'minor': 1069, 'chemistri': 1070, 'commit': 1071, 'pathet': 1072, 'park': 1073, 'frank': 1074, 'obsess': 1075, 'tradit': 1076, 'grade': 1077, '60': 1078, 'asid': 1079, 'brutal': 1080, 'somewher': 1081, 'steve': 1082, 'depress': 1083, 'explor': 1084, 'grant': 1085, 'opportun': 1086, 'rule': 1087, 'besid': 1088, 'honest': 1089, 'anti': 1090, 'dub': 1091, 'intend': 1092, 'trailer': 1093, 'bar': 1094, 'longer': 1095, 'regard': 1096, 'scientist': 1097, 'west': 1098, 'decad': 1099, 'judg': 1100, 'silent': 1101, 'armi': 1102, 'creativ': 1103, 'wild': 1104, 'south': 1105, 'stewart': 1106, 'draw': 1107, 'road': 1108, 'govern': 1109, 'boss': 1110, 'ex': 1111, 'practic': 1112, 'club': 1113, 'festiv': 1114, 'gang': 1115, 'motiv': 1116, 'surprisingli': 1117, 'green': 1118, 'london': 1119, 'page': 1120, 'redeem': 1121, 'aliv': 1122, 'display': 1123, 'idiot': 1124, 'machin': 1125, 'militari': 1126, 'repeat': 1127, 'thrill': 1128, '100': 1129, 'folk': 1130, 'nobodi': 1131, 'yeah': 1132, '40': 1133, 'garbag': 1134, 'journey': 1135, 'ground': 1136, 'smile': 1137, 'tire': 1138, 'bought': 1139, 'mood': 1140, 'cost': 1141, 'sam': 1142, 'stone': 1143, 'mouth': 1144, 'noir': 1145, 'agent': 1146, 'terrif': 1147, 'requir': 1148, 'utterli': 1149, 'area': 1150, 'honestli': 1151, 'sexi': 1152, 'geniu': 1153, 'report': 1154, 'enter': 1155, 'glad': 1156, 'humour': 1157, 'investig': 1158, 'serial': 1159, 'narr': 1160, 'occasion': 1161, 'passion': 1162, 'climax': 1163, 'marriag': 1164, 'industri': 1165, 'studi': 1166, 'center': 1167, 'charli': 1168, 'demon': 1169, 'nowher': 1170, 'ship': 1171, 'bear': 1172, 'hors': 1173, 'loos': 1174, 'hang': 1175, 'wow': 1176, 'graphic': 1177, 'admir': 1178, 'giant': 1179, 'send': 1180, 'damn': 1181, 'loud': 1182, 'nake': 1183, 'profession': 1184, 'rel': 1185, 'subtl': 1186, 'blow': 1187, 'bottom': 1188, 'batman': 1189, 'insult': 1190, 'boyfriend': 1191, 'doubl': 1192, 'kelli': 1193, 'initi': 1194, 'frame': 1195, 'gem': 1196, 'opera': 1197, 'affect': 1198, 'challeng': 1199, 'church': 1200, 'cinemat': 1201, 'drawn': 1202, 'evid': 1203, 'fulli': 1204, 'nightmar': 1205, 'seek': 1206, 'arm': 1207, 'conflict': 1208, 'essenti': 1209, 'christoph': 1210, 'grace': 1211, 'henri': 1212, 'wind': 1213, 'assum': 1214, 'narrat': 1215, 'witch': 1216, 'hunt': 1217, 'push': 1218, 'chri': 1219, 'wise': 1220, 'month': 1221, 'nomin': 1222, 'repres': 1223, 'affair': 1224, 'avail': 1225, 'hide': 1226, 'sceneri': 1227, 'bond': 1228, 'justic': 1229, 'smart': 1230, 'thu': 1231, 'flashback': 1232, 'interview': 1233, 'outstand': 1234, 'constantli': 1235, 'presenc': 1236, 'satisfi': 1237, 'bed': 1238, 'central': 1239, 'content': 1240, 'iron': 1241, 'sell': 1242, 'everybodi': 1243, 'gag': 1244, 'hotel': 1245, 'slowli': 1246, 'hire': 1247, 'system': 1248, 'adam': 1249, 'charl': 1250, 'hey': 1251, 'individu': 1252, 'thrown': 1253, 'allen': 1254, 'jone': 1255, 'mediocr': 1256, 'billi': 1257, 'lesson': 1258, 'ray': 1259, 'cameo': 1260, 'photographi': 1261, 'fellow': 1262, 'pari': 1263, 'strike': 1264, 'absurd': 1265, 'brief': 1266, 'independ': 1267, 'rise': 1268, 'neg': 1269, 'impact': 1270, 'phone': 1271, 'born': 1272, 'ill': 1273, 'model': 1274, 'angl': 1275, 'fresh': 1276, 'spoil': 1277, 'abus': 1278, 'likabl': 1279, 'discuss': 1280, 'hill': 1281, 'ahead': 1282, 'sight': 1283, 'photograph': 1284, 'sent': 1285, 'blame': 1286, 'logic': 1287, 'occur': 1288, 'shine': 1289, 'bruce': 1290, 'mainli': 1291, 'commerci': 1292, 'forev': 1293, 'skip': 1294, 'held': 1295, 'segment': 1296, 'surround': 1297, 'teacher': 1298, 'blond': 1299, 'zero': 1300, 'resembl': 1301, 'satir': 1302, 'summer': 1303, 'trap': 1304, 'ball': 1305, 'fool': 1306, 'queen': 1307, 'six': 1308, 'sub': 1309, 'tragedi': 1310, 'twice': 1311, 'pack': 1312, 'reaction': 1313, 'bomb': 1314, 'hospit': 1315, 'protagonist': 1316, 'will': 1317, 'mile': 1318, 'sport': 1319, 'drink': 1320, 'jerri': 1321, 'mom': 1322, 'trust': 1323, 'vote': 1324, 'encount': 1325, 'plane': 1326, 'al': 1327, 'current': 1328, 'program': 1329, 'station': 1330, 'celebr': 1331, 'choos': 1332, 'martin': 1333, 'join': 1334, 'favourit': 1335, 'field': 1336, 'lord': 1337, 'round': 1338, 'tragic': 1339, 'jean': 1340, 'robot': 1341, 'vision': 1342, 'arthur': 1343, 'tie': 1344, 'fortun': 1345, 'random': 1346, 'roger': 1347, 'dread': 1348, 'intern': 1349, 'psycholog': 1350, 'epic': 1351, 'improv': 1352, 'nonsens': 1353, 'prefer': 1354, 'formula': 1355, 'highlight': 1356, 'legend': 1357, 'pleasur': 1358, '11': 1359, 'dollar': 1360, 'tape': 1361, 'fox': 1362, 'gorgeou': 1363, 'object': 1364, 'porn': 1365, 'thin': 1366, 'wide': 1367, 'buddi': 1368, 'influenc': 1369, 'ugli': 1370, 'ii': 1371, 'nasti': 1372, 'prepar': 1373, 'progress': 1374, 'reflect': 1375, 'supposedli': 1376, 'warm': 1377, 'worthi': 1378, 'youth': 1379, 'latter': 1380, 'length': 1381, 'unusu': 1382, 'crash': 1383, 'childhood': 1384, 'seven': 1385, 'shop': 1386, 'superior': 1387, 'remot': 1388, 'theatr': 1389, 'disgust': 1390, 'funniest': 1391, 'paid': 1392, 'pilot': 1393, 'castl': 1394, 'convers': 1395, 'fell': 1396, 'trick': 1397, 'disast': 1398, 'establish': 1399, 'gangster': 1400, 'rob': 1401, 'disappear': 1402, 'heaven': 1403, 'ident': 1404, 'mine': 1405, 'suicid': 1406, 'decis': 1407, 'forgotten': 1408, 'heroin': 1409, 'mask': 1410, 'singer': 1411, 'tend': 1412, 'brian': 1413, 'partner': 1414, 'alan': 1415, 'desert': 1416, 'recogn': 1417, 'ms': 1418, 'sky': 1419, 'stuck': 1420, 'thoroughli': 1421, 'accur': 1422, 'replac': 1423, 'market': 1424, 'andi': 1425, 'clue': 1426, 'commentari': 1427, 'danni': 1428, 'eddi': 1429, 'seemingli': 1430, 'uncl': 1431, 'devil': 1432, 'jackson': 1433, 'pair': 1434, 'refus': 1435, 'that': 1436, 'therefor': 1437, 'accid': 1438, 'ed': 1439, 'fate': 1440, 'fault': 1441, 'river': 1442, 'unit': 1443, 'afraid': 1444, 'tune': 1445, 'clean': 1446, 'hidden': 1447, 'russian': 1448, 'stephen': 1449, 'captain': 1450, 'convey': 1451, 'instanc': 1452, 'irrit': 1453, 'quick': 1454, 'readi': 1455, 'test': 1456, 'european': 1457, 'daniel': 1458, 'frustrat': 1459, 'insan': 1460, '1950': 1461, 'chines': 1462, 'food': 1463, 'rescu': 1464, 'wed': 1465, 'angri': 1466, 'dirti': 1467, 'lock': 1468, 'joy': 1469, 'price': 1470, 'steven': 1471, 'bland': 1472, 'cage': 1473, 'anymor': 1474, 'rang': 1475, 'wooden': 1476, 'jason': 1477, 'news': 1478, 'rush': 1479, '12': 1480, 'board': 1481, 'led': 1482, 'martial': 1483, 'twenti': 1484, 'worri': 1485, 'cgi': 1486, 'hunter': 1487, 'symbol': 1488, 'transform': 1489, 'invent': 1490, 'johnni': 1491, 'onto': 1492, 'piti': 1493, 'sentiment': 1494, 'attitud': 1495, 'explan': 1496, 'process': 1497, 'awar': 1498, 'owner': 1499, 'aim': 1500, 'energi': 1501, 'favor': 1502, 'floor': 1503, 'necessari': 1504, 'target': 1505, 'opposit': 1506, 'religi': 1507, 'blind': 1508, 'chick': 1509, 'insight': 1510, 'window': 1511, 'movement': 1512, 'comparison': 1513, 'deepli': 1514, 'mountain': 1515, 'possess': 1516, 'research': 1517, 'comed': 1518, 'grand': 1519, 'rain': 1520, 'whatsoev': 1521, 'bank': 1522, 'began': 1523, 'mid': 1524, 'shadow': 1525, 'parodi': 1526, 'princ': 1527, 'credibl': 1528, 'friendship': 1529, 'pre': 1530, 'taylor': 1531, 'weapon': 1532, 'dougla': 1533, 'flesh': 1534, 'teach': 1535, 'bloodi': 1536, 'hint': 1537, 'protect': 1538, 'terror': 1539, 'marvel': 1540, 'accord': 1541, 'anybodi': 1542, 'drunk': 1543, 'leader': 1544, 'load': 1545, 'superman': 1546, 'watchabl': 1547, 'brown': 1548, 'freddi': 1549, 'appropri': 1550, 'hitler': 1551, 'jeff': 1552, 'seat': 1553, 'tim': 1554, 'charg': 1555, 'keaton': 1556, 'knock': 1557, 'unknown': 1558, 'villag': 1559, 'empti': 1560, 'enemi': 1561, 'england': 1562, 'media': 1563, 'unnecessari': 1564, 'buck': 1565, 'craft': 1566, 'dare': 1567, 'perspect': 1568, 'strength': 1569, 'utter': 1570, 'wave': 1571, 'contrast': 1572, 'correct': 1573, 'ford': 1574, 'kiss': 1575, 'nativ': 1576, 'anywher': 1577, 'chill': 1578, 'distract': 1579, 'knowledg': 1580, 'magnific': 1581, 'nazi': 1582, 'soap': 1583, 'speed': 1584, '1980': 1585, 'breath': 1586, 'fred': 1587, 'ice': 1588, 'mission': 1589, 'crowd': 1590, 'joan': 1591, 'jr': 1592, 'moon': 1593, '000': 1594, 'frighten': 1595, 'kate': 1596, 'soft': 1597, 'dan': 1598, 'dick': 1599, 'hundr': 1600, 'nick': 1601, 'dozen': 1602, 'radio': 1603, 'simon': 1604, 'somebodi': 1605, 'academi': 1606, 'andrew': 1607, 'loss': 1608, 'shakespear': 1609, 'thousand': 1610, 'account': 1611, 'quot': 1612, 'root': 1613, 'sum': 1614, 'vehicl': 1615, '1970': 1616, 'behavior': 1617, 'convent': 1618, 'leg': 1619, 'gold': 1620, 'regular': 1621, 'compet': 1622, 'demand': 1623, 'pretenti': 1624, 'worker': 1625, 'candi': 1626, 'explos': 1627, 'interpret': 1628, 'japan': 1629, 'lynch': 1630, 'notabl': 1631, 'privat': 1632, 'stretch': 1633, 'constant': 1634, 'debut': 1635, 'tarzan': 1636, 'prais': 1637, 'revolv': 1638, 'sea': 1639, 'spi': 1640, 'translat': 1641, 'ass': 1642, 'failur': 1643, 'franc': 1644, 'jesu': 1645, 'quiet': 1646, 'sat': 1647, 'technolog': 1648, 'threaten': 1649, 'aid': 1650, 'higher': 1651, 'kevin': 1652, 'met': 1653, 'punch': 1654, 'toy': 1655, 'abandon': 1656, 'interact': 1657, 'mike': 1658, 'vh': 1659, 'bet': 1660, 'command': 1661, 'confront': 1662, 'separ': 1663, 'belong': 1664, 'gotten': 1665, 'recal': 1666, 'servic': 1667, 'site': 1668, 'stunt': 1669, 'techniqu': 1670, 'bug': 1671, 'cabl': 1672, 'foot': 1673, 'freak': 1674, 'african': 1675, 'bright': 1676, 'capabl': 1677, 'fu': 1678, 'jimmi': 1679, 'boat': 1680, 'clark': 1681, 'fat': 1682, 'presid': 1683, 'stock': 1684, 'succeed': 1685, 'gene': 1686, 'spanish': 1687, 'structur': 1688, 'kidnap': 1689, 'paper': 1690, 'belief': 1691, 'factor': 1692, 'whilst': 1693, 'attend': 1694, 'bob': 1695, 'complic': 1696, 'educ': 1697, 'realis': 1698, 'realism': 1699, 'tree': 1700, 'witti': 1701, 'assist': 1702, 'broken': 1703, 'finest': 1704, 'santa': 1705, 'depart': 1706, 'determin': 1707, 'observ': 1708, 'smoke': 1709, 'up': 1710, 'domin': 1711, 'fame': 1712, 'hat': 1713, 'lewi': 1714, 'oper': 1715, 'routin': 1716, 'rubbish': 1717, 'advanc': 1718, 'foreign': 1719, 'hook': 1720, 'kinda': 1721, 'lone': 1722, 'morgan': 1723, 'safe': 1724, 'numer': 1725, 'rank': 1726, 'civil': 1727, 'rose': 1728, 'shallow': 1729, 'shape': 1730, 'vs': 1731, 'washington': 1732, 'werewolf': 1733, 'gari': 1734, 'morn': 1735, 'accomplish': 1736, 'kong': 1737, 'ordinari': 1738, 'winner': 1739, 'grab': 1740, 'peac': 1741, 'virtual': 1742, 'whenev': 1743, 'luck': 1744, 'offens': 1745, 'activ': 1746, 'bigger': 1747, 'complain': 1748, 'contriv': 1749, 'patient': 1750, 'unfunni': 1751, 'welcom': 1752, 'con': 1753, 'dimension': 1754, 'pretend': 1755, 'trek': 1756, 'cain': 1757, 'code': 1758, 'dri': 1759, 'eric': 1760, 'flash': 1761, 'lesbian': 1762, 'wake': 1763, 'albert': 1764, 'corrupt': 1765, 'dancer': 1766, 'guard': 1767, 'manipul': 1768, 'statu': 1769, 'awkward': 1770, 'context': 1771, 'gain': 1772, 'signific': 1773, 'sourc': 1774, 'speech': 1775, '13': 1776, 'anthoni': 1777, 'clip': 1778, 'corni': 1779, 'psycho': 1780, 'sean': 1781, 'advic': 1782, 'curiou': 1783, 'priest': 1784, 'reli': 1785, 'religion': 1786, 'theatric': 1787, 'addict': 1788, 'flow': 1789, 'asian': 1790, 'howard': 1791, 'jennif': 1792, 'secur': 1793, 'skin': 1794, 'specif': 1795, 'comfort': 1796, 'core': 1797, 'golden': 1798, 'luke': 1799, 'organ': 1800, 'promot': 1801, 'cash': 1802, 'cheat': 1803, 'lucki': 1804, 'associ': 1805, 'dislik': 1806, 'lower': 1807, 'balanc': 1808, 'contribut': 1809, 'degre': 1810, 'devic': 1811, 'frankli': 1812, 'frequent': 1813, 'regret': 1814, 'spell': 1815, 'wing': 1816, 'forgiv': 1817, 'lake': 1818, 'print': 1819, 'sake': 1820, 'betti': 1821, 'mass': 1822, 'thoma': 1823, 'crack': 1824, 'gordon': 1825, 'unexpect': 1826, 'amateur': 1827, 'categori': 1828, 'construct': 1829, 'depend': 1830, 'grown': 1831, 'invit': 1832, 'unfold': 1833, 'anna': 1834, 'condit': 1835, 'grew': 1836, 'honor': 1837, 'intellectu': 1838, 'matur': 1839, 'walter': 1840, 'mirror': 1841, 'sole': 1842, 'spectacular': 1843, 'sudden': 1844, 'veteran': 1845, 'card': 1846, 'demonstr': 1847, 'experienc': 1848, 'freedom': 1849, 'gift': 1850, 'grip': 1851, 'liner': 1852, 'meanwhil': 1853, 'overli': 1854, 'robin': 1855, 'brilliantli': 1856, 'circumst': 1857, 'colour': 1858, 'crappi': 1859, 'drew': 1860, 'oliv': 1861, 'section': 1862, 'sheriff': 1863, 'subtitl': 1864, 'theori': 1865, 'unabl': 1866, 'altern': 1867, 'cook': 1868, 'laughter': 1869, 'matt': 1870, 'parker': 1871, 'path': 1872, 'pile': 1873, 'sheer': 1874, 'accident': 1875, 'defin': 1876, 'hall': 1877, 'lawyer': 1878, 'relief': 1879, 'sinatra': 1880, 'treatment': 1881, 'wander': 1882, 'captiv': 1883, 'dragon': 1884, 'hank': 1885, 'gratuit': 1886, 'halloween': 1887, 'moor': 1888, 'barbara': 1889, 'broadway': 1890, 'cowboy': 1891, 'jacki': 1892, 'kung': 1893, 'unintent': 1894, 'wayn': 1895, 'wound': 1896, 'canadian': 1897, 'spoof': 1898, 'statement': 1899, 'surreal': 1900, 'winter': 1901, 'cheer': 1902, 'compos': 1903, 'fare': 1904, 'fish': 1905, 'gonna': 1906, 'treasur': 1907, 'emerg': 1908, 'sensit': 1909, 'unrealist': 1910, 'victor': 1911, 'woodi': 1912, 'driven': 1913, 'neighbor': 1914, 'ran': 1915, 'sympathet': 1916, 'authent': 1917, 'expos': 1918, 'glass': 1919, 'menac': 1920, 'overlook': 1921, 'topic': 1922, 'ancient': 1923, 'chief': 1924, 'gross': 1925, 'handsom': 1926, 'michel': 1927, 'built': 1928, 'cinderella': 1929, 'comedian': 1930, 'contemporari': 1931, 'feet': 1932, 'network': 1933, 'nevertheless': 1934, 'pleasant': 1935, 'russel': 1936, 'stranger': 1937, 'blockbust': 1938, 'consider': 1939, 'earn': 1940, 'endless': 1941, 'gori': 1942, 'letter': 1943, 'miser': 1944, 'underr': 1945, 'brook': 1946, 'solv': 1947, 'switch': 1948, 'bullet': 1949, 'convict': 1950, 'edward': 1951, 'joseph': 1952, 'victoria': 1953, 'virgin': 1954, 'alex': 1955, 'chosen': 1956, 'cynic': 1957, 'scale': 1958, 'scenario': 1959, 'com': 1960, 'curs': 1961, 'gut': 1962, 'outrag': 1963, 'sword': 1964, 'driver': 1965, 'juli': 1966, 'monkey': 1967, 'proper': 1968, 'screenwrit': 1969, 'substanc': 1970, 'uk': 1971, 'wrap': 1972, 'bird': 1973, 'court': 1974, 'indic': 1975, 'par': 1976, 'remov': 1977, 'advertis': 1978, 'consequ': 1979, 'grave': 1980, 'inevit': 1981, 'loser': 1982, 'naiv': 1983, 'nanci': 1984, 'rental': 1985, 'roy': 1986, 'brave': 1987, 'bridg': 1988, 'fatal': 1989, 'germani': 1990, 'invis': 1991, 'le': 1992, 'slap': 1993, 'ador': 1994, 'anger': 1995, 'footbal': 1996, 'loui': 1997, 'provok': 1998, 'alcohol': 1999, 'anderson': 2000, 'chan': 2001, 'professor': 2002, 'ryan': 2003, 'stumbl': 2004, 'willi': 2005, '1930': 2006, 'assassin': 2007, 'australian': 2008, 'bat': 2009, 'patrick': 2010, 'sharp': 2011, 'amateurish': 2012, 'ape': 2013, 'cell': 2014, 'deni': 2015, 'eight': 2016, 'heck': 2017, 'liber': 2018, 'lousi': 2019, 'refresh': 2020, 'saturday': 2021, 'strongli': 2022, 'trilog': 2023, 'sin': 2024, 'justifi': 2025, 'resid': 2026, 'san': 2027, 'vagu': 2028, 'creator': 2029, 'defeat': 2030, 'indi': 2031, 'mini': 2032, 'reput': 2033, 'sympathi': 2034, 'terrifi': 2035, 'endur': 2036, 'expert': 2037, 'prevent': 2038, 'tabl': 2039, 'task': 2040, 'tediou': 2041, 'basebal': 2042, 'che': 2043, 'employ': 2044, 'imit': 2045, 'offend': 2046, 'rival': 2047, 'trial': 2048, 'beach': 2049, 'complaint': 2050, 'dig': 2051, 'europ': 2052, 'fairi': 2053, 'max': 2054, 'pitch': 2055, 'weekend': 2056, 'format': 2057, 'murphi': 2058, 'purchas': 2059, 'risk': 2060, 'bite': 2061, 'glimps': 2062, 'harsh': 2063, 'hype': 2064, 'nois': 2065, 'powel': 2066, 'reminisc': 2067, 'tini': 2068, 'titan': 2069, '14': 2070, 'asleep': 2071, 'fals': 2072, 'north': 2073, 'prime': 2074, 'strip': 2075, 'till': 2076, 'africa': 2077, 'descript': 2078, 'destruct': 2079, 'revel': 2080, 'texa': 2081, 'arrest': 2082, 'excess': 2083, 'inner': 2084, 'semi': 2085, 'sitcom': 2086, 'spin': 2087, 'surfac': 2088, 'uninterest': 2089, 'argu': 2090, 'controversi': 2091, 'dinosaur': 2092, 'hitchcock': 2093, 'maintain': 2094, 'makeup': 2095, 'massiv': 2096, 'twin': 2097, 'expens': 2098, 'ideal': 2099, 'insist': 2100, 'kim': 2101, 'ludicr': 2102, 'melodrama': 2103, 'reject': 2104, 'stare': 2105, 'ala': 2106, 'atroci': 2107, 'columbo': 2108, 'erot': 2109, 'forest': 2110, 'ga': 2111, 'host': 2112, 'nail': 2113, 'press': 2114, 'subplot': 2115, 'supernatur': 2116, 'cant': 2117, 'dude': 2118, 'identifi': 2119, 'notch': 2120, 'presum': 2121, 'character': 2122, 'closer': 2123, 'crude': 2124, 'forgett': 2125, 'guest': 2126, 'method': 2127, 'plagu': 2128, 'beast': 2129, 'border': 2130, 'ear': 2131, 'foster': 2132, 'landscap': 2133, 'lion': 2134, 'princess': 2135, 'accus': 2136, 'aunt': 2137, 'birth': 2138, 'bound': 2139, 'damag': 2140, 'jungl': 2141, 'pacino': 2142, 'previous': 2143, 'storytel': 2144, 'urban': 2145, 'chose': 2146, 'doll': 2147, 'emma': 2148, 'guid': 2149, 'jess': 2150, 'nude': 2151, 'propaganda': 2152, 'thirti': 2153, '25': 2154, 'mainstream': 2155, 'mate': 2156, 'pet': 2157, 'warrior': 2158, 'whoever': 2159, 'cooper': 2160, 'deadli': 2161, 'exact': 2162, 'friday': 2163, 'gritti': 2164, 'latest': 2165, 'merit': 2166, 'poster': 2167, 'size': 2168, 'upset': 2169, '1990': 2170, 'blend': 2171, 'buff': 2172, 'citizen': 2173, 'contact': 2174, 'contest': 2175, 'corps': 2176, 'popul': 2177, 'rough': 2178, 'settl': 2179, 'sun': 2180, 'ton': 2181, 'warner': 2182, 'wilson': 2183, 'alic': 2184, 'bu': 2185, 'environ': 2186, 'metal': 2187, 'mgm': 2188, 'overcom': 2189, 'pitt': 2190, 'rat': 2191, 'select': 2192, 'widow': 2193, 'guilti': 2194, 'lift': 2195, 'link': 2196, 'particip': 2197, 'revolut': 2198, 'ted': 2199, '1960': 2200, 'accompani': 2201, 'afternoon': 2202, 'corner': 2203, 'corpor': 2204, 'exagger': 2205, 'johnson': 2206, 'matrix': 2207, 'moron': 2208, 'prostitut': 2209, 'clair': 2210, 'doom': 2211, 'friendli': 2212, 'holm': 2213, 'hood': 2214, 'instal': 2215, 'leagu': 2216, 'multipl': 2217, 'sincer': 2218, 'advis': 2219, 'aka': 2220, 'blah': 2221, 'campi': 2222, 'defend': 2223, 'examin': 2224, 'grim': 2225, 'hip': 2226, 'irish': 2227, 'junk': 2228, 'lugosi': 2229, 'string': 2230, 'sunday': 2231, 'confid': 2232, 'icon': 2233, 'pro': 2234, 'rachel': 2235, 'shake': 2236, 'shut': 2237, 'tight': 2238, 'varieti': 2239, 'attach': 2240, 'denni': 2241, 'directli': 2242, 'goal': 2243, 'jaw': 2244, 'medic': 2245, 'mexican': 2246, 'sullivan': 2247, 'bourn': 2248, 'breast': 2249, 'courag': 2250, 'dean': 2251, 'duke': 2252, 'legendari': 2253, 'prior': 2254, 'sarah': 2255, 'sentenc': 2256, 'terrorist': 2257, 'truck': 2258, 'vietnam': 2259, 'behav': 2260, 'donald': 2261, 'entri': 2262, 'hong': 2263, 'nose': 2264, 'proceed': 2265, 'split': 2266, 'un': 2267, 'yell': 2268, 'borrow': 2269, 'buri': 2270, 'concentr': 2271, 'confess': 2272, 'crush': 2273, 'everywher': 2274, 'forth': 2275, 'gather': 2276, 'jerk': 2277, 'lifetim': 2278, 'stolen': 2279, 'swim': 2280, 'unconvinc': 2281, 'california': 2282, 'deliveri': 2283, 'julia': 2284, 'lip': 2285, 'pan': 2286, 'spite': 2287, 'turkey': 2288, 'china': 2289, 'downright': 2290, 'flight': 2291, 'freeman': 2292, 'hoffman': 2293, 'offici': 2294, 'proud': 2295, 'quest': 2296, 'reward': 2297, 'betray': 2298, 'encourag': 2299, 'fabul': 2300, 'fade': 2301, 'inept': 2302, 'jail': 2303, 'jon': 2304, 'lazi': 2305, 'notori': 2306, 'sink': 2307, 'sir': 2308, 'worthwhil': 2309, 'bag': 2310, 'bell': 2311, 'branagh': 2312, 'cousin': 2313, 'imageri': 2314, 'lisa': 2315, 'relev': 2316, 'retard': 2317, 'shower': 2318, 'storm': 2319, 'survivor': 2320, 'susan': 2321, 'teeth': 2322, 'alright': 2323, 'bride': 2324, 'facial': 2325, 'finger': 2326, 'hugh': 2327, 'mexico': 2328, 'quirki': 2329, 'shark': 2330, 'stab': 2331, 'summari': 2332, 'toler': 2333, 'trade': 2334, 'tremend': 2335, 'bitter': 2336, 'blown': 2337, 'ha': 2338, 'hyster': 2339, 'pose': 2340, 'von': 2341, 'address': 2342, 'afterward': 2343, 'bone': 2344, 'christ': 2345, 'cruel': 2346, 'larri': 2347, 'ned': 2348, 'ron': 2349, 'scheme': 2350, 'beg': 2351, 'distinct': 2352, 'feed': 2353, 'pursu': 2354, 'screw': 2355, 'snake': 2356, 'swear': 2357, 'thumb': 2358, 'tour': 2359, 'traci': 2360, 'chair': 2361, 'mechan': 2362, 'obscur': 2363, 'occas': 2364, 'photo': 2365, 'raw': 2366, 'stomach': 2367, 'argument': 2368, 'cabin': 2369, 'chain': 2370, 'gruesom': 2371, 'hardi': 2372, 'heavili': 2373, 'holiday': 2374, 'necessarili': 2375, 'render': 2376, 'resist': 2377, 'sidney': 2378, 'southern': 2379, 'india': 2380, 'indulg': 2381, 'philip': 2382, 'racist': 2383, 'satan': 2384, 'understood': 2385, 'belov': 2386, 'forgot': 2387, 'fourth': 2388, 'integr': 2389, 'lay': 2390, 'midnight': 2391, 'obnoxi': 2392, 'outfit': 2393, 'pregnant': 2394, 'stalk': 2395, 'tongu': 2396, '17': 2397, 'carol': 2398, 'deeper': 2399, 'garden': 2400, 'inhabit': 2401, 'magazin': 2402, 'restor': 2403, 'slapstick': 2404, 'ticket': 2405, 'brad': 2406, 'devot': 2407, 'incid': 2408, 'lincoln': 2409, 'shoe': 2410, 'anticip': 2411, 'benefit': 2412, 'disbelief': 2413, 'divorc': 2414, 'elizabeth': 2415, 'guarante': 2416, 'lili': 2417, 'maria': 2418, 'sandler': 2419, 'underground': 2420, 'amazingli': 2421, 'bbc': 2422, 'capit': 2423, 'creation': 2424, 'cring': 2425, 'explod': 2426, 'greater': 2427, 'mildli': 2428, 'princip': 2429, 'slave': 2430, 'extraordinari': 2431, 'funnier': 2432, 'halfway': 2433, 'introduct': 2434, 'lesli': 2435, 'advantag': 2436, 'enhanc': 2437, 'extent': 2438, 'overwhelm': 2439, 'punish': 2440, 'tap': 2441, 'text': 2442, 'transfer': 2443, 'wreck': 2444, 'deliber': 2445, 'dynam': 2446, 'east': 2447, 'error': 2448, 'horrif': 2449, 'jessica': 2450, 'lane': 2451, 'lo': 2452, 'plant': 2453, 'preview': 2454, '2000': 2455, 'appli': 2456, 'basi': 2457, 'ensu': 2458, 'homosexu': 2459, 'miller': 2460, 'miscast': 2461, 'sophist': 2462, 'vacat': 2463, 'vincent': 2464, 'bollywood': 2465, 'elev': 2466, 'extend': 2467, 'mansion': 2468, 'measur': 2469, 'reed': 2470, 'sleazi': 2471, 'spoken': 2472, 'steel': 2473, 'uncomfort': 2474, 'via': 2475, 'alter': 2476, 'assign': 2477, 'beer': 2478, 'blair': 2479, 'breathtak': 2480, 'cathol': 2481, 'conceiv': 2482, 'daili': 2483, 'dentist': 2484, 'fix': 2485, 'goofi': 2486, 'hippi': 2487, 'melt': 2488, 'mous': 2489, 'overact': 2490, 'savag': 2491, 'stanley': 2492, 'burt': 2493, 'carpent': 2494, 'everyday': 2495, 'inspector': 2496, 'nowaday': 2497, 'oppos': 2498, 'properli': 2499, 'sacrific': 2500, 'subsequ': 2501, 'succe': 2502, 'block': 2503, 'circl': 2504, 'laura': 2505, 'massacr': 2506, 'neck': 2507, 'access': 2508, 'christi': 2509, 'concert': 2510, 'fallen': 2511, 'fay': 2512, 'grey': 2513, 'lesser': 2514, 'mob': 2515, 'pool': 2516, 'portrait': 2517, 'seagal': 2518, 'chees': 2519, 'competit': 2520, 'isol': 2521, 'jake': 2522, 'jewish': 2523, 'react': 2524, 'relax': 2525, 'sinist': 2526, 'usa': 2527, '2006': 2528, 'appal': 2529, 'chop': 2530, 'creep': 2531, 'immens': 2532, 'ironi': 2533, 'lyric': 2534, 'nine': 2535, 'nonetheless': 2536, 'spiritu': 2537, 'stink': 2538, 'suitabl': 2539, 'adopt': 2540, 'franchis': 2541, 'luci': 2542, 'navi': 2543, 'needless': 2544, 'nut': 2545, 'rage': 2546, 'reduc': 2547, 'retir': 2548, 'shirt': 2549, 'showcas': 2550, 'sold': 2551, 'spring': 2552, 'user': 2553, 'asham': 2554, 'bath': 2555, 'bulli': 2556, 'digit': 2557, 'jay': 2558, 'nurs': 2559, 'per': 2560, 'stanwyck': 2561, 'uninspir': 2562, 'zone': 2563, '1940': 2564, '2001': 2565, 'amongst': 2566, 'broadcast': 2567, 'illustr': 2568, 'laid': 2569, 'oddli': 2570, 'sutherland': 2571, 'upper': 2572, 'aspir': 2573, 'baker': 2574, 'brando': 2575, 'disguis': 2576, 'fulfil': 2577, 'stylish': 2578, 'throat': 2579, '18': 2580, 'em': 2581, 'endear': 2582, 'impli': 2583, 'neighborhood': 2584, 'nobl': 2585, 'pound': 2586, 'pride': 2587, 'thief': 2588, 'wanna': 2589, 'wwii': 2590, '16': 2591, 'albeit': 2592, 'bett': 2593, 'bo': 2594, 'cinematograph': 2595, 'coher': 2596, 'dawn': 2597, 'dinner': 2598, 'diseas': 2599, 'distribut': 2600, 'prop': 2601, 'rochest': 2602, 'shift': 2603, 'shoulder': 2604, 'tens': 2605, 'contract': 2606, 'forti': 2607, 'function': 2608, 'knife': 2609, 'matthau': 2610, 'poignant': 2611, 'rebel': 2612, 'shout': 2613, 'silenc': 2614, 'snow': 2615, 'surf': 2616, 'wash': 2617, 'cancel': 2618, 'cannib': 2619, 'chuck': 2620, 'derek': 2621, 'duti': 2622, 'eeri': 2623, 'elvira': 2624, 'heat': 2625, 'height': 2626, 'henc': 2627, 'horrend': 2628, 'instinct': 2629, 'internet': 2630, 'mindless': 2631, 'proof': 2632, 'reunion': 2633, 'silver': 2634, 'widmark': 2635, 'absorb': 2636, 'alik': 2637, 'elvi': 2638, 'etern': 2639, 'glori': 2640, 'greatli': 2641, 'incoher': 2642, 'innov': 2643, 'mill': 2644, 'musician': 2645, 'neat': 2646, 'pie': 2647, 'premier': 2648, 'repetit': 2649, 'spielberg': 2650, 'torn': 2651, 'announc': 2652, 'bang': 2653, 'blank': 2654, 'britain': 2655, 'burton': 2656, 'crisi': 2657, 'diamond': 2658, 'fbi': 2659, 'homag': 2660, 'horrifi': 2661, 'infam': 2662, 'itali': 2663, 'lovabl': 2664, 'nelson': 2665, 'precis': 2666, 'racism': 2667, 'redempt': 2668, 'trite': 2669, 'wealthi': 2670, 'chaplin': 2671, 'dedic': 2672, 'ensembl': 2673, 'flop': 2674, 'hammer': 2675, 'happili': 2676, 'helen': 2677, 'parallel': 2678, 'pat': 2679, 'resolut': 2680, 'streisand': 2681, 'wilder': 2682, 'broke': 2683, 'carter': 2684, 'conclud': 2685, 'cube': 2686, 'disagre': 2687, 'factori': 2688, 'mar': 2689, 'oil': 2690, 'plastic': 2691, 'st': 2692, 'triumph': 2693, 'bush': 2694, 'chuckl': 2695, 'climb': 2696, 'fighter': 2697, 'march': 2698, 'own': 2699, 'rocket': 2700, 'row': 2701, 'vega': 2702, 'weight': 2703, 'boot': 2704, 'dane': 2705, 'dump': 2706, 'enorm': 2707, 'kurt': 2708, 'luca': 2709, 'lust': 2710, 'meaning': 2711, 'mst3k': 2712, 'sensibl': 2713, 'spare': 2714, 'thug': 2715, 'unforgett': 2716, 'wherea': 2717, 'adequ': 2718, 'arnold': 2719, 'bobbi': 2720, 'brand': 2721, 'butt': 2722, 'caricatur': 2723, 'dear': 2724, 'difficulti': 2725, 'engin': 2726, 'fifti': 2727, 'karloff': 2728, 'rap': 2729, 'stress': 2730, 'threat': 2731, 'arrog': 2732, 'barri': 2733, 'ego': 2734, 'elabor': 2735, 'fest': 2736, 'flynn': 2737, 'hamlet': 2738, 'homeless': 2739, 'journalist': 2740, 'polish': 2741, 'ralph': 2742, 'secretari': 2743, 'swing': 2744, 'arrang': 2745, 'conspiraci': 2746, 'fanci': 2747, 'float': 2748, 'grate': 2749, 'induc': 2750, 'puppet': 2751, 'resort': 2752, 'simpson': 2753, 'spike': 2754, 'tool': 2755, 'unbear': 2756, 'basement': 2757, 'boll': 2758, 'choreograph': 2759, 'cruis': 2760, 'exercis': 2761, 'guilt': 2762, 'muppet': 2763, 'phillip': 2764, 'pig': 2765, 'tribut': 2766, '24': 2767, 'babe': 2768, 'document': 2769, 'editor': 2770, 'fianc': 2771, 'file': 2772, 'ham': 2773, 'item': 2774, 'korean': 2775, 'layer': 2776, 'medium': 2777, 'puzzl': 2778, 'scarecrow': 2779, 'slip': 2780, 'stan': 2781, 'toilet': 2782, 'tower': 2783, 'ward': 2784, 'assur': 2785, 'catherin': 2786, 'denzel': 2787, 'doc': 2788, 'glover': 2789, 'inexplic': 2790, 'larger': 2791, 'librari': 2792, 'minim': 2793, 'orient': 2794, 'persona': 2795, 'philosoph': 2796, 'portion': 2797, 'slaughter': 2798, 'spark': 2799, 'superfici': 2800, 'territori': 2801, 'transit': 2802, 'ban': 2803, 'boredom': 2804, 'curti': 2805, 'dorothi': 2806, 'financi': 2807, 'jeremi': 2808, 'jet': 2809, 'owe': 2810, 'pg': 2811, 'shi': 2812, 'sneak': 2813, 'walken': 2814, 'wolf': 2815, 'ambigu': 2816, 'backdrop': 2817, 'cusack': 2818, 'eleph': 2819, 'hudson': 2820, 'metaphor': 2821, 'multi': 2822, 'profound': 2823, 'whale': 2824, '2005': 2825, 'birthday': 2826, 'elsewher': 2827, 'gadget': 2828, 'hack': 2829, 'implaus': 2830, 'notion': 2831, 'rave': 2832, 'stiff': 2833, 'ultra': 2834, 'union': 2835, 'viru': 2836, '1st': 2837, 'afford': 2838, 'bibl': 2839, 'canada': 2840, 'deriv': 2841, 'disc': 2842, 'distanc': 2843, 'eastwood': 2844, 'eva': 2845, 'hawk': 2846, 'lloyd': 2847, 'newspap': 2848, 'pad': 2849, 'poison': 2850, 'reader': 2851, 'slight': 2852, 'squar': 2853, 'superhero': 2854, 'urg': 2855, 'button': 2856, 'charisma': 2857, 'cure': 2858, 'drown': 2859, 'essenc': 2860, 'health': 2861, 'heston': 2862, 'huh': 2863, 'montag': 2864, 'restaur': 2865, 'sadist': 2866, 'skit': 2867, 'spread': 2868, 'companion': 2869, 'dealt': 2870, 'estat': 2871, 'fetch': 2872, 'godfath': 2873, 'gradual': 2874, 'invest': 2875, 'lab': 2876, 'maniac': 2877, 'muslim': 2878, 'peak': 2879, 'scoobi': 2880, 'alli': 2881, 'countless': 2882, 'cup': 2883, 'gothic': 2884, 'kane': 2885, 'miik': 2886, 'ritter': 2887, 'servant': 2888, 'subtleti': 2889, 'tea': 2890, 'briefli': 2891, 'charismat': 2892, 'elect': 2893, 'electr': 2894, 'heroic': 2895, 'iii': 2896, 'salli': 2897, 'admittedli': 2898, 'bud': 2899, 'cole': 2900, 'grandmoth': 2901, 'ingredi': 2902, 'neil': 2903, 'nuanc': 2904, 'reel': 2905, 'resourc': 2906, 'tender': 2907, 'toss': 2908, 'wannab': 2909, 'carrey': 2910, 'dawson': 2911, 'gate': 2912, 'kubrick': 2913, 'label': 2914, 'mafia': 2915, 'mild': 2916, 'pauli': 2917, 'pit': 2918, 'poverti': 2919, 'punk': 2920, 'reev': 2921, 'shall': 2922, 'stood': 2923, 'stronger': 2924, 'assault': 2925, 'astair': 2926, 'bakshi': 2927, 'burst': 2928, 'cardboard': 2929, 'cox': 2930, 'easier': 2931, 'fond': 2932, 'ian': 2933, 'outcom': 2934, 'smash': 2935, 'smooth': 2936, 'tag': 2937, 'terri': 2938, 'updat': 2939, 'useless': 2940, '2002': 2941, 'coincid': 2942, 'divers': 2943, 'exchang': 2944, 'fist': 2945, 'increasingli': 2946, 'melodramat': 2947, 'qualifi': 2948, 'resolv': 2949, 'rex': 2950, 'samurai': 2951, 'sketch': 2952, 'vari': 2953, 'vulner': 2954, 'be': 2955, 'blast': 2956, 'brillianc': 2957, 'conveni': 2958, 'insert': 2959, 'luckili': 2960, 'reynold': 2961, 'scratch': 2962, 'suspend': 2963, 'tame': 2964, 'templ': 2965, 'ambiti': 2966, 'coach': 2967, 'farm': 2968, 'fisher': 2969, 'gotta': 2970, 'hamilton': 2971, 'jami': 2972, 'matthew': 2973, 'meat': 2974, 'nuclear': 2975, 'pin': 2976, 'seventi': 2977, 'soprano': 2978, 'strictli': 2979, 'walker': 2980, 'brosnan': 2981, 'butcher': 2982, 'cave': 2983, 'clock': 2984, 'closet': 2985, 'convolut': 2986, 'discoveri': 2987, 'eccentr': 2988, 'empir': 2989, 'grasp': 2990, 'instantli': 2991, 'joey': 2992, 'kudo': 2993, 'monk': 2994, 'ninja': 2995, 'recreat': 2996, 'revers': 2997, 'spooki': 2998, 'struck': 2999, 'timeless': 3000, 'worthless': 3001, 'bleak': 3002, 'cliff': 3003, 'clown': 3004, 'communist': 3005, 'declar': 3006, 'eighti': 3007, 'evok': 3008, 'fifteen': 3009, 'gray': 3010, 'importantli': 3011, 'inconsist': 3012, 'miracl': 3013, 'mitchel': 3014, 'norman': 3015, 'pal': 3016, 'partli': 3017, 'selfish': 3018, 'seller': 3019, 'sidekick': 3020, 'sloppi': 3021, 'wipe': 3022, '45': 3023, 'aforement': 3024, 'australia': 3025, 'cheek': 3026, 'chew': 3027, 'debat': 3028, 'destin': 3029, 'enthusiast': 3030, 'farc': 3031, 'flawless': 3032, 'ho': 3033, 'lifestyl': 3034, 'piano': 3035, 'psychiatrist': 3036, 'seed': 3037, 'stoog': 3038, 'superbl': 3039, 'websit': 3040, 'abc': 3041, 'akshay': 3042, 'anni': 3043, 'bash': 3044, 'dash': 3045, 'dire': 3046, 'directori': 3047, 'drivel': 3048, 'emili': 3049, 'incompet': 3050, 'kitchen': 3051, 'pressur': 3052, 'regardless': 3053, 'slice': 3054, 'soviet': 3055, 'splatter': 3056, 'wick': 3057, 'wrestl': 3058, 'artifici': 3059, 'beaten': 3060, 'blob': 3061, 'boil': 3062, 'cagney': 3063, 'cameron': 3064, 'chapter': 3065, 'cia': 3066, 'curios': 3067, 'dave': 3068, 'distant': 3069, 'doo': 3070, 'duo': 3071, 'flower': 3072, 'glow': 3073, 'helicopt': 3074, 'increas': 3075, 'jar': 3076, 'judi': 3077, 'ken': 3078, 'lou': 3079, 'mann': 3080, 'pleasantli': 3081, 'prize': 3082, 'recov': 3083, 'seduc': 3084, 'suppli': 3085, 'combat': 3086, 'craig': 3087, 'craven': 3088, 'drunken': 3089, 'eleg': 3090, 'ellen': 3091, 'favour': 3092, 'francisco': 3093, 'glenn': 3094, 'goldberg': 3095, 'hop': 3096, 'laurel': 3097, 'panic': 3098, 'perri': 3099, 'psychot': 3100, 'ranger': 3101, 'splendid': 3102, 'turner': 3103, 'web': 3104, '20th': 3105, 'alexand': 3106, 'falk': 3107, 'flip': 3108, 'fx': 3109, 'gandhi': 3110, 'gentl': 3111, 'graduat': 3112, 'greek': 3113, 'hatr': 3114, 'min': 3115, 'modesti': 3116, 'philosophi': 3117, 'plausibl': 3118, 'rid': 3119, 'ruth': 3120, 'shortli': 3121, 'slightest': 3122, 'wizard': 3123, 'dracula': 3124, 'felix': 3125, 'fund': 3126, 'futurist': 3127, 'harm': 3128, 'holi': 3129, 'jealou': 3130, 'knight': 3131, 'legal': 3132, 'lend': 3133, 'manhattan': 3134, 'ocean': 3135, 'preciou': 3136, 'tall': 3137, 'unpleas': 3138, 'we': 3139, 'ami': 3140, 'bless': 3141, 'childish': 3142, 'digniti': 3143, 'explicit': 3144, 'forbidden': 3145, 'giallo': 3146, 'mock': 3147, 'nod': 3148, 'overdon': 3149, 'reviv': 3150, 'scientif': 3151, 'tank': 3152, 'thread': 3153, '2004': 3154, '99': 3155, 'awaken': 3156, 'awe': 3157, 'broad': 3158, 'elderli': 3159, 'eve': 3160, 'fever': 3161, 'margaret': 3162, 'mel': 3163, 'nerv': 3164, 'pirat': 3165, 'repeatedli': 3166, 'thick': 3167, 'torment': 3168, 'unwatch': 3169, 'verhoeven': 3170, 'yesterday': 3171, 'absenc': 3172, 'acclaim': 3173, 'ah': 3174, 'ambit': 3175, 'automat': 3176, 'bin': 3177, 'custom': 3178, 'eas': 3179, 'griffith': 3180, 'kay': 3181, 'launch': 3182, 'lean': 3183, 'politician': 3184, 'publish': 3185, 'rivet': 3186, 'roman': 3187, 'romero': 3188, 'royal': 3189, 'stiller': 3190, 'timothi': 3191, 'uniform': 3192, 'antic': 3193, 'bathroom': 3194, 'crook': 3195, 'darker': 3196, 'foul': 3197, 'gabriel': 3198, 'homicid': 3199, 'phrase': 3200, 'pierc': 3201, 'pulp': 3202, 'purpl': 3203, 'stinker': 3204, 'sunshin': 3205, 'termin': 3206, 'tomato': 3207, 'transport': 3208, 'wallac': 3209, 'warren': 3210, '2003': 3211, 'album': 3212, 'awak': 3213, 'brazil': 3214, 'choreographi': 3215, 'coloni': 3216, 'contrari': 3217, 'donna': 3218, 'evolv': 3219, 'eyr': 3220, 'hollow': 3221, 'horrid': 3222, 'juvenil': 3223, 'karen': 3224, 'kenneth': 3225, 'li': 3226, 'marin': 3227, 'ought': 3228, 'packag': 3229, 'pray': 3230, 'prom': 3231, 'rambo': 3232, 'revolutionari': 3233, 'saint': 3234, 'sixti': 3235, 'viciou': 3236, 'beatti': 3237, 'blade': 3238, 'boast': 3239, 'candid': 3240, 'conserv': 3241, 'defi': 3242, 'dose': 3243, 'ireland': 3244, 'kapoor': 3245, 'mildr': 3246, 'mummi': 3247, 'nerd': 3248, 'option': 3249, 'overr': 3250, 'ramon': 3251, 'stole': 3252, 'twelv': 3253, 'altman': 3254, 'astonish': 3255, 'collabor': 3256, 'confirm': 3257, 'detract': 3258, 'flame': 3259, 'fulci': 3260, 'funer': 3261, 'global': 3262, 'jazz': 3263, 'kirk': 3264, 'natali': 3265, 'protest': 3266, 'trio': 3267, 'audio': 3268, 'blake': 3269, 'bottl': 3270, 'bull': 3271, 'delici': 3272, 'destini': 3273, 'enterpris': 3274, 'leap': 3275, 'mystic': 3276, 'nicholson': 3277, 'racial': 3278, 'shade': 3279, 'spit': 3280, 'tommi': 3281, 'whip': 3282, 'yellow': 3283, 'adolesc': 3284, 'altogeth': 3285, 'bedroom': 3286, 'enchant': 3287, 'fonda': 3288, 'harder': 3289, 'inherit': 3290, 'meaningless': 3291, 'merci': 3292, 'neo': 3293, 'popcorn': 3294, 'pseudo': 3295, 'reunit': 3296, 'staff': 3297, 'swedish': 3298, 'threw': 3299, 'todd': 3300, 'visibl': 3301, 'vivid': 3302, 'atlanti': 3303, 'await': 3304, 'befriend': 3305, 'bust': 3306, 'crocodil': 3307, 'decor': 3308, 'edi': 3309, 'exhibit': 3310, 'fanat': 3311, 'jew': 3312, 'kennedi': 3313, 'lawrenc': 3314, 'lemmon': 3315, 'leonard': 3316, 'madonna': 3317, 'moodi': 3318, 'reserv': 3319, 'respond': 3320, 'roommat': 3321, 'ruthless': 3322, 'suspici': 3323, 'synopsi': 3324, 'tip': 3325, 'uneven': 3326, 'voight': 3327, 'wire': 3328, '2007': 3329, 'abysm': 3330, 'audit': 3331, 'bargain': 3332, 'bold': 3333, 'bradi': 3334, 'carl': 3335, 'centr': 3336, 'chao': 3337, 'clint': 3338, 'clumsi': 3339, 'dimens': 3340, 'garner': 3341, 'holli': 3342, 'incident': 3343, 'palma': 3344, 'rural': 3345, 'unsettl': 3346, 'ventur': 3347, 'voyag': 3348, '2nd': 3349, 'acknowledg': 3350, 'ant': 3351, 'cari': 3352, 'cd': 3353, 'characterist': 3354, 'cuba': 3355, 'daddi': 3356, 'echo': 3357, 'elimin': 3358, 'hart': 3359, 'humili': 3360, 'immigr': 3361, 'imperson': 3362, 'lit': 3363, 'mall': 3364, 'nearbi': 3365, 'neglect': 3366, 'poetic': 3367, 'tiger': 3368, 'timon': 3369, 'trail': 3370, 'troop': 3371, 'versu': 3372, 'wealth': 3373, 'celluloid': 3374, 'collaps': 3375, 'domest': 3376, 'homer': 3377, 'infect': 3378, 'jeffrey': 3379, 'marshal': 3380, 'mickey': 3381, 'mistaken': 3382, 'paus': 3383, 'prejudic': 3384, 'pun': 3385, 'repuls': 3386, 'saga': 3387, 'solo': 3388, '1996': 3389, 'apolog': 3390, 'assembl': 3391, 'cake': 3392, 'chest': 3393, 'coat': 3394, 'coffe': 3395, 'equip': 3396, 'gear': 3397, 'ginger': 3398, 'harvey': 3399, 'hbo': 3400, 'inan': 3401, 'inappropri': 3402, 'interrupt': 3403, 'leon': 3404, 'milk': 3405, 'olivi': 3406, 'pant': 3407, 'promin': 3408, 'sore': 3409, 'tribe': 3410, 'undoubtedli': 3411, 'airplan': 3412, 'aveng': 3413, 'brooklyn': 3414, 'colleagu': 3415, 'colonel': 3416, 'consum': 3417, 'devast': 3418, 'embrac': 3419, 'exot': 3420, 'florida': 3421, 'furthermor': 3422, 'highest': 3423, 'humbl': 3424, 'instant': 3425, 'institut': 3426, 'jenni': 3427, 'maggi': 3428, 'pen': 3429, 'polanski': 3430, 'pot': 3431, 'primari': 3432, 'retain': 3433, 'solut': 3434, 'trace': 3435, 'vulgar': 3436, '1999': 3437, '3rd': 3438, 'bowl': 3439, 'cope': 3440, 'descend': 3441, 'dian': 3442, 'disabl': 3443, 'dutch': 3444, 'gender': 3445, 'godzilla': 3446, 'illog': 3447, 'linda': 3448, 'outer': 3449, 'poke': 3450, 'principl': 3451, 'rick': 3452, 'sale': 3453, 'seduct': 3454, 'smaller': 3455, 'strain': 3456, 'wive': 3457, 'ya': 3458, 'beneath': 3459, 'blatant': 3460, 'bubbl': 3461, 'cue': 3462, 'devoid': 3463, 'dive': 3464, 'dud': 3465, 'glamor': 3466, 'gloriou': 3467, 'gundam': 3468, 'hal': 3469, 'inferior': 3470, 'lol': 3471, 'mixtur': 3472, 'predecessor': 3473, 'primarili': 3474, 'rabbit': 3475, 'scope': 3476, 'secondli': 3477, 'vast': 3478, 'yard': 3479, 'aggress': 3480, 'alert': 3481, 'alfr': 3482, 'april': 3483, 'arab': 3484, 'breed': 3485, 'casual': 3486, 'countrysid': 3487, 'disjoint': 3488, 'domino': 3489, 'et': 3490, 'garbo': 3491, 'grinch': 3492, 'hideou': 3493, 'invas': 3494, 'museum': 3495, 'myer': 3496, 'pearl': 3497, 'senseless': 3498, 'shelf': 3499, 'shirley': 3500, 'simplist': 3501, 'streep': 3502, 'talki': 3503, 'trademark': 3504, 'acid': 3505, 'applaud': 3506, 'boom': 3507, 'defens': 3508, 'disgrac': 3509, 'experiment': 3510, 'hardcor': 3511, 'hopeless': 3512, 'illeg': 3513, 'khan': 3514, 'loyal': 3515, 'maci': 3516, 'mail': 3517, 'mayor': 3518, 'obtain': 3519, 'oz': 3520, 'rendit': 3521, 'robberi': 3522, 'robinson': 3523, 'sh': 3524, 'slide': 3525, 'stack': 3526, 'stellar': 3527, 'stir': 3528, 'unhappi': 3529, 'uwe': 3530, 'vanish': 3531, 'amanda': 3532, 'berlin': 3533, 'blew': 3534, 'counter': 3535, 'craze': 3536, 'declin': 3537, 'diana': 3538, 'dicken': 3539, 'dismiss': 3540, 'emphasi': 3541, 'fri': 3542, 'grandfath': 3543, 'hartley': 3544, 'incomprehens': 3545, 'psychic': 3546, 'recruit': 3547, 'rifl': 3548, 'scroog': 3549, 'soccer': 3550, 'span': 3551, 'spider': 3552, 'tempt': 3553, 'tenant': 3554, 'topless': 3555, 'wont': 3556, 'bitch': 3557, 'ethnic': 3558, 'faster': 3559, 'goer': 3560, 'intim': 3561, 'justin': 3562, 'lumet': 3563, 'niro': 3564, 'parad': 3565, 'porno': 3566, 'ration': 3567, 'resurrect': 3568, 'revolt': 3569, 'riot': 3570, 'shaw': 3571, 'shed': 3572, 'sibl': 3573, 'sympath': 3574, 'trashi': 3575, 'wet': 3576, 'woo': 3577, '00': 3578, 'andr': 3579, 'ballet': 3580, 'biographi': 3581, 'choru': 3582, 'commend': 3583, 'dealer': 3584, 'eager': 3585, 'enlighten': 3586, 'ensur': 3587, 'farmer': 3588, 'feminist': 3589, 'gap': 3590, 'hesit': 3591, 'honesti': 3592, 'hopper': 3593, 'immort': 3594, 'jonathan': 3595, 'lena': 3596, 'mario': 3597, 'nephew': 3598, 'partial': 3599, 'patriot': 3600, 'region': 3601, 'rider': 3602, 'slick': 3603, 'steam': 3604, 'unreal': 3605, 'weakest': 3606, 'wendi': 3607, 'wheel': 3608, 'worm': 3609, 'blunt': 3610, 'charlott': 3611, 'composit': 3612, 'confin': 3613, 'franco': 3614, 'hung': 3615, 'kingdom': 3616, 'leo': 3617, 'macarthur': 3618, 'morri': 3619, 'mutant': 3620, 'nostalg': 3621, 'owen': 3622, 'prequel': 3623, 'properti': 3624, 'psychopath': 3625, 'repress': 3626, 'safeti': 3627, 'sandra': 3628, 'sappi': 3629, 'similarli': 3630, 'skull': 3631, 'snap': 3632, 'util': 3633, 'vice': 3634, 'victori': 3635, 'wore': 3636, '1972': 3637, 'acquir': 3638, 'bergman': 3639, 'bonu': 3640, 'bow': 3641, 'bumbl': 3642, 'campbel': 3643, 'cg': 3644, 'compass': 3645, 'compens': 3646, 'dalton': 3647, 'deed': 3648, 'del': 3649, 'despair': 3650, 'drain': 3651, 'drum': 3652, 'dust': 3653, 'emperor': 3654, 'exit': 3655, 'farrel': 3656, 'heartbreak': 3657, 'hyde': 3658, 'kyle': 3659, 'latin': 3660, 'miseri': 3661, 'montana': 3662, 'nervou': 3663, 'pattern': 3664, 'rambl': 3665, 'recycl': 3666, 'repli': 3667, 'rocki': 3668, 'rope': 3669, 'snl': 3670, 'speci': 3671, 'strand': 3672, 'tad': 3673, 'tail': 3674, 'thru': 3675, 'valuabl': 3676, 'whoopi': 3677, '35': 3678, 'airport': 3679, 'bleed': 3680, 'carradin': 3681, 'chess': 3682, 'contempl': 3683, 'da': 3684, 'downhil': 3685, 'gal': 3686, 'gimmick': 3687, 'martian': 3688, 'mistress': 3689, 'olli': 3690, 'oppress': 3691, 'orson': 3692, 'percept': 3693, 'pour': 3694, 'radic': 3695, 'rapist': 3696, 'romp': 3697, 'roth': 3698, 'rotten': 3699, 'slug': 3700, 'tonight': 3701, 'wacki': 3702, '1983': 3703, 'arc': 3704, 'arguabl': 3705, 'attorney': 3706, 'banal': 3707, 'belt': 3708, 'champion': 3709, 'dazzl': 3710, 'edgar': 3711, 'heal': 3712, 'melodi': 3713, 'mislead': 3714, 'paltrow': 3715, 'pervers': 3716, 'pervert': 3717, 'preach': 3718, 'programm': 3719, 'pursuit': 3720, 'shelley': 3721, 'slash': 3722, 'stilt': 3723, 'tackl': 3724, 'taught': 3725, 'tooth': 3726, 'unpredict': 3727, 'bela': 3728, 'chicken': 3729, 'cleverli': 3730, 'closest': 3731, 'conneri': 3732, 'dixon': 3733, 'duval': 3734, 'employe': 3735, 'franki': 3736, 'gambl': 3737, 'graham': 3738, 'maid': 3739, 'marti': 3740, 'mesmer': 3741, 'orang': 3742, 'passeng': 3743, 'plight': 3744, 'poem': 3745, 'raymond': 3746, 'rubi': 3747, 'sensat': 3748, 'tiresom': 3749, 'uplift': 3750, 'vengeanc': 3751, 'virginia': 3752, 'vocal': 3753, '1968': 3754, 'abraham': 3755, 'amitabh': 3756, 'bay': 3757, 'calm': 3758, 'climact': 3759, 'clone': 3760, 'convincingli': 3761, 'crystal': 3762, 'engross': 3763, 'extens': 3764, 'gerard': 3765, 'giggl': 3766, 'habit': 3767, 'inject': 3768, 'iran': 3769, 'lundgren': 3770, 'monologu': 3771, 'mute': 3772, 'numb': 3773, 'outing': 3774, 'paranoia': 3775, 'pokemon': 3776, 'profan': 3777, 'quarter': 3778, 'scottish': 3779, 'secretli': 3780, 'sirk': 3781, 'suffic': 3782, 'swallow': 3783, 'tube': 3784, 'volum': 3785, 'whine': 3786, 'yawn': 3787, 'abort': 3788, 'austen': 3789, 'backward': 3790, 'bend': 3791, 'chicago': 3792, 'dispos': 3793, 'earl': 3794, 'ethan': 3795, 'expand': 3796, 'fed': 3797, 'franci': 3798, 'frankenstein': 3799, 'grotesqu': 3800, 'im': 3801, 'junior': 3802, 'linger': 3803, 'lowest': 3804, 'meander': 3805, 'nichola': 3806, 'plod': 3807, 'poetri': 3808, 'profess': 3809, 'richardson': 3810, 'septemb': 3811, 'spock': 3812, 'surpass': 3813, 'taxi': 3814, 'trend': 3815, 'underst': 3816, 'cannon': 3817, 'catchi': 3818, 'compliment': 3819, 'der': 3820, 'descent': 3821, 'dysfunct': 3822, 'econom': 3823, 'eugen': 3824, 'greedi': 3825, 'household': 3826, 'hum': 3827, 'instrument': 3828, 'literatur': 3829, 'lure': 3830, 'muddl': 3831, 'mundan': 3832, 'myth': 3833, 'nostalgia': 3834, 'rant': 3835, 'rubber': 3836, 'simplic': 3837, 'spoke': 3838, 'stallon': 3839, 'sue': 3840, 'tourist': 3841, 'waitress': 3842, 'alongsid': 3843, 'bacal': 3844, 'carel': 3845, 'cent': 3846, 'coast': 3847, 'crucial': 3848, 'damon': 3849, 'deaf': 3850, 'dement': 3851, 'dictat': 3852, 'duck': 3853, 'eaten': 3854, 'equival': 3855, 'firstli': 3856, 'flee': 3857, 'furi': 3858, 'hello': 3859, 'insur': 3860, 'irrelev': 3861, 'june': 3862, 'lang': 3863, 'louis': 3864, 'mankind': 3865, 'map': 3866, 'molli': 3867, 'mortal': 3868, 'occupi': 3869, 'omen': 3870, 'phantom': 3871, 'phoni': 3872, 'randi': 3873, 'recognis': 3874, 'recognit': 3875, 'sissi': 3876, 'stale': 3877, '1973': 3878, 'antwon': 3879, 'ashley': 3880, 'bike': 3881, 'biko': 3882, 'blackmail': 3883, 'buffalo': 3884, 'bump': 3885, 'cyborg': 3886, 'daisi': 3887, 'damm': 3888, 'distinguish': 3889, 'drake': 3890, 'dreari': 3891, 'freez': 3892, 'grayson': 3893, 'heel': 3894, 'labor': 3895, 'lengthi': 3896, 'likewis': 3897, 'loyalti': 3898, 'newli': 3899, 'onlin': 3900, 'reign': 3901, 'rooney': 3902, 'rude': 3903, 'twilight': 3904, 'wisdom': 3905, 'analysi': 3906, 'approv': 3907, 'attribut': 3908, 'baddi': 3909, 'barrymor': 3910, 'basketbal': 3911, 'boxer': 3912, 'butler': 3913, 'chronicl': 3914, 'emphas': 3915, 'exposur': 3916, 'incorpor': 3917, 'inher': 3918, 'interior': 3919, 'keith': 3920, 'nineti': 3921, 'pink': 3922, 'prey': 3923, 'proce': 3924, 'provoc': 3925, 'ridden': 3926, 'sailor': 3927, 'startl': 3928, 'tunnel': 3929, 'unorigin': 3930, 'vein': 3931, 'worn': 3932, 'barrel': 3933, 'belushi': 3934, 'bunni': 3935, 'carla': 3936, 'condemn': 3937, 'degrad': 3938, 'drift': 3939, 'elm': 3940, 'er': 3941, 'fleet': 3942, 'hypnot': 3943, 'improvis': 3944, 'indiffer': 3945, 'julian': 3946, 'meg': 3947, 'meyer': 3948, 'mighti': 3949, 'millionair': 3950, 'mormon': 3951, 'nicol': 3952, 'othello': 3953, 'predat': 3954, 'robbin': 3955, 'simmon': 3956, 'stalker': 3957, 'substitut': 3958, 'undeni': 3959, 'underli': 3960, 'unrel': 3961, 'walsh': 3962, '3d': 3963, 'agenda': 3964, 'alarm': 3965, 'alison': 3966, 'disord': 3967, 'dolph': 3968, 'edgi': 3969, 'enthusiasm': 3970, 'errol': 3971, 'exquisit': 3972, 'firm': 3973, 'greed': 3974, 'hay': 3975, 'lampoon': 3976, 'marion': 3977, 'mtv': 3978, 'novak': 3979, 'nyc': 3980, 'palac': 3981, 'priceless': 3982, 'reid': 3983, 'roof': 3984, 'rukh': 3985, 'shove': 3986, 'unawar': 3987, 'vital': 3988, 'warmth': 3989, 'watson': 3990, '13th': 3991, '1933': 3992, 'angela': 3993, 'beatl': 3994, 'campaign': 3995, 'cassidi': 3996, 'championship': 3997, 'coup': 3998, 'crown': 3999, 'distort': 4000, 'drip': 4001, 'eastern': 4002, 'gestur': 4003, 'glanc': 4004, 'iraq': 4005, 'israel': 4006, 'minimum': 4007, 'nun': 4008, 'orlean': 4009, 'pamela': 4010, 'peck': 4011, 'peril': 4012, 'petti': 4013, 'ponder': 4014, 'preserv': 4015, 'profit': 4016, 'randomli': 4017, 'sergeant': 4018, 'session': 4019, 'showdown': 4020, 'simultan': 4021, 'spain': 4022, 'testament': 4023, 'thompson': 4024, 'unleash': 4025, 'valentin': 4026, 'what': 4027, 'zizek': 4028, '1984': 4029, 'brenda': 4030, 'bro': 4031, 'buster': 4032, 'calib': 4033, 'climat': 4034, 'contradict': 4035, 'cooki': 4036, 'crawl': 4037, 'cream': 4038, 'crow': 4039, 'din': 4040, 'empathi': 4041, 'exposit': 4042, 'fido': 4043, 'gentleman': 4044, 'han': 4045, 'jan': 4046, 'kurosawa': 4047, 'miyazaki': 4048, 'mon': 4049, 'perpetu': 4050, 'quinn': 4051, 'realm': 4052, 'regist': 4053, 'represent': 4054, 'reson': 4055, 'restrain': 4056, 'rout': 4057, 'sabrina': 4058, 'scotland': 4059, 'shootout': 4060, 'stake': 4061, 'stroke': 4062, 'travesti': 4063, 'unimagin': 4064, 'valley': 4065, 'wig': 4066, '1987': 4067, '1997': 4068, 'abomin': 4069, 'absent': 4070, 'baldwin': 4071, 'businessman': 4072, 'censor': 4073, 'cloud': 4074, 'compromis': 4075, 'crawford': 4076, 'dana': 4077, 'darren': 4078, 'delic': 4079, 'demis': 4080, 'derang': 4081, 'distress': 4082, 'femm': 4083, 'fuller': 4084, 'geek': 4085, 'greg': 4086, 'josh': 4087, 'mclaglen': 4088, 'meryl': 4089, 'monoton': 4090, 'painter': 4091, 'passabl': 4092, 'perceiv': 4093, 'pole': 4094, 'pretens': 4095, 'ross': 4096, 'sammi': 4097, 'shaki': 4098, 'shoddi': 4099, 'soderbergh': 4100, 'spacey': 4101, 'stargat': 4102, 'sucker': 4103, 'tacki': 4104, 'traumat': 4105, 'unsatisfi': 4106, 'unseen': 4107, 'ustinov': 4108, 'warrant': 4109, 'wax': 4110, '1993': 4111, 'accuraci': 4112, 'anchor': 4113, 'antonioni': 4114, 'austin': 4115, 'clash': 4116, 'click': 4117, 'correctli': 4118, 'deceas': 4119, 'dee': 4120, 'deniro': 4121, 'exclus': 4122, 'expedit': 4123, 'fenc': 4124, 'fog': 4125, 'furiou': 4126, 'jewel': 4127, 'judgment': 4128, 'kumar': 4129, 'nathan': 4130, 'norm': 4131, 'polici': 4132, 'primit': 4133, 'reluct': 4134, 'seal': 4135, 'sid': 4136, 'tarantino': 4137, 'tech': 4138, 'uncov': 4139, 'unravel': 4140, 'valid': 4141, 'verbal': 4142, 'wholli': 4143, '1971': 4144, '1995': 4145, '2008': 4146, '3000': 4147, 'alec': 4148, 'bake': 4149, 'behold': 4150, 'clerk': 4151, 'conduct': 4152, 'crippl': 4153, 'darn': 4154, 'debt': 4155, 'dreck': 4156, 'enforc': 4157, 'fabric': 4158, 'fart': 4159, 'fought': 4160, 'hallucin': 4161, 'joel': 4162, 'logan': 4163, 'malon': 4164, 'mode': 4165, 'murray': 4166, 'nicola': 4167, 'patienc': 4168, 'pocket': 4169, 'ritual': 4170, 'roller': 4171, 'sand': 4172, 'seldom': 4173, 'shanghai': 4174, 'sheet': 4175, 'slam': 4176, 'sunni': 4177, 'sustain': 4178, 'tax': 4179, 'temper': 4180, 'trait': 4181, 'unfair': 4182, 'vanc': 4183, 'wang': 4184, 'wretch': 4185, 'bias': 4186, 'bridget': 4187, 'canyon': 4188, 'clau': 4189, 'conscious': 4190, 'critiqu': 4191, 'despis': 4192, 'divid': 4193, 'exhaust': 4194, 'fundament': 4195, 'grief': 4196, 'guitar': 4197, 'helpless': 4198, 'isabel': 4199, 'legaci': 4200, 'outlin': 4201, 'penni': 4202, 'pete': 4203, 'phil': 4204, 'preposter': 4205, 'preston': 4206, 'rita': 4207, 'robber': 4208, 'runner': 4209, 'schedul': 4210, 'scriptwrit': 4211, 'shell': 4212, 'soup': 4213, 'squad': 4214, 'stark': 4215, 'stuart': 4216, 'sweep': 4217, 'tactic': 4218, 'technicolor': 4219, 'agenc': 4220, 'alicia': 4221, 'alley': 4222, 'bloom': 4223, 'boyl': 4224, 'cigarett': 4225, 'connor': 4226, 'consciou': 4227, 'culmin': 4228, 'delv': 4229, 'downey': 4230, 'drove': 4231, 'flair': 4232, 'gregori': 4233, 'implic': 4234, 'inabl': 4235, 'invad': 4236, 'jacket': 4237, 'jodi': 4238, 'kansa': 4239, 'lacklust': 4240, 'liberti': 4241, 'marc': 4242, 'newman': 4243, 'palanc': 4244, 'passag': 4245, 'propos': 4246, 'rear': 4247, 'rehash': 4248, 'restrict': 4249, 'russia': 4250, 'sentinel': 4251, 'sniper': 4252, 'sugar': 4253, 'unexpectedli': 4254, 'vomit': 4255, '1936': 4256, '22': 4257, 'aesthet': 4258, 'arrow': 4259, 'asylum': 4260, 'awhil': 4261, 'bacon': 4262, 'behaviour': 4263, 'cap': 4264, 'chainsaw': 4265, 'delet': 4266, 'feat': 4267, 'foxx': 4268, 'horn': 4269, 'improb': 4270, 'karl': 4271, 'kolchak': 4272, 'ladder': 4273, 'lush': 4274, 'mccoy': 4275, 'pale': 4276, 'rampag': 4277, 'rehears': 4278, 'rod': 4279, 'sharon': 4280, 'tendenc': 4281, 'tripe': 4282, 'vet': 4283, 'wrench': 4284, 'yeti': 4285, '1920': 4286, '1978': 4287, '1988': 4288, '19th': 4289, 'amazon': 4290, 'aristocrat': 4291, 'basing': 4292, 'coaster': 4293, 'conscienc': 4294, 'el': 4295, 'elit': 4296, 'filler': 4297, 'financ': 4298, 'fright': 4299, 'globe': 4300, 'hackney': 4301, 'hulk': 4302, 'hungri': 4303, 'loneli': 4304, 'lurk': 4305, 'minu': 4306, 'newcom': 4307, 'paradis': 4308, 'paramount': 4309, 'prank': 4310, 'rhythm': 4311, 'rumor': 4312, 'scoop': 4313, 'shortcom': 4314, 'spice': 4315, 'stream': 4316, 'suffici': 4317, 'sung': 4318, 'suspicion': 4319, 'tasteless': 4320, 'thunderbird': 4321, 'tomorrow': 4322, 'underneath': 4323, 'visitor': 4324, 'wagner': 4325, 'weav': 4326, 'wildli': 4327, '1939': 4328, '1989': 4329, '75': 4330, 'abrupt': 4331, 'atroc': 4332, 'beverli': 4333, 'bread': 4334, 'brit': 4335, 'cancer': 4336, 'chamberlain': 4337, 'chavez': 4338, 'choppi': 4339, 'couch': 4340, 'counterpart': 4341, 'curli': 4342, 'dirt': 4343, 'en': 4344, 'entranc': 4345, 'grudg': 4346, 'heist': 4347, 'hopkin': 4348, 'immers': 4349, 'impos': 4350, 'ingeni': 4351, 'inmat': 4352, 'iv': 4353, 'lectur': 4354, 'leigh': 4355, 'literari': 4356, 'minist': 4357, 'naughti': 4358, 'paxton': 4359, 'penn': 4360, 'posey': 4361, 'quietli': 4362, 'ram': 4363, 'recogniz': 4364, 'rub': 4365, 'secondari': 4366, 'smell': 4367, 'springer': 4368, 'standout': 4369, 'straightforward': 4370, 'teas': 4371, 'tierney': 4372, 'worship': 4373, 'wwe': 4374, '1986': 4375, 'ace': 4376, 'attenborough': 4377, 'bernard': 4378, 'cattl': 4379, 'clan': 4380, 'convert': 4381, 'duel': 4382, 'enthral': 4383, 'entitl': 4384, 'esther': 4385, 'geni': 4386, 'heartfelt': 4387, 'injuri': 4388, 'laurenc': 4389, 'lindsay': 4390, 'misguid': 4391, 'missil': 4392, 'morbid': 4393, 'moreov': 4394, 'nemesi': 4395, 'net': 4396, 'nolan': 4397, 'policeman': 4398, 'quaid': 4399, 'ratso': 4400, 'sassi': 4401, 'skeptic': 4402, 'sublim': 4403, 'transcend': 4404, 'variat': 4405, 'watcher': 4406, 'yearn': 4407, '1979': 4408, 'artsi': 4409, 'bean': 4410, 'brood': 4411, 'buzz': 4412, 'bye': 4413, 'carlito': 4414, 'characteris': 4415, 'cruelti': 4416, 'diari': 4417, 'dont': 4418, 'egg': 4419, 'enabl': 4420, 'facil': 4421, 'graini': 4422, 'grin': 4423, 'hk': 4424, 'hopelessli': 4425, 'kidman': 4426, 'kitti': 4427, 'moder': 4428, 'mytholog': 4429, 'obstacl': 4430, 'out': 4431, 'poe': 4432, 'puppi': 4433, 'reliabl': 4434, 'rosemari': 4435, 'setup': 4436, 'spiral': 4437, 'steadi': 4438, 'tyler': 4439, 'uncut': 4440, 'unexplain': 4441, 'vader': 4442, 'youngest': 4443, '1969': 4444, 'acquaint': 4445, 'athlet': 4446, 'baffl': 4447, 'bewar': 4448, 'bounc': 4449, 'brendan': 4450, 'bronson': 4451, 'christin': 4452, 'clueless': 4453, 'decept': 4454, 'despic': 4455, 'disastr': 4456, 'effici': 4457, 'exterior': 4458, 'fuel': 4459, 'gillian': 4460, 'gina': 4461, 'hain': 4462, 'hammi': 4463, 'heap': 4464, 'kline': 4465, 'martha': 4466, 'narrow': 4467, 'niec': 4468, 'oblig': 4469, 'patricia': 4470, 'preming': 4471, 'spontan': 4472, 'sweat': 4473, 'underworld': 4474, 'weather': 4475, '19': 4476, '73': 4477, 'analyz': 4478, 'angst': 4479, 'astound': 4480, 'biker': 4481, 'candl': 4482, 'circu': 4483, 'dandi': 4484, 'dilemma': 4485, 'enlist': 4486, 'fontain': 4487, 'goof': 4488, 'harmless': 4489, 'headach': 4490, 'hepburn': 4491, 'housewif': 4492, 'injur': 4493, 'insipid': 4494, 'lester': 4495, 'loath': 4496, 'loi': 4497, 'mayhem': 4498, 'mermaid': 4499, 'outlaw': 4500, 'preachi': 4501, 'renaiss': 4502, 'rome': 4503, 'scar': 4504, 'shatter': 4505, 'sleepwalk': 4506, 'sooner': 4507, 'suprem': 4508, 'taboo': 4509, 'tick': 4510, 'trigger': 4511, 'uh': 4512, 'viewpoint': 4513, 'virtu': 4514, 'amor': 4515, 'ariel': 4516, 'bent': 4517, 'boston': 4518, 'camcord': 4519, 'cassavet': 4520, 'claustrophob': 4521, 'contempt': 4522, 'corbett': 4523, 'dish': 4524, 'dismal': 4525, 'ebert': 4526, 'filth': 4527, 'fluff': 4528, 'foolish': 4529, 'gere': 4530, 'glorifi': 4531, 'guin': 4532, 'hokey': 4533, 'hooker': 4534, 'hostag': 4535, 'idol': 4536, 'immatur': 4537, 'intric': 4538, 'macho': 4539, 'oldest': 4540, 'overlong': 4541, 'phenomenon': 4542, 'redund': 4543, 'salt': 4544, 'scorses': 4545, 'slimi': 4546, 'sox': 4547, 'spade': 4548, 'stair': 4549, 'steer': 4550, 'stimul': 4551, 'surgeri': 4552, 'tripl': 4553, 'whore': 4554, 'zoom': 4555, '1976': 4556, '1981': 4557, 'alvin': 4558, 'antagonist': 4559, 'assert': 4560, 'astronaut': 4561, 'beard': 4562, 'cohen': 4563, 'conquer': 4564, 'corman': 4565, 'cow': 4566, 'cush': 4567, 'down': 4568, 'dwarf': 4569, 'faint': 4570, 'fascist': 4571, 'flag': 4572, 'flashi': 4573, 'flirt': 4574, 'frantic': 4575, 'gabl': 4576, 'gasp': 4577, 'harold': 4578, 'joker': 4579, 'keen': 4580, 'margin': 4581, 'messi': 4582, 'mount': 4583, 'muscl': 4584, 'mutual': 4585, 'naschi': 4586, 'nolt': 4587, 'obligatori': 4588, 'perman': 4589, 'preced': 4590, 'proport': 4591, 'radiat': 4592, 'remad': 4593, 'rhyme': 4594, 'schlock': 4595, 'shield': 4596, 'shred': 4597, 'spinal': 4598, 'spree': 4599, 'strongest': 4600, 'transplant': 4601, 'trivia': 4602, 'widescreen': 4603, 'zane': 4604, '1945': 4605, '28': 4606, '95': 4607, 'aborigin': 4608, 'archiv': 4609, 'bachelor': 4610, 'barn': 4611, 'bitten': 4612, 'boob': 4613, 'brush': 4614, 'carey': 4615, 'claud': 4616, 'danish': 4617, 'deer': 4618, 'departur': 4619, 'discern': 4620, 'divin': 4621, 'fishburn': 4622, 'flock': 4623, 'hara': 4624, 'inflict': 4625, 'info': 4626, 'instruct': 4627, 'interestingli': 4628, 'mobil': 4629, 'mol': 4630, 'neurot': 4631, 'off': 4632, 'persuad': 4633, 'raj': 4634, 'repris': 4635, 'resum': 4636, 'ritchi': 4637, 'scandal': 4638, 'sensual': 4639, 'someday': 4640, 'strive': 4641, 'triangl': 4642, 'vaniti': 4643, 'wield': 4644, 'www': 4645, 'anton': 4646, 'artwork': 4647, 'axe': 4648, 'banter': 4649, 'bate': 4650, 'biblic': 4651, 'carlo': 4652, 'casino': 4653, 'cb': 4654, 'cher': 4655, 'clad': 4656, 'cliffhang': 4657, 'colin': 4658, 'cycl': 4659, 'dame': 4660, 'dim': 4661, 'dylan': 4662, 'earnest': 4663, 'europa': 4664, 'fragil': 4665, 'frontier': 4666, 'hapless': 4667, 'harrison': 4668, 'heartwarm': 4669, 'helm': 4670, 'hilar': 4671, 'hug': 4672, 'ish': 4673, 'jade': 4674, 'kathryn': 4675, 'loretta': 4676, 'luka': 4677, 'melissa': 4678, 'miracul': 4679, 'mobster': 4680, 'neill': 4681, 'pacif': 4682, 'parson': 4683, 'pickford': 4684, 'pixar': 4685, 'proclaim': 4686, 'prophet': 4687, 'recit': 4688, 'rot': 4689, 'senior': 4690, 'submit': 4691, 'timberlak': 4692, 'traffic': 4693, 'undermin': 4694, 'vibrant': 4695, 'wendigo': 4696, 'akin': 4697, 'alexandr': 4698, 'antholog': 4699, 'aris': 4700, 'articl': 4701, 'bikini': 4702, 'blatantli': 4703, 'bondag': 4704, 'breakfast': 4705, 'cerebr': 4706, 'choke': 4707, 'electron': 4708, 'eli': 4709, 'estrang': 4710, 'feast': 4711, 'flavor': 4712, 'foil': 4713, 'holocaust': 4714, 'http': 4715, 'illus': 4716, 'isra': 4717, 'jo': 4718, 'jordan': 4719, 'legitim': 4720, 'lucil': 4721, 'lui': 4722, 'marlon': 4723, 'mason': 4724, 'mathieu': 4725, 'milo': 4726, 'misfortun': 4727, 'nope': 4728, 'northern': 4729, 'orphan': 4730, 'pc': 4731, 'razor': 4732, 'redneck': 4733, 'rooki': 4734, 'seedi': 4735, 'shepherd': 4736, 'sicken': 4737, 'static': 4738, 'token': 4739, 'toronto': 4740, 'trier': 4741, 'uma': 4742, 'vanessa': 4743, 'venom': 4744, 'vile': 4745, 'wardrob': 4746, 'winchest': 4747, 'abund': 4748, 'affleck': 4749, 'audrey': 4750, 'boyer': 4751, 'cartoonish': 4752, 'ceremoni': 4753, 'charlton': 4754, 'clinic': 4755, 'comprehend': 4756, 'deem': 4757, 'disregard': 4758, 'dudley': 4759, 'feminin': 4760, 'fifth': 4761, 'frog': 4762, 'gilbert': 4763, 'glare': 4764, 'gunga': 4765, 'highway': 4766, 'howl': 4767, 'huston': 4768, 'ideolog': 4769, 'knightley': 4770, 'leather': 4771, 'linear': 4772, 'magician': 4773, 'nightclub': 4774, 'oppon': 4775, 'outdat': 4776, 'peer': 4777, 'psych': 4778, 'retriev': 4779, 'shorter': 4780, 'smack': 4781, 'styliz': 4782, 'swept': 4783, 'tack': 4784, 'turd': 4785, 'wrestler': 4786, '1991': 4787, '1994': 4788, '4th': 4789, 'bastard': 4790, 'bogu': 4791, 'boo': 4792, 'braveheart': 4793, 'breakdown': 4794, 'btw': 4795, 'cemeteri': 4796, 'chip': 4797, 'client': 4798, 'collector': 4799, 'compris': 4800, 'conrad': 4801, 'corn': 4802, 'cuban': 4803, 'deliver': 4804, 'durat': 4805, 'einstein': 4806, 'energet': 4807, 'evolut': 4808, 'goldsworthi': 4809, 'greet': 4810, 'lavish': 4811, 'lifeless': 4812, 'lighter': 4813, 'mitch': 4814, 'moe': 4815, 'monument': 4816, 'newer': 4817, 'phenomen': 4818, 'plate': 4819, 'potter': 4820, 'salman': 4821, 'senat': 4822, 'sleaz': 4823, 'snatch': 4824, 'spawn': 4825, 'spine': 4826, 'summar': 4827, 'tara': 4828, 'toe': 4829, 'uniformli': 4830, 'whack': 4831, '1974': 4832, '1977': 4833, 'alleg': 4834, 'appl': 4835, 'armstrong': 4836, 'belli': 4837, 'bori': 4838, 'bulk': 4839, 'capot': 4840, 'cecil': 4841, 'clara': 4842, 'constitut': 4843, 'creek': 4844, 'eleven': 4845, 'embark': 4846, 'evelyn': 4847, 'firmli': 4848, 'fluid': 4849, 'gilliam': 4850, 'healthi': 4851, 'historian': 4852, 'ie': 4853, 'inaccuraci': 4854, 'jam': 4855, 'jare': 4856, 'jedi': 4857, 'judd': 4858, 'jule': 4859, 'kazan': 4860, 'kent': 4861, 'lex': 4862, 'liu': 4863, 'luxuri': 4864, 'mcqueen': 4865, 'neatli': 4866, 'nina': 4867, 'occup': 4868, 'ol': 4869, 'outright': 4870, 'pronounc': 4871, 'randolph': 4872, 'replay': 4873, 'signal': 4874, 'sorrow': 4875, 'spectacl': 4876, 'trauma': 4877, 'undead': 4878, 'undertak': 4879, 'wtf': 4880, '1985': 4881, 'abound': 4882, 'antonio': 4883, 'ash': 4884, 'aussi': 4885, 'bait': 4886, 'basket': 4887, 'blur': 4888, 'bsg': 4889, 'cape': 4890, 'carmen': 4891, 'comb': 4892, 'comprehens': 4893, 'conan': 4894, 'congratul': 4895, 'curtain': 4896, 'decapit': 4897, 'forgiven': 4898, 'fruit': 4899, 'galaxi': 4900, 'genet': 4901, 'goldblum': 4902, 'groan': 4903, 'id': 4904, 'inaccur': 4905, 'inclus': 4906, 'kiddi': 4907, 'knee': 4908, 'lanc': 4909, 'lauren': 4910, 'meal': 4911, 'miami': 4912, 'miniseri': 4913, 'mum': 4914, 'palm': 4915, 'paula': 4916, 'pepper': 4917, 'pioneer': 4918, 'poker': 4919, 'porter': 4920, 'propheci': 4921, 'relentless': 4922, 'roar': 4923, 'rosario': 4924, 'sacrif': 4925, 'sidewalk': 4926, 'spray': 4927, 'subtli': 4928, 'tokyo': 4929, 'truman': 4930, 'unattract': 4931, 'unsuspect': 4932, 'vain': 4933, 'vignett': 4934, 'walt': 4935, '21st': 4936, 'asset': 4937, 'assort': 4938, 'bach': 4939, 'bravo': 4940, 'casper': 4941, 'cypher': 4942, 'detach': 4943, 'drone': 4944, 'dubiou': 4945, 'epitom': 4946, 'evan': 4947, 'frontal': 4948, 'ghetto': 4949, 'growth': 4950, 'hackman': 4951, 'handicap': 4952, 'hostil': 4953, 'incorrect': 4954, 'ingrid': 4955, 'jill': 4956, 'macabr': 4957, 'masterson': 4958, 'mice': 4959, 'modest': 4960, 'monti': 4961, 'motorcycl': 4962, 'omin': 4963, 'optimist': 4964, 'orchestr': 4965, 'playboy': 4966, 'profil': 4967, 'rapidli': 4968, 'reincarn': 4969, 'scarfac': 4970, 'scariest': 4971, 'sophi': 4972, 'sparkl': 4973, 'spill': 4974, 'substanti': 4975, 'turtl': 4976, 'vastli': 4977, 'verg': 4978, 'victorian': 4979, 'weaker': 4980, 'weari': 4981, '200': 4982, 'amrita': 4983, 'beowulf': 4984, 'biopic': 4985, 'cheadl': 4986, 'christina': 4987, 'dwell': 4988, 'fetish': 4989, 'garland': 4990, 'honour': 4991, 'horni': 4992, 'incarn': 4993, 'mama': 4994, 'rapid': 4995, 'rowland': 4996, 'saddl': 4997, 'sarcast': 4998, 'snipe': 4999}\n"
     ]
    }
   ],
   "source": [
    "print(word_dict)"
   ]
  },
  {
   "cell_type": "markdown",
   "metadata": {},
   "source": [
    "**Question:** What are the five most frequently appearing (tokenized) words in the training set? Does it makes sense that these words appear frequently in the training set?"
   ]
  },
  {
   "cell_type": "markdown",
   "metadata": {},
   "source": [
    "**Answer:** The five most frequently appearing words in the training set are: {'movi': 51695, 'film': 48190, 'one': 27741, 'like': 22799, 'time': 16191}. It makes sense that these words are the most frequent since they are very generic and related to movie reviews."
   ]
  },
  {
   "cell_type": "code",
   "execution_count": 13,
   "metadata": {},
   "outputs": [
    {
     "name": "stdout",
     "output_type": "stream",
     "text": [
      "{'movi': 51695, 'film': 48190, 'one': 27741, 'like': 22799, 'time': 16191}\n"
     ]
    }
   ],
   "source": [
    "# TODO: Use this space to determine the five most frequently appearing words in the training set.\n",
    "top_5_freqs = {word: 0 for word in list(word_dict.keys())[0:5]}\n",
    "for f in top_5_freqs.keys():\n",
    "    for sequence in train_X:\n",
    "        for word in sequence:\n",
    "            if word == f:\n",
    "                top_5_freqs[word] += 1\n",
    "\n",
    "print(top_5_freqs)"
   ]
  },
  {
   "cell_type": "markdown",
   "metadata": {},
   "source": [
    "### Save `word_dict`\n",
    "\n",
    "Later on when we construct an endpoint which processes a submitted review we will need to make use of the `word_dict` which we have created. As such, we will save it to a file now for future use."
   ]
  },
  {
   "cell_type": "code",
   "execution_count": 14,
   "metadata": {},
   "outputs": [],
   "source": [
    "data_dir = '../data/pytorch' # The folder we will use for storing data\n",
    "if not os.path.exists(data_dir): # Make sure that the folder exists\n",
    "    os.makedirs(data_dir)"
   ]
  },
  {
   "cell_type": "code",
   "execution_count": 15,
   "metadata": {},
   "outputs": [],
   "source": [
    "with open(os.path.join(data_dir, 'word_dict.pkl'), \"wb\") as f:\n",
    "    pickle.dump(word_dict, f)"
   ]
  },
  {
   "cell_type": "markdown",
   "metadata": {},
   "source": [
    "### Transform the reviews\n",
    "\n",
    "Now that we have our word dictionary which allows us to transform the words appearing in the reviews into integers, it is time to make use of it and convert our reviews to their integer sequence representation, making sure to pad or truncate to a fixed length, which in our case is `500`."
   ]
  },
  {
   "cell_type": "code",
   "execution_count": 16,
   "metadata": {},
   "outputs": [],
   "source": [
    "def convert_and_pad(word_dict, sentence, pad=500):\n",
    "    \"\"\"\n",
    "    params: \n",
    "    @word_dict: dictionary with most frequent words (498)\n",
    "    @sentence: (a list?) of words with the review\n",
    "    @pad: size of the features vector\n",
    "    \n",
    "    return: tuple\n",
    "    (list encoding of sentence based on the word_dict indices of the words, size of the sentence )\n",
    "    \"\"\"\n",
    "    NOWORD = 0 # We will use 0 to represent the 'no word' category\n",
    "    INFREQ = 1 # and we use 1 to represent the infrequent words, i.e., words not appearing in word_dict\n",
    "    \n",
    "    working_sentence = [NOWORD] * pad\n",
    "    \n",
    "    for word_index, word in enumerate(sentence[:pad]):\n",
    "        if word in word_dict:\n",
    "            working_sentence[word_index] = word_dict[word]\n",
    "        else:\n",
    "            working_sentence[word_index] = INFREQ\n",
    "            \n",
    "    return working_sentence, min(len(sentence), pad)\n",
    "\n",
    "def convert_and_pad_data(word_dict, data, pad=500):\n",
    "    result = []\n",
    "    lengths = []\n",
    "    \n",
    "    for sentence in data:\n",
    "        converted, leng = convert_and_pad(word_dict, sentence, pad)\n",
    "        result.append(converted)\n",
    "        lengths.append(leng)\n",
    "        \n",
    "    return np.array(result), np.array(lengths)"
   ]
  },
  {
   "cell_type": "code",
   "execution_count": 17,
   "metadata": {},
   "outputs": [],
   "source": [
    "train_X, train_X_len = convert_and_pad_data(word_dict, train_X)\n",
    "test_X, test_X_len = convert_and_pad_data(word_dict, test_X)"
   ]
  },
  {
   "cell_type": "markdown",
   "metadata": {},
   "source": [
    "As a quick check to make sure that things are working as intended, check to see what one of the reviews in the training set looks like after having been processeed. Does this look reasonable? What is the length of a review in the training set?"
   ]
  },
  {
   "cell_type": "code",
   "execution_count": 18,
   "metadata": {},
   "outputs": [
    {
     "name": "stdout",
     "output_type": "stream",
     "text": [
      "79 [ 786    1  895  105   23  387   12   28  277 2528   24   35  402   44\n",
      "   28  136    3  584 2674  298    1    1   45    1    1  259    3    1\n",
      "    1  273  459  936  433    6 2649 1453    1    1 2674    1    1  335\n",
      "  105   18  831 1022  359   70    1   24    1    1  433 2960   45  318\n",
      "  902    1  248  460   40    3   43  487    1   67 1068 1575    1  646\n",
      "  936  356  425 2649    1    1   24    1  393    0    0    0    0    0\n",
      "    0    0    0    0    0    0    0    0    0    0    0    0    0    0\n",
      "    0    0    0    0    0    0    0    0    0    0    0    0    0    0\n",
      "    0    0    0    0    0    0    0    0    0    0    0    0    0    0\n",
      "    0    0    0    0    0    0    0    0    0    0    0    0    0    0\n",
      "    0    0    0    0    0    0    0    0    0    0    0    0    0    0\n",
      "    0    0    0    0    0    0    0    0    0    0    0    0    0    0\n",
      "    0    0    0    0    0    0    0    0    0    0    0    0    0    0\n",
      "    0    0    0    0    0    0    0    0    0    0    0    0    0    0\n",
      "    0    0    0    0    0    0    0    0    0    0    0    0    0    0\n",
      "    0    0    0    0    0    0    0    0    0    0    0    0    0    0\n",
      "    0    0    0    0    0    0    0    0    0    0    0    0    0    0\n",
      "    0    0    0    0    0    0    0    0    0    0    0    0    0    0\n",
      "    0    0    0    0    0    0    0    0    0    0    0    0    0    0\n",
      "    0    0    0    0    0    0    0    0    0    0    0    0    0    0\n",
      "    0    0    0    0    0    0    0    0    0    0    0    0    0    0\n",
      "    0    0    0    0    0    0    0    0    0    0    0    0    0    0\n",
      "    0    0    0    0    0    0    0    0    0    0    0    0    0    0\n",
      "    0    0    0    0    0    0    0    0    0    0    0    0    0    0\n",
      "    0    0    0    0    0    0    0    0    0    0    0    0    0    0\n",
      "    0    0    0    0    0    0    0    0    0    0    0    0    0    0\n",
      "    0    0    0    0    0    0    0    0    0    0    0    0    0    0\n",
      "    0    0    0    0    0    0    0    0    0    0    0    0    0    0\n",
      "    0    0    0    0    0    0    0    0    0    0    0    0    0    0\n",
      "    0    0    0    0    0    0    0    0    0    0    0    0    0    0\n",
      "    0    0    0    0    0    0    0    0    0    0    0    0    0    0\n",
      "    0    0    0    0    0    0    0    0    0    0    0    0    0    0\n",
      "    0    0    0    0    0    0    0    0    0    0    0    0    0    0\n",
      "    0    0    0    0    0    0    0    0    0    0    0    0    0    0\n",
      "    0    0    0    0    0    0    0    0    0    0    0    0    0    0\n",
      "    0    0    0    0    0    0    0    0    0    0]\n"
     ]
    }
   ],
   "source": [
    "# Use this cell to examine one of the processed reviews to make sure everything is working as intended.\n",
    "#Response: It looks ok. The length of a review is the original lenght (without padding) of the review when it is less than 5000, \n",
    "#otherwise it is 5000 (the review is cut up to the first 5000 words). \n",
    "print(train_X_len[101], train_X[101])"
   ]
  },
  {
   "cell_type": "markdown",
   "metadata": {},
   "source": [
    "**Question:** In the cells above we use the `preprocess_data` and `convert_and_pad_data` methods to process both the training and testing set. Why or why not might this be a problem?"
   ]
  },
  {
   "cell_type": "markdown",
   "metadata": {},
   "source": [
    "**Answer:** This soulden´t be a problem since the train and test data must be in the same format in order to be fed to the model. Also, both are preprocessed using the same word_dict, which is ok becasuse the word_dict is built from the training dataset, and the test reviews have to be transformed according to the \"known\" vocacabulary. This may be a problem if the distribution of words of the test set is different from the training set, this may indicate that the training set is innapropiate. "
   ]
  },
  {
   "cell_type": "markdown",
   "metadata": {},
   "source": [
    "## Step 3: Upload the data to S3\n",
    "\n",
    "As in the XGBoost notebook, we will need to upload the training dataset to S3 in order for our training code to access it. For now we will save it locally and we will upload to S3 later on.\n",
    "\n",
    "### Save the processed training dataset locally\n",
    "\n",
    "It is important to note the format of the data that we are saving as we will need to know it when we write the training code. In our case, each row of the dataset has the form `label`, `length`, `review[500]` where `review[500]` is a sequence of `500` integers representing the words in the review."
   ]
  },
  {
   "cell_type": "markdown",
   "metadata": {},
   "source": [
    "Here I include a Validation Set."
   ]
  },
  {
   "cell_type": "code",
   "execution_count": 19,
   "metadata": {},
   "outputs": [],
   "source": [
    "import pandas as pd\n",
    "    \n",
    "pd.concat([pd.DataFrame(train_y[:22000]), pd.DataFrame(train_X_len[:22000]), pd.DataFrame(train_X[:22000])], axis=1) \\\n",
    "        .to_csv(os.path.join(data_dir, 'train.csv'), header=False, index=False)\n",
    "\n",
    "#---------------------------------------- INCLUDE A VALIDATION DATASET -----------------------------------------------\n",
    "pd.concat([pd.DataFrame(train_y[22000:]), pd.DataFrame(train_X_len[22000:]), pd.DataFrame(train_X[22000:])], axis=1) \\\n",
    "        .to_csv(os.path.join(data_dir, 'validation.csv'), header=False, index=False)"
   ]
  },
  {
   "cell_type": "markdown",
   "metadata": {},
   "source": [
    "### Uploading the training data\n",
    "\n",
    "\n",
    "Next, we need to upload the training data to the SageMaker default S3 bucket so that we can provide access to it while training our model."
   ]
  },
  {
   "cell_type": "code",
   "execution_count": 20,
   "metadata": {},
   "outputs": [],
   "source": [
    "import sagemaker\n",
    "\n",
    "sagemaker_session = sagemaker.Session()\n",
    "\n",
    "bucket = sagemaker_session.default_bucket()\n",
    "prefix = 'sagemaker/sentiment_rnn'\n",
    "\n",
    "role = sagemaker.get_execution_role()"
   ]
  },
  {
   "cell_type": "code",
   "execution_count": 21,
   "metadata": {},
   "outputs": [],
   "source": [
    "input_data = sagemaker_session.upload_data(path=data_dir, bucket=bucket, key_prefix=prefix)"
   ]
  },
  {
   "cell_type": "code",
   "execution_count": 22,
   "metadata": {},
   "outputs": [
    {
     "data": {
      "text/plain": [
       "'s3://sagemaker-us-east-1-881838619214/sagemaker/sentiment_rnn'"
      ]
     },
     "execution_count": 22,
     "metadata": {},
     "output_type": "execute_result"
    }
   ],
   "source": [
    "input_data"
   ]
  },
  {
   "cell_type": "markdown",
   "metadata": {},
   "source": [
    "**NOTE:** The cell above uploads the entire contents of our data directory. This includes the `word_dict.pkl` file. This is fortunate as we will need this later on when we create an endpoint that accepts an arbitrary review. For now, we will just take note of the fact that it resides in the data directory (and so also in the S3 training bucket) and that we will need to make sure it gets saved in the model directory."
   ]
  },
  {
   "cell_type": "markdown",
   "metadata": {},
   "source": [
    "## Step 4: Build and Train the PyTorch Model\n",
    "\n",
    "In the XGBoost notebook we discussed what a model is in the SageMaker framework. In particular, a model comprises three objects\n",
    "\n",
    " - Model Artifacts,\n",
    " - Training Code, and\n",
    " - Inference Code,\n",
    " \n",
    "each of which interact with one another. In the XGBoost example we used training and inference code that was provided by Amazon. Here we will still be using containers provided by Amazon with the added benefit of being able to include our own custom code.\n",
    "\n",
    "We will start by implementing our own neural network in PyTorch along with a training script. For the purposes of this project we have provided the necessary model object in the `model.py` file, inside of the `train` folder. You can see the provided implementation by running the cell below."
   ]
  },
  {
   "cell_type": "code",
   "execution_count": 24,
   "metadata": {},
   "outputs": [
    {
     "name": "stdout",
     "output_type": "stream",
     "text": [
      "\u001b[34mimport\u001b[39;49;00m \u001b[04m\u001b[36mtorch\u001b[39;49;00m\u001b[04m\u001b[36m.\u001b[39;49;00m\u001b[04m\u001b[36mnn\u001b[39;49;00m \u001b[34mas\u001b[39;49;00m \u001b[04m\u001b[36mnn\u001b[39;49;00m\r\n",
      "\r\n",
      "\u001b[34mclass\u001b[39;49;00m \u001b[04m\u001b[32mLSTMClassifier\u001b[39;49;00m(nn.Module):\r\n",
      "    \u001b[33m\"\"\"\u001b[39;49;00m\r\n",
      "\u001b[33m    This is the simple RNN model we will be using to perform Sentiment Analysis.\u001b[39;49;00m\r\n",
      "\u001b[33m    \"\"\"\u001b[39;49;00m\r\n",
      "\r\n",
      "    \u001b[34mdef\u001b[39;49;00m \u001b[32m__init__\u001b[39;49;00m(\u001b[36mself\u001b[39;49;00m, embedding_dim, hidden_dim, vocab_size):\r\n",
      "        \u001b[33m\"\"\"\u001b[39;49;00m\r\n",
      "\u001b[33m        Initialize the model by settingg up the various layers.\u001b[39;49;00m\r\n",
      "\u001b[33m        \"\"\"\u001b[39;49;00m\r\n",
      "        \u001b[36msuper\u001b[39;49;00m(LSTMClassifier, \u001b[36mself\u001b[39;49;00m).\u001b[32m__init__\u001b[39;49;00m()\r\n",
      "\r\n",
      "        \u001b[36mself\u001b[39;49;00m.embedding = nn.Embedding(vocab_size, embedding_dim, padding_idx=\u001b[34m0\u001b[39;49;00m)\r\n",
      "        \u001b[36mself\u001b[39;49;00m.lstm = nn.LSTM(embedding_dim, hidden_dim)\r\n",
      "        \u001b[36mself\u001b[39;49;00m.dense = nn.Linear(in_features=hidden_dim, out_features=\u001b[34m1\u001b[39;49;00m)\r\n",
      "        \u001b[36mself\u001b[39;49;00m.sig = nn.Sigmoid()\r\n",
      "        \r\n",
      "        \u001b[36mself\u001b[39;49;00m.word_dict = \u001b[34mNone\u001b[39;49;00m\r\n",
      "\r\n",
      "    \u001b[34mdef\u001b[39;49;00m \u001b[32mforward\u001b[39;49;00m(\u001b[36mself\u001b[39;49;00m, x):\r\n",
      "        \u001b[33m\"\"\"\u001b[39;49;00m\r\n",
      "\u001b[33m        Perform a forward pass of our model on some input.\u001b[39;49;00m\r\n",
      "\u001b[33m        \"\"\"\u001b[39;49;00m\r\n",
      "        x = x.t()\r\n",
      "        lengths = x[\u001b[34m0\u001b[39;49;00m,:]\r\n",
      "        reviews = x[\u001b[34m1\u001b[39;49;00m:,:]\r\n",
      "        embeds = \u001b[36mself\u001b[39;49;00m.embedding(reviews)\r\n",
      "        lstm_out, _ = \u001b[36mself\u001b[39;49;00m.lstm(embeds)\r\n",
      "        out = \u001b[36mself\u001b[39;49;00m.dense(lstm_out)\r\n",
      "        out = out[lengths - \u001b[34m1\u001b[39;49;00m, \u001b[36mrange\u001b[39;49;00m(\u001b[36mlen\u001b[39;49;00m(lengths))]\r\n",
      "        \u001b[34mreturn\u001b[39;49;00m \u001b[36mself\u001b[39;49;00m.sig(out.squeeze())\r\n"
     ]
    }
   ],
   "source": [
    "!pygmentize train/model.py"
   ]
  },
  {
   "cell_type": "markdown",
   "metadata": {},
   "source": [
    "The important takeaway from the implementation provided is that there are three parameters that we may wish to tweak to improve the performance of our model. These are the embedding dimension, the hidden dimension and the size of the vocabulary. We will likely want to make these parameters configurable in the training script so that if we wish to modify them we do not need to modify the script itself. We will see how to do this later on. To start we will write some of the training code in the notebook so that we can more easily diagnose any issues that arise.\n",
    "\n",
    "First we will load a small portion of the training data set to use as a sample. It would be very time consuming to try and train the model completely in the notebook as we do not have access to a gpu and the compute instance that we are using is not particularly powerful. However, we can work on a small bit of the data to get a feel for how our training script is behaving."
   ]
  },
  {
   "cell_type": "code",
   "execution_count": 23,
   "metadata": {},
   "outputs": [],
   "source": [
    "import torch\n",
    "import torch.utils.data\n",
    "\n",
    "# Read in only the first 250 rows\n",
    "train_sample = pd.read_csv(os.path.join(data_dir, 'train.csv'), header=None, names=None, nrows=250)\n",
    "\n",
    "# Turn the input pandas dataframe into tensors\n",
    "train_sample_y = torch.from_numpy(train_sample[[0]].values).float().squeeze()\n",
    "train_sample_X = torch.from_numpy(train_sample.drop([0], axis=1).values).long()\n",
    "\n",
    "# Build the dataset\n",
    "train_sample_ds = torch.utils.data.TensorDataset(train_sample_X, train_sample_y)\n",
    "# Build the dataloader\n",
    "train_sample_dl = torch.utils.data.DataLoader(train_sample_ds, batch_size=50)"
   ]
  },
  {
   "cell_type": "markdown",
   "metadata": {},
   "source": [
    "### (TODO) Writing the training method\n",
    "\n",
    "Next we need to write the training code itself. This should be very similar to training methods that you have written before to train PyTorch models. We will leave any difficult aspects such as model saving / loading and parameter loading until a little later."
   ]
  },
  {
   "cell_type": "code",
   "execution_count": 64,
   "metadata": {},
   "outputs": [],
   "source": [
    "def train(model, train_loader, epochs, optimizer, loss_fn, device):\n",
    "    for epoch in range(1, epochs + 1):\n",
    "        model.train()\n",
    "        total_loss = 0\n",
    "        for batch in train_loader:    \n",
    "            correct = 0\n",
    "            batch_X, batch_y = batch\n",
    "            \n",
    "            batch_X = batch_X.to(device)\n",
    "            batch_y = batch_y.to(device)\n",
    "            \n",
    "            optimizer.zero_grad()\n",
    "            # TODO: Complete this train method to train the model provided.\n",
    "            outputs = model(batch_X)\n",
    "            loss = loss_fn(outputs, batch_y)\n",
    "            correct += (np.round(outputs.cpu().data.numpy()) == np.round(batch_y.cpu().data.numpy())).sum().item()\n",
    "            loss.backward()\n",
    "            \n",
    "            optimizer.step()\n",
    "            \n",
    "            print ('Correct: {} , total: {} , acc: {:.3f} '.format(correct, batch_X.size(0), correct/batch_X.size(0)))\n",
    "            \n",
    "            total_loss += loss.data.item()\n",
    "        print(\"Epoch: {}, BCELoss: {:.4f}\".format(epoch, total_loss / len(train_loader)))"
   ]
  },
  {
   "cell_type": "markdown",
   "metadata": {},
   "source": [
    "Supposing we have the training method above, we will test that it is working by writing a bit of code in the notebook that executes our training method on the small sample training set that we loaded earlier. The reason for doing this in the notebook is so that we have an opportunity to fix any errors that arise early when they are easier to diagnose."
   ]
  },
  {
   "cell_type": "code",
   "execution_count": 65,
   "metadata": {},
   "outputs": [
    {
     "name": "stdout",
     "output_type": "stream",
     "text": [
      "Correct: 27 , total: 50 , acc: 0.540 \n",
      "Correct: 21 , total: 50 , acc: 0.420 \n",
      "Correct: 26 , total: 50 , acc: 0.520 \n",
      "Correct: 28 , total: 50 , acc: 0.560 \n",
      "Correct: 24 , total: 50 , acc: 0.480 \n",
      "Epoch: 1, BCELoss: 0.6934\n",
      "Correct: 36 , total: 50 , acc: 0.720 \n",
      "Correct: 31 , total: 50 , acc: 0.620 \n",
      "Correct: 32 , total: 50 , acc: 0.640 \n",
      "Correct: 35 , total: 50 , acc: 0.700 \n",
      "Correct: 30 , total: 50 , acc: 0.600 \n",
      "Epoch: 2, BCELoss: 0.6844\n",
      "Correct: 35 , total: 50 , acc: 0.700 \n",
      "Correct: 34 , total: 50 , acc: 0.680 \n",
      "Correct: 32 , total: 50 , acc: 0.640 \n",
      "Correct: 33 , total: 50 , acc: 0.660 \n",
      "Correct: 31 , total: 50 , acc: 0.620 \n",
      "Epoch: 3, BCELoss: 0.6764\n",
      "Correct: 37 , total: 50 , acc: 0.740 \n",
      "Correct: 32 , total: 50 , acc: 0.640 \n",
      "Correct: 32 , total: 50 , acc: 0.640 \n",
      "Correct: 34 , total: 50 , acc: 0.680 \n",
      "Correct: 35 , total: 50 , acc: 0.700 \n",
      "Epoch: 4, BCELoss: 0.6675\n",
      "Correct: 37 , total: 50 , acc: 0.740 \n",
      "Correct: 33 , total: 50 , acc: 0.660 \n",
      "Correct: 34 , total: 50 , acc: 0.680 \n",
      "Correct: 35 , total: 50 , acc: 0.700 \n",
      "Correct: 35 , total: 50 , acc: 0.700 \n",
      "Epoch: 5, BCELoss: 0.6566\n"
     ]
    }
   ],
   "source": [
    "import torch.optim as optim\n",
    "from train.model import LSTMClassifier\n",
    "\n",
    "device = torch.device(\"cuda\" if torch.cuda.is_available() else \"cpu\")\n",
    "model = LSTMClassifier(32, 100, 5000).to(device)\n",
    "optimizer = optim.Adam(model.parameters())\n",
    "loss_fn = torch.nn.BCELoss()\n",
    "\n",
    "train(model, train_sample_dl, 5, optimizer, loss_fn, device)"
   ]
  },
  {
   "cell_type": "markdown",
   "metadata": {},
   "source": [
    "In order to construct a PyTorch model using SageMaker we must provide SageMaker with a training script. We may optionally include a directory which will be copied to the container and from which our training code will be run. When the training container is executed it will check the uploaded directory (if there is one) for a `requirements.txt` file and install any required Python libraries, after which the training script will be run."
   ]
  },
  {
   "cell_type": "markdown",
   "metadata": {},
   "source": [
    "### (TODO) Training the model\n",
    "\n",
    "When a PyTorch model is constructed in SageMaker, an entry point must be specified. This is the Python file which will be executed when the model is trained. Inside of the `train` directory is a file called `train.py` which has been provided and which contains most of the necessary code to train our model. The only thing that is missing is the implementation of the `train()` method which you wrote earlier in this notebook.\n",
    "\n",
    "**TODO**: Copy the `train()` method written above and paste it into the `train/train.py` file where required.\n",
    "\n",
    "The way that SageMaker passes hyperparameters to the training script is by way of arguments. These arguments can then be parsed and used in the training script. To see how this is done take a look at the provided `train/train.py` file."
   ]
  },
  {
   "cell_type": "code",
   "execution_count": 71,
   "metadata": {},
   "outputs": [],
   "source": [
    "from sagemaker.pytorch import PyTorch\n",
    "\n",
    "estimator = PyTorch(entry_point=\"train.py\",\n",
    "                    source_dir=\"train\",\n",
    "                    role=role,\n",
    "                    framework_version='0.4.0',\n",
    "                    train_instance_count=1,\n",
    "                    train_instance_type='ml.p2.xlarge',\n",
    "                    hyperparameters={\n",
    "                        'epochs': 10,\n",
    "                        'hidden_dim': 200,\n",
    "                        'embedding_dim': 32\n",
    "                    })"
   ]
  },
  {
   "cell_type": "markdown",
   "metadata": {},
   "source": [
    "# Hyperparameter search"
   ]
  },
  {
   "cell_type": "code",
   "execution_count": 72,
   "metadata": {},
   "outputs": [],
   "source": [
    "from sagemaker.tuner import IntegerParameter, ContinuousParameter, HyperparameterTuner\n",
    "\n",
    "estimator_hyperparameter_tuner = HyperparameterTuner(estimator = estimator, # The estimator object to use as the basis for the training jobs.\n",
    "                                               objective_metric_name = 'validation:BCELoss', # The metric used to compare trained models.\n",
    "                                               metric_definitions = [{'Name': 'validation:BCELoss',\n",
    "                                                   'Regex': 'BCELoss: (\\S+)'}],\n",
    "                                               objective_type = 'Minimize', # Whether we wish to minimize or maximize the metric.\n",
    "                                               max_jobs = 12, # The total number of models to train\n",
    "                                               max_parallel_jobs = 2, # The number of models to train in parallel\n",
    "                                               hyperparameter_ranges = {\n",
    "                                                    'epochs': IntegerParameter(15, 25),\n",
    "                                                    'hidden_dim': IntegerParameter(100, 300),\n",
    "                                                    'embedding_dim': IntegerParameter(32, 128)\n",
    "                                               })"
   ]
  },
  {
   "cell_type": "code",
   "execution_count": 73,
   "metadata": {},
   "outputs": [
    {
     "name": "stderr",
     "output_type": "stream",
     "text": [
      "'s3_input' class will be renamed to 'TrainingInput' in SageMaker Python SDK v2.\n",
      "'s3_input' class will be renamed to 'TrainingInput' in SageMaker Python SDK v2.\n"
     ]
    }
   ],
   "source": [
    "s3_input_train = sagemaker.s3_input(s3_data=input_data, content_type='csv')\n",
    "s3_input_validation = sagemaker.s3_input(s3_data=input_data , content_type='csv')"
   ]
  },
  {
   "cell_type": "code",
   "execution_count": 74,
   "metadata": {},
   "outputs": [
    {
     "name": "stderr",
     "output_type": "stream",
     "text": [
      "'create_image_uri' will be deprecated in favor of 'ImageURIProvider' class in SageMaker Python SDK v2.\n",
      "'create_image_uri' will be deprecated in favor of 'ImageURIProvider' class in SageMaker Python SDK v2.\n",
      "'create_image_uri' will be deprecated in favor of 'ImageURIProvider' class in SageMaker Python SDK v2.\n"
     ]
    }
   ],
   "source": [
    "#estimator.fit({'training': input_data})\n",
    "estimator_hyperparameter_tuner.fit({'training': s3_input_train})"
   ]
  },
  {
   "cell_type": "code",
   "execution_count": 75,
   "metadata": {},
   "outputs": [
    {
     "name": "stdout",
     "output_type": "stream",
     "text": [
      "................................................................................................................................................................................................................................................................................................................................................................................................................................................................................................................................................................................................................................................................................................................................!\n"
     ]
    }
   ],
   "source": [
    "estimator_hyperparameter_tuner.wait()"
   ]
  },
  {
   "cell_type": "code",
   "execution_count": 76,
   "metadata": {
    "scrolled": true
   },
   "outputs": [
    {
     "name": "stderr",
     "output_type": "stream",
     "text": [
      "Parameter image_name will be renamed to image_uri in SageMaker Python SDK v2.\n"
     ]
    },
    {
     "name": "stdout",
     "output_type": "stream",
     "text": [
      "2020-10-04 20:41:10 Starting - Preparing the instances for training\n",
      "2020-10-04 20:41:10 Downloading - Downloading input data\n",
      "2020-10-04 20:41:10 Training - Training image download completed. Training in progress.\n",
      "2020-10-04 20:41:10 Uploading - Uploading generated training model\n",
      "2020-10-04 20:41:10 Completed - Training job completed\u001b[34mbash: cannot set terminal process group (-1): Inappropriate ioctl for device\u001b[0m\n",
      "\u001b[34mbash: no job control in this shell\u001b[0m\n",
      "\u001b[34m2020-10-04 20:34:24,565 sagemaker-containers INFO     Imported framework sagemaker_pytorch_container.training\u001b[0m\n",
      "\u001b[34m2020-10-04 20:34:24,566 sagemaker-containers INFO     Failed to parse hyperparameter _tuning_objective_metric value validation:BCELoss to Json.\u001b[0m\n",
      "\u001b[34mReturning the value itself\u001b[0m\n",
      "\u001b[34m2020-10-04 20:34:24,593 sagemaker_pytorch_container.training INFO     Block until all host DNS lookups succeed.\u001b[0m\n",
      "\u001b[34m2020-10-04 20:34:27,640 sagemaker_pytorch_container.training INFO     Invoking user training script.\u001b[0m\n",
      "\u001b[34m2020-10-04 20:34:27,947 sagemaker-containers INFO     Module train does not provide a setup.py. \u001b[0m\n",
      "\u001b[34mGenerating setup.py\u001b[0m\n",
      "\u001b[34m2020-10-04 20:34:27,947 sagemaker-containers INFO     Generating setup.cfg\u001b[0m\n",
      "\u001b[34m2020-10-04 20:34:27,947 sagemaker-containers INFO     Generating MANIFEST.in\u001b[0m\n",
      "\u001b[34m2020-10-04 20:34:27,947 sagemaker-containers INFO     Installing module with the following command:\u001b[0m\n",
      "\u001b[34m/usr/bin/python -m pip install -U . -r requirements.txt\u001b[0m\n",
      "\u001b[34mProcessing /opt/ml/code\u001b[0m\n",
      "\u001b[34mCollecting pandas (from -r requirements.txt (line 1))\u001b[0m\n",
      "\u001b[34m  Downloading https://files.pythonhosted.org/packages/74/24/0cdbf8907e1e3bc5a8da03345c23cbed7044330bb8f73bb12e711a640a00/pandas-0.24.2-cp35-cp35m-manylinux1_x86_64.whl (10.0MB)\u001b[0m\n",
      "\u001b[34mCollecting numpy (from -r requirements.txt (line 2))\n",
      "  Downloading https://files.pythonhosted.org/packages/b5/36/88723426b4ff576809fec7d73594fe17a35c27f8d01f93637637a29ae25b/numpy-1.18.5-cp35-cp35m-manylinux1_x86_64.whl (19.9MB)\u001b[0m\n",
      "\u001b[34mCollecting nltk (from -r requirements.txt (line 3))\n",
      "  Downloading https://files.pythonhosted.org/packages/92/75/ce35194d8e3022203cca0d2f896dbb88689f9b3fce8e9f9cff942913519d/nltk-3.5.zip (1.4MB)\u001b[0m\n",
      "\u001b[34mCollecting beautifulsoup4 (from -r requirements.txt (line 4))\n",
      "  Downloading https://files.pythonhosted.org/packages/d1/41/e6495bd7d3781cee623ce23ea6ac73282a373088fcd0ddc809a047b18eae/beautifulsoup4-4.9.3-py3-none-any.whl (115kB)\u001b[0m\n",
      "\u001b[34mCollecting html5lib (from -r requirements.txt (line 5))\n",
      "  Downloading https://files.pythonhosted.org/packages/6c/dd/a834df6482147d48e225a49515aabc28974ad5a4ca3215c18a882565b028/html5lib-1.1-py2.py3-none-any.whl (112kB)\u001b[0m\n",
      "\u001b[34mRequirement already satisfied, skipping upgrade: python-dateutil>=2.5.0 in /usr/local/lib/python3.5/dist-packages (from pandas->-r requirements.txt (line 1)) (2.7.5)\u001b[0m\n",
      "\u001b[34mCollecting pytz>=2011k (from pandas->-r requirements.txt (line 1))\n",
      "  Downloading https://files.pythonhosted.org/packages/4f/a4/879454d49688e2fad93e59d7d4efda580b783c745fd2ec2a3adf87b0808d/pytz-2020.1-py2.py3-none-any.whl (510kB)\u001b[0m\n",
      "\u001b[34mRequirement already satisfied, skipping upgrade: click in /usr/local/lib/python3.5/dist-packages (from nltk->-r requirements.txt (line 3)) (7.0)\u001b[0m\n",
      "\u001b[34mCollecting joblib (from nltk->-r requirements.txt (line 3))\n",
      "  Downloading https://files.pythonhosted.org/packages/28/5c/cf6a2b65a321c4a209efcdf64c2689efae2cb62661f8f6f4bb28547cf1bf/joblib-0.14.1-py2.py3-none-any.whl (294kB)\u001b[0m\n",
      "\u001b[34mCollecting regex (from nltk->-r requirements.txt (line 3))\u001b[0m\n",
      "\u001b[34m  Downloading https://files.pythonhosted.org/packages/93/8c/17f45cdfb39b13d4b5f909e4b4c2917abcbdef9c0036919a0399769148cf/regex-2020.9.27.tar.gz (690kB)\u001b[0m\n",
      "\u001b[34mCollecting tqdm (from nltk->-r requirements.txt (line 3))\n",
      "  Downloading https://files.pythonhosted.org/packages/0a/0e/ea53a3d6f1eb2cc31162c9ae89555cc26a3986e5559781f0b0df75aea5cf/tqdm-4.50.0-py2.py3-none-any.whl (70kB)\u001b[0m\n",
      "\u001b[34mCollecting soupsieve>1.2; python_version >= \"3.0\" (from beautifulsoup4->-r requirements.txt (line 4))\n",
      "  Downloading https://files.pythonhosted.org/packages/6f/8f/457f4a5390eeae1cc3aeab89deb7724c965be841ffca6cfca9197482e470/soupsieve-2.0.1-py3-none-any.whl\u001b[0m\n",
      "\u001b[34mCollecting webencodings (from html5lib->-r requirements.txt (line 5))\n",
      "  Downloading https://files.pythonhosted.org/packages/f4/24/2a3e3df732393fed8b3ebf2ec078f05546de641fe1b667ee316ec1dcf3b7/webencodings-0.5.1-py2.py3-none-any.whl\u001b[0m\n",
      "\u001b[34mRequirement already satisfied, skipping upgrade: six>=1.9 in /usr/local/lib/python3.5/dist-packages (from html5lib->-r requirements.txt (line 5)) (1.11.0)\u001b[0m\n",
      "\u001b[34mBuilding wheels for collected packages: nltk, train, regex\n",
      "  Running setup.py bdist_wheel for nltk: started\u001b[0m\n",
      "\u001b[34m  Running setup.py bdist_wheel for nltk: finished with status 'done'\n",
      "  Stored in directory: /root/.cache/pip/wheels/ae/8c/3f/b1fe0ba04555b08b57ab52ab7f86023639a526d8bc8d384306\n",
      "  Running setup.py bdist_wheel for train: started\u001b[0m\n",
      "\u001b[34m  Running setup.py bdist_wheel for train: finished with status 'done'\n",
      "  Stored in directory: /tmp/pip-ephem-wheel-cache-n67p40fi/wheels/35/24/16/37574d11bf9bde50616c67372a334f94fa8356bc7164af8ca3\n",
      "  Running setup.py bdist_wheel for regex: started\u001b[0m\n",
      "\u001b[34m  Running setup.py bdist_wheel for regex: finished with status 'done'\n",
      "  Stored in directory: /root/.cache/pip/wheels/3b/ce/8a/55c7dfaf510ff2ed9c4f52d2091eb3fca5f438969a9ed908b8\u001b[0m\n",
      "\u001b[34mSuccessfully built nltk train regex\u001b[0m\n",
      "\u001b[34mInstalling collected packages: numpy, pytz, pandas, joblib, regex, tqdm, nltk, soupsieve, beautifulsoup4, webencodings, html5lib, train\n",
      "  Found existing installation: numpy 1.15.4\n",
      "    Uninstalling numpy-1.15.4:\u001b[0m\n",
      "\u001b[34m      Successfully uninstalled numpy-1.15.4\u001b[0m\n",
      "\u001b[34mSuccessfully installed beautifulsoup4-4.9.3 html5lib-1.1 joblib-0.14.1 nltk-3.5 numpy-1.18.5 pandas-0.24.2 pytz-2020.1 regex-2020.9.27 soupsieve-2.0.1 tqdm-4.50.0 train-1.0.0 webencodings-0.5.1\u001b[0m\n",
      "\u001b[34mYou are using pip version 18.1, however version 20.2.3 is available.\u001b[0m\n",
      "\u001b[34mYou should consider upgrading via the 'pip install --upgrade pip' command.\u001b[0m\n",
      "\u001b[34m2020-10-04 20:34:51,751 sagemaker-containers INFO     Failed to parse hyperparameter _tuning_objective_metric value validation:BCELoss to Json.\u001b[0m\n",
      "\u001b[34mReturning the value itself\u001b[0m\n",
      "\u001b[34m2020-10-04 20:34:51,780 sagemaker-containers INFO     Invoking user script\n",
      "\u001b[0m\n",
      "\u001b[34mTraining Env:\n",
      "\u001b[0m\n",
      "\u001b[34m{\n",
      "    \"input_dir\": \"/opt/ml/input\",\n",
      "    \"input_data_config\": {\n",
      "        \"training\": {\n",
      "            \"ContentType\": \"csv\",\n",
      "            \"RecordWrapperType\": \"None\",\n",
      "            \"TrainingInputMode\": \"File\",\n",
      "            \"S3DistributionType\": \"FullyReplicated\"\n",
      "        }\n",
      "    },\n",
      "    \"job_name\": \"sagemaker-pytorch-201004-1942-011-294c1e60\",\n",
      "    \"resource_config\": {\n",
      "        \"network_interface_name\": \"eth0\",\n",
      "        \"current_host\": \"algo-1\",\n",
      "        \"hosts\": [\n",
      "            \"algo-1\"\n",
      "        ]\n",
      "    },\n",
      "    \"user_entry_point\": \"train.py\",\n",
      "    \"module_name\": \"train\",\n",
      "    \"module_dir\": \"s3://sagemaker-us-east-1-881838619214/sagemaker-pytorch-2020-10-04-19-42-43-278/source/sourcedir.tar.gz\",\n",
      "    \"hyperparameters\": {\n",
      "        \"hidden_dim\": 300,\n",
      "        \"epochs\": 15,\n",
      "        \"embedding_dim\": 32\n",
      "    },\n",
      "    \"num_gpus\": 1,\n",
      "    \"output_dir\": \"/opt/ml/output\",\n",
      "    \"hosts\": [\n",
      "        \"algo-1\"\n",
      "    ],\n",
      "    \"num_cpus\": 4,\n",
      "    \"log_level\": 20,\n",
      "    \"network_interface_name\": \"eth0\",\n",
      "    \"current_host\": \"algo-1\",\n",
      "    \"model_dir\": \"/opt/ml/model\",\n",
      "    \"output_intermediate_dir\": \"/opt/ml/output/intermediate\",\n",
      "    \"input_config_dir\": \"/opt/ml/input/config\",\n",
      "    \"framework_module\": \"sagemaker_pytorch_container.training:main\",\n",
      "    \"channel_input_dirs\": {\n",
      "        \"training\": \"/opt/ml/input/data/training\"\n",
      "    },\n",
      "    \"output_data_dir\": \"/opt/ml/output/data\",\n",
      "    \"additional_framework_parameters\": {\n",
      "        \"sagemaker_estimator_class_name\": \"PyTorch\",\n",
      "        \"sagemaker_estimator_module\": \"sagemaker.pytorch.estimator\"\n",
      "    }\u001b[0m\n",
      "\u001b[34m}\n",
      "\u001b[0m\n",
      "\u001b[34mEnvironment variables:\n",
      "\u001b[0m\n",
      "\u001b[34mSM_INPUT_DATA_CONFIG={\"training\":{\"ContentType\":\"csv\",\"RecordWrapperType\":\"None\",\"S3DistributionType\":\"FullyReplicated\",\"TrainingInputMode\":\"File\"}}\u001b[0m\n",
      "\u001b[34mSM_CURRENT_HOST=algo-1\u001b[0m\n",
      "\u001b[34mSM_FRAMEWORK_PARAMS={\"sagemaker_estimator_class_name\":\"PyTorch\",\"sagemaker_estimator_module\":\"sagemaker.pytorch.estimator\"}\u001b[0m\n",
      "\u001b[34mSM_CHANNEL_TRAINING=/opt/ml/input/data/training\u001b[0m\n",
      "\u001b[34mSM_NETWORK_INTERFACE_NAME=eth0\u001b[0m\n",
      "\u001b[34mSM_INPUT_CONFIG_DIR=/opt/ml/input/config\u001b[0m\n",
      "\u001b[34mSM_HP_HIDDEN_DIM=300\u001b[0m\n",
      "\u001b[34mSM_OUTPUT_INTERMEDIATE_DIR=/opt/ml/output/intermediate\u001b[0m\n",
      "\u001b[34mPYTHONPATH=/usr/local/bin:/usr/lib/python35.zip:/usr/lib/python3.5:/usr/lib/python3.5/plat-x86_64-linux-gnu:/usr/lib/python3.5/lib-dynload:/usr/local/lib/python3.5/dist-packages:/usr/lib/python3/dist-packages\u001b[0m\n",
      "\u001b[34mSM_USER_ARGS=[\"--embedding_dim\",\"32\",\"--epochs\",\"15\",\"--hidden_dim\",\"300\"]\u001b[0m\n",
      "\u001b[34mSM_INPUT_DIR=/opt/ml/input\u001b[0m\n",
      "\u001b[34mSM_OUTPUT_DATA_DIR=/opt/ml/output/data\u001b[0m\n",
      "\u001b[34mSM_CHANNELS=[\"training\"]\u001b[0m\n",
      "\u001b[34mSM_FRAMEWORK_MODULE=sagemaker_pytorch_container.training:main\u001b[0m\n",
      "\u001b[34mSM_OUTPUT_DIR=/opt/ml/output\u001b[0m\n",
      "\u001b[34mSM_HOSTS=[\"algo-1\"]\u001b[0m\n",
      "\u001b[34mSM_NUM_GPUS=1\u001b[0m\n",
      "\u001b[34mSM_USER_ENTRY_POINT=train.py\u001b[0m\n",
      "\u001b[34mSM_HP_EPOCHS=15\u001b[0m\n",
      "\u001b[34mSM_HP_EMBEDDING_DIM=32\u001b[0m\n",
      "\u001b[34mSM_MODEL_DIR=/opt/ml/model\u001b[0m\n",
      "\u001b[34mSM_MODULE_DIR=s3://sagemaker-us-east-1-881838619214/sagemaker-pytorch-2020-10-04-19-42-43-278/source/sourcedir.tar.gz\u001b[0m\n",
      "\u001b[34mSM_NUM_CPUS=4\u001b[0m\n",
      "\u001b[34mSM_LOG_LEVEL=20\u001b[0m\n",
      "\u001b[34mSM_MODULE_NAME=train\u001b[0m\n",
      "\u001b[34mSM_RESOURCE_CONFIG={\"current_host\":\"algo-1\",\"hosts\":[\"algo-1\"],\"network_interface_name\":\"eth0\"}\u001b[0m\n",
      "\u001b[34mSM_HPS={\"embedding_dim\":32,\"epochs\":15,\"hidden_dim\":300}\u001b[0m\n",
      "\u001b[34mSM_TRAINING_ENV={\"additional_framework_parameters\":{\"sagemaker_estimator_class_name\":\"PyTorch\",\"sagemaker_estimator_module\":\"sagemaker.pytorch.estimator\"},\"channel_input_dirs\":{\"training\":\"/opt/ml/input/data/training\"},\"current_host\":\"algo-1\",\"framework_module\":\"sagemaker_pytorch_container.training:main\",\"hosts\":[\"algo-1\"],\"hyperparameters\":{\"embedding_dim\":32,\"epochs\":15,\"hidden_dim\":300},\"input_config_dir\":\"/opt/ml/input/config\",\"input_data_config\":{\"training\":{\"ContentType\":\"csv\",\"RecordWrapperType\":\"None\",\"S3DistributionType\":\"FullyReplicated\",\"TrainingInputMode\":\"File\"}},\"input_dir\":\"/opt/ml/input\",\"job_name\":\"sagemaker-pytorch-201004-1942-011-294c1e60\",\"log_level\":20,\"model_dir\":\"/opt/ml/model\",\"module_dir\":\"s3://sagemaker-us-east-1-881838619214/sagemaker-pytorch-2020-10-04-19-42-43-278/source/sourcedir.tar.gz\",\"module_name\":\"train\",\"network_interface_name\":\"eth0\",\"num_cpus\":4,\"num_gpus\":1,\"output_data_dir\":\"/opt/ml/output/data\",\"output_dir\":\"/opt/ml/output\",\"output_intermediate_dir\":\"/opt/ml/output/intermediate\",\"resource_config\":{\"current_host\":\"algo-1\",\"hosts\":[\"algo-1\"],\"network_interface_name\":\"eth0\"},\"user_entry_point\":\"train.py\"}\n",
      "\u001b[0m\n",
      "\u001b[34mInvoking script with the following command:\n",
      "\u001b[0m\n",
      "\u001b[34m/usr/bin/python -m train --embedding_dim 32 --epochs 15 --hidden_dim 300\n",
      "\n",
      "\u001b[0m\n",
      "\u001b[34mUsing device cuda.\u001b[0m\n",
      "\u001b[34mGet train data loader.\u001b[0m\n",
      "\u001b[34mModel loaded with embedding_dim 32, hidden_dim 300, vocab_size 5000.\u001b[0m\n",
      "\u001b[34mEpoch: 1, BCELoss: 0.6847\u001b[0m\n",
      "\u001b[34mEpoch: 2, BCELoss: 0.6685\u001b[0m\n",
      "\u001b[34mEpoch: 3, BCELoss: 0.6191\u001b[0m\n",
      "\u001b[34mEpoch: 4, BCELoss: 0.5439\u001b[0m\n",
      "\u001b[34mEpoch: 5, BCELoss: 0.4803\u001b[0m\n",
      "\u001b[34mEpoch: 6, BCELoss: 0.4392\u001b[0m\n",
      "\u001b[34mEpoch: 7, BCELoss: 0.4053\u001b[0m\n",
      "\u001b[34mEpoch: 8, BCELoss: 0.3693\u001b[0m\n",
      "\u001b[34mEpoch: 9, BCELoss: 0.3751\u001b[0m\n",
      "\u001b[34mEpoch: 10, BCELoss: 0.3517\u001b[0m\n",
      "\u001b[34mEpoch: 11, BCELoss: 0.3293\u001b[0m\n",
      "\u001b[34mEpoch: 12, BCELoss: 0.3061\u001b[0m\n",
      "\u001b[34mEpoch: 13, BCELoss: 0.2836\u001b[0m\n",
      "\u001b[34mEpoch: 14, BCELoss: 0.2695\u001b[0m\n",
      "\u001b[34mEpoch: 15, BCELoss: 0.2567\u001b[0m\n",
      "\u001b[34mGet train data loader.\u001b[0m\n",
      "\u001b[34mEVALUATION, BCELoss: 0.0007 , Accuracy: 85.3000 \u001b[0m\n",
      "\u001b[34m2020-10-04 20:41:02,114 sagemaker-containers INFO     Reporting training SUCCESS\u001b[0m\n"
     ]
    },
    {
     "name": "stdout",
     "output_type": "stream",
     "text": [
      "Training seconds: 470\n",
      "Billable seconds: 470\n"
     ]
    }
   ],
   "source": [
    "estimator_attached = sagemaker.estimator.Estimator.attach(estimator_hyperparameter_tuner.best_training_job())"
   ]
  },
  {
   "cell_type": "markdown",
   "metadata": {},
   "source": [
    "I'm having some trouble with the attach part of the hyperparameter tuning job, so I will just train another estimator with the best hyperparams found. I will review with mor time what is happening.  "
   ]
  },
  {
   "cell_type": "code",
   "execution_count": 81,
   "metadata": {},
   "outputs": [],
   "source": [
    "estimator = PyTorch(entry_point=\"train.py\",\n",
    "                    source_dir=\"train\",\n",
    "                    role=role,\n",
    "                    framework_version='0.4.0',\n",
    "                    train_instance_count=1,\n",
    "                    train_instance_type='ml.p2.xlarge',\n",
    "                    hyperparameters={\n",
    "                        'epochs': 15,\n",
    "                        'hidden_dim': 300,\n",
    "                        'embedding_dim': 32\n",
    "                    })"
   ]
  },
  {
   "cell_type": "code",
   "execution_count": 82,
   "metadata": {},
   "outputs": [
    {
     "name": "stderr",
     "output_type": "stream",
     "text": [
      "'create_image_uri' will be deprecated in favor of 'ImageURIProvider' class in SageMaker Python SDK v2.\n",
      "'s3_input' class will be renamed to 'TrainingInput' in SageMaker Python SDK v2.\n",
      "'create_image_uri' will be deprecated in favor of 'ImageURIProvider' class in SageMaker Python SDK v2.\n"
     ]
    },
    {
     "name": "stdout",
     "output_type": "stream",
     "text": [
      "2020-10-04 22:24:41 Starting - Starting the training job...\n",
      "2020-10-04 22:24:44 Starting - Launching requested ML instances......\n",
      "2020-10-04 22:25:49 Starting - Preparing the instances for training............\n",
      "2020-10-04 22:27:59 Downloading - Downloading input data...\n",
      "2020-10-04 22:28:29 Training - Downloading the training image..\u001b[34mbash: cannot set terminal process group (-1): Inappropriate ioctl for device\u001b[0m\n",
      "\u001b[34mbash: no job control in this shell\u001b[0m\n",
      "\u001b[34m2020-10-04 22:28:50,597 sagemaker-containers INFO     Imported framework sagemaker_pytorch_container.training\u001b[0m\n",
      "\u001b[34m2020-10-04 22:28:50,623 sagemaker_pytorch_container.training INFO     Block until all host DNS lookups succeed.\u001b[0m\n",
      "\u001b[34m2020-10-04 22:28:53,679 sagemaker_pytorch_container.training INFO     Invoking user training script.\u001b[0m\n",
      "\u001b[34m2020-10-04 22:28:53,916 sagemaker-containers INFO     Module train does not provide a setup.py. \u001b[0m\n",
      "\u001b[34mGenerating setup.py\u001b[0m\n",
      "\u001b[34m2020-10-04 22:28:53,916 sagemaker-containers INFO     Generating setup.cfg\u001b[0m\n",
      "\u001b[34m2020-10-04 22:28:53,916 sagemaker-containers INFO     Generating MANIFEST.in\u001b[0m\n",
      "\u001b[34m2020-10-04 22:28:53,916 sagemaker-containers INFO     Installing module with the following command:\u001b[0m\n",
      "\u001b[34m/usr/bin/python -m pip install -U . -r requirements.txt\u001b[0m\n",
      "\u001b[34mProcessing /opt/ml/code\u001b[0m\n",
      "\u001b[34mCollecting pandas (from -r requirements.txt (line 1))\n",
      "  Downloading https://files.pythonhosted.org/packages/74/24/0cdbf8907e1e3bc5a8da03345c23cbed7044330bb8f73bb12e711a640a00/pandas-0.24.2-cp35-cp35m-manylinux1_x86_64.whl (10.0MB)\u001b[0m\n",
      "\u001b[34mCollecting numpy (from -r requirements.txt (line 2))\n",
      "  Downloading https://files.pythonhosted.org/packages/b5/36/88723426b4ff576809fec7d73594fe17a35c27f8d01f93637637a29ae25b/numpy-1.18.5-cp35-cp35m-manylinux1_x86_64.whl (19.9MB)\u001b[0m\n",
      "\u001b[34mCollecting nltk (from -r requirements.txt (line 3))\n",
      "  Downloading https://files.pythonhosted.org/packages/92/75/ce35194d8e3022203cca0d2f896dbb88689f9b3fce8e9f9cff942913519d/nltk-3.5.zip (1.4MB)\u001b[0m\n",
      "\u001b[34mCollecting beautifulsoup4 (from -r requirements.txt (line 4))\n",
      "  Downloading https://files.pythonhosted.org/packages/d1/41/e6495bd7d3781cee623ce23ea6ac73282a373088fcd0ddc809a047b18eae/beautifulsoup4-4.9.3-py3-none-any.whl (115kB)\u001b[0m\n",
      "\u001b[34mCollecting html5lib (from -r requirements.txt (line 5))\n",
      "  Downloading https://files.pythonhosted.org/packages/6c/dd/a834df6482147d48e225a49515aabc28974ad5a4ca3215c18a882565b028/html5lib-1.1-py2.py3-none-any.whl (112kB)\u001b[0m\n",
      "\u001b[34mCollecting pytz>=2011k (from pandas->-r requirements.txt (line 1))\n",
      "  Downloading https://files.pythonhosted.org/packages/4f/a4/879454d49688e2fad93e59d7d4efda580b783c745fd2ec2a3adf87b0808d/pytz-2020.1-py2.py3-none-any.whl (510kB)\u001b[0m\n",
      "\u001b[34mRequirement already satisfied, skipping upgrade: python-dateutil>=2.5.0 in /usr/local/lib/python3.5/dist-packages (from pandas->-r requirements.txt (line 1)) (2.7.5)\u001b[0m\n",
      "\u001b[34mRequirement already satisfied, skipping upgrade: click in /usr/local/lib/python3.5/dist-packages (from nltk->-r requirements.txt (line 3)) (7.0)\u001b[0m\n",
      "\u001b[34mCollecting joblib (from nltk->-r requirements.txt (line 3))\n",
      "  Downloading https://files.pythonhosted.org/packages/28/5c/cf6a2b65a321c4a209efcdf64c2689efae2cb62661f8f6f4bb28547cf1bf/joblib-0.14.1-py2.py3-none-any.whl (294kB)\u001b[0m\n",
      "\u001b[34mCollecting regex (from nltk->-r requirements.txt (line 3))\u001b[0m\n",
      "\u001b[34m  Downloading https://files.pythonhosted.org/packages/93/8c/17f45cdfb39b13d4b5f909e4b4c2917abcbdef9c0036919a0399769148cf/regex-2020.9.27.tar.gz (690kB)\u001b[0m\n",
      "\u001b[34mCollecting tqdm (from nltk->-r requirements.txt (line 3))\n",
      "  Downloading https://files.pythonhosted.org/packages/0a/0e/ea53a3d6f1eb2cc31162c9ae89555cc26a3986e5559781f0b0df75aea5cf/tqdm-4.50.0-py2.py3-none-any.whl (70kB)\u001b[0m\n",
      "\u001b[34mCollecting soupsieve>1.2; python_version >= \"3.0\" (from beautifulsoup4->-r requirements.txt (line 4))\n",
      "  Downloading https://files.pythonhosted.org/packages/6f/8f/457f4a5390eeae1cc3aeab89deb7724c965be841ffca6cfca9197482e470/soupsieve-2.0.1-py3-none-any.whl\u001b[0m\n",
      "\u001b[34mCollecting webencodings (from html5lib->-r requirements.txt (line 5))\n",
      "  Downloading https://files.pythonhosted.org/packages/f4/24/2a3e3df732393fed8b3ebf2ec078f05546de641fe1b667ee316ec1dcf3b7/webencodings-0.5.1-py2.py3-none-any.whl\u001b[0m\n",
      "\u001b[34mRequirement already satisfied, skipping upgrade: six>=1.9 in /usr/local/lib/python3.5/dist-packages (from html5lib->-r requirements.txt (line 5)) (1.11.0)\u001b[0m\n",
      "\u001b[34mBuilding wheels for collected packages: nltk, train, regex\n",
      "  Running setup.py bdist_wheel for nltk: started\u001b[0m\n",
      "\n",
      "2020-10-04 22:28:49 Training - Training image download completed. Training in progress.\u001b[34m  Running setup.py bdist_wheel for nltk: finished with status 'done'\n",
      "  Stored in directory: /root/.cache/pip/wheels/ae/8c/3f/b1fe0ba04555b08b57ab52ab7f86023639a526d8bc8d384306\n",
      "  Running setup.py bdist_wheel for train: started\u001b[0m\n",
      "\u001b[34m  Running setup.py bdist_wheel for train: finished with status 'done'\n",
      "  Stored in directory: /tmp/pip-ephem-wheel-cache-00zi3zwx/wheels/35/24/16/37574d11bf9bde50616c67372a334f94fa8356bc7164af8ca3\n",
      "  Running setup.py bdist_wheel for regex: started\u001b[0m\n",
      "\u001b[34m  Running setup.py bdist_wheel for regex: finished with status 'done'\n",
      "  Stored in directory: /root/.cache/pip/wheels/3b/ce/8a/55c7dfaf510ff2ed9c4f52d2091eb3fca5f438969a9ed908b8\u001b[0m\n",
      "\u001b[34mSuccessfully built nltk train regex\u001b[0m\n",
      "\u001b[34mInstalling collected packages: numpy, pytz, pandas, joblib, regex, tqdm, nltk, soupsieve, beautifulsoup4, webencodings, html5lib, train\n",
      "  Found existing installation: numpy 1.15.4\n",
      "    Uninstalling numpy-1.15.4:\u001b[0m\n",
      "\u001b[34m      Successfully uninstalled numpy-1.15.4\u001b[0m\n",
      "\u001b[34mSuccessfully installed beautifulsoup4-4.9.3 html5lib-1.1 joblib-0.14.1 nltk-3.5 numpy-1.18.5 pandas-0.24.2 pytz-2020.1 regex-2020.9.27 soupsieve-2.0.1 tqdm-4.50.0 train-1.0.0 webencodings-0.5.1\u001b[0m\n",
      "\u001b[34mYou are using pip version 18.1, however version 20.2.3 is available.\u001b[0m\n",
      "\u001b[34mYou should consider upgrading via the 'pip install --upgrade pip' command.\u001b[0m\n",
      "\u001b[34m2020-10-04 22:29:17,295 sagemaker-containers INFO     Invoking user script\n",
      "\u001b[0m\n",
      "\u001b[34mTraining Env:\n",
      "\u001b[0m\n",
      "\u001b[34m{\n",
      "    \"resource_config\": {\n",
      "        \"hosts\": [\n",
      "            \"algo-1\"\n",
      "        ],\n",
      "        \"current_host\": \"algo-1\",\n",
      "        \"network_interface_name\": \"eth0\"\n",
      "    },\n",
      "    \"network_interface_name\": \"eth0\",\n",
      "    \"output_dir\": \"/opt/ml/output\",\n",
      "    \"input_config_dir\": \"/opt/ml/input/config\",\n",
      "    \"hosts\": [\n",
      "        \"algo-1\"\n",
      "    ],\n",
      "    \"job_name\": \"sagemaker-pytorch-2020-10-04-22-24-41-395\",\n",
      "    \"additional_framework_parameters\": {},\n",
      "    \"num_cpus\": 4,\n",
      "    \"hyperparameters\": {\n",
      "        \"hidden_dim\": 300,\n",
      "        \"epochs\": 15,\n",
      "        \"embedding_dim\": 32\n",
      "    },\n",
      "    \"channel_input_dirs\": {\n",
      "        \"training\": \"/opt/ml/input/data/training\"\n",
      "    },\n",
      "    \"input_data_config\": {\n",
      "        \"training\": {\n",
      "            \"S3DistributionType\": \"FullyReplicated\",\n",
      "            \"TrainingInputMode\": \"File\",\n",
      "            \"RecordWrapperType\": \"None\"\n",
      "        }\n",
      "    },\n",
      "    \"module_name\": \"train\",\n",
      "    \"num_gpus\": 1,\n",
      "    \"framework_module\": \"sagemaker_pytorch_container.training:main\",\n",
      "    \"current_host\": \"algo-1\",\n",
      "    \"output_intermediate_dir\": \"/opt/ml/output/intermediate\",\n",
      "    \"user_entry_point\": \"train.py\",\n",
      "    \"module_dir\": \"s3://sagemaker-us-east-1-881838619214/sagemaker-pytorch-2020-10-04-22-24-41-395/source/sourcedir.tar.gz\",\n",
      "    \"model_dir\": \"/opt/ml/model\",\n",
      "    \"output_data_dir\": \"/opt/ml/output/data\",\n",
      "    \"log_level\": 20,\n",
      "    \"input_dir\": \"/opt/ml/input\"\u001b[0m\n",
      "\u001b[34m}\n",
      "\u001b[0m\n",
      "\u001b[34mEnvironment variables:\n",
      "\u001b[0m\n",
      "\u001b[34mSM_USER_ARGS=[\"--embedding_dim\",\"32\",\"--epochs\",\"15\",\"--hidden_dim\",\"300\"]\u001b[0m\n",
      "\u001b[34mSM_MODULE_NAME=train\u001b[0m\n",
      "\u001b[34mSM_OUTPUT_DIR=/opt/ml/output\u001b[0m\n",
      "\u001b[34mSM_HPS={\"embedding_dim\":32,\"epochs\":15,\"hidden_dim\":300}\u001b[0m\n",
      "\u001b[34mSM_HP_HIDDEN_DIM=300\u001b[0m\n",
      "\u001b[34mSM_MODULE_DIR=s3://sagemaker-us-east-1-881838619214/sagemaker-pytorch-2020-10-04-22-24-41-395/source/sourcedir.tar.gz\u001b[0m\n",
      "\u001b[34mSM_FRAMEWORK_MODULE=sagemaker_pytorch_container.training:main\u001b[0m\n",
      "\u001b[34mSM_INPUT_CONFIG_DIR=/opt/ml/input/config\u001b[0m\n",
      "\u001b[34mSM_INPUT_DIR=/opt/ml/input\u001b[0m\n",
      "\u001b[34mSM_INPUT_DATA_CONFIG={\"training\":{\"RecordWrapperType\":\"None\",\"S3DistributionType\":\"FullyReplicated\",\"TrainingInputMode\":\"File\"}}\u001b[0m\n",
      "\u001b[34mSM_HP_EPOCHS=15\u001b[0m\n",
      "\u001b[34mSM_TRAINING_ENV={\"additional_framework_parameters\":{},\"channel_input_dirs\":{\"training\":\"/opt/ml/input/data/training\"},\"current_host\":\"algo-1\",\"framework_module\":\"sagemaker_pytorch_container.training:main\",\"hosts\":[\"algo-1\"],\"hyperparameters\":{\"embedding_dim\":32,\"epochs\":15,\"hidden_dim\":300},\"input_config_dir\":\"/opt/ml/input/config\",\"input_data_config\":{\"training\":{\"RecordWrapperType\":\"None\",\"S3DistributionType\":\"FullyReplicated\",\"TrainingInputMode\":\"File\"}},\"input_dir\":\"/opt/ml/input\",\"job_name\":\"sagemaker-pytorch-2020-10-04-22-24-41-395\",\"log_level\":20,\"model_dir\":\"/opt/ml/model\",\"module_dir\":\"s3://sagemaker-us-east-1-881838619214/sagemaker-pytorch-2020-10-04-22-24-41-395/source/sourcedir.tar.gz\",\"module_name\":\"train\",\"network_interface_name\":\"eth0\",\"num_cpus\":4,\"num_gpus\":1,\"output_data_dir\":\"/opt/ml/output/data\",\"output_dir\":\"/opt/ml/output\",\"output_intermediate_dir\":\"/opt/ml/output/intermediate\",\"resource_config\":{\"current_host\":\"algo-1\",\"hosts\":[\"algo-1\"],\"network_interface_name\":\"eth0\"},\"user_entry_point\":\"train.py\"}\u001b[0m\n",
      "\u001b[34mSM_MODEL_DIR=/opt/ml/model\u001b[0m\n",
      "\u001b[34mSM_LOG_LEVEL=20\u001b[0m\n",
      "\u001b[34mPYTHONPATH=/usr/local/bin:/usr/lib/python35.zip:/usr/lib/python3.5:/usr/lib/python3.5/plat-x86_64-linux-gnu:/usr/lib/python3.5/lib-dynload:/usr/local/lib/python3.5/dist-packages:/usr/lib/python3/dist-packages\u001b[0m\n",
      "\u001b[34mSM_CHANNEL_TRAINING=/opt/ml/input/data/training\u001b[0m\n",
      "\u001b[34mSM_OUTPUT_INTERMEDIATE_DIR=/opt/ml/output/intermediate\u001b[0m\n",
      "\u001b[34mSM_USER_ENTRY_POINT=train.py\u001b[0m\n",
      "\u001b[34mSM_RESOURCE_CONFIG={\"current_host\":\"algo-1\",\"hosts\":[\"algo-1\"],\"network_interface_name\":\"eth0\"}\u001b[0m\n",
      "\u001b[34mSM_HP_EMBEDDING_DIM=32\u001b[0m\n",
      "\u001b[34mSM_CHANNELS=[\"training\"]\u001b[0m\n",
      "\u001b[34mSM_CURRENT_HOST=algo-1\u001b[0m\n",
      "\u001b[34mSM_NUM_GPUS=1\u001b[0m\n",
      "\u001b[34mSM_NUM_CPUS=4\u001b[0m\n",
      "\u001b[34mSM_OUTPUT_DATA_DIR=/opt/ml/output/data\u001b[0m\n",
      "\u001b[34mSM_HOSTS=[\"algo-1\"]\u001b[0m\n",
      "\u001b[34mSM_NETWORK_INTERFACE_NAME=eth0\u001b[0m\n",
      "\u001b[34mSM_FRAMEWORK_PARAMS={}\n",
      "\u001b[0m\n",
      "\u001b[34mInvoking script with the following command:\n",
      "\u001b[0m\n",
      "\u001b[34m/usr/bin/python -m train --embedding_dim 32 --epochs 15 --hidden_dim 300\n",
      "\n",
      "\u001b[0m\n",
      "\u001b[34mUsing device cuda.\u001b[0m\n",
      "\u001b[34mGet train data loader.\u001b[0m\n"
     ]
    },
    {
     "name": "stdout",
     "output_type": "stream",
     "text": [
      "\u001b[34mModel loaded with embedding_dim 32, hidden_dim 300, vocab_size 5000.\u001b[0m\n",
      "\u001b[34mEpoch: 1, BCELoss: 0.6847\u001b[0m\n",
      "\u001b[34mEpoch: 2, BCELoss: 0.6685\u001b[0m\n",
      "\u001b[34mEpoch: 3, BCELoss: 0.6191\u001b[0m\n",
      "\u001b[34mEpoch: 4, BCELoss: 0.5439\u001b[0m\n",
      "\u001b[34mEpoch: 5, BCELoss: 0.4803\u001b[0m\n",
      "\u001b[34mEpoch: 6, BCELoss: 0.4392\u001b[0m\n",
      "\u001b[34mEpoch: 7, BCELoss: 0.4053\u001b[0m\n",
      "\u001b[34mEpoch: 8, BCELoss: 0.3693\u001b[0m\n",
      "\u001b[34mEpoch: 9, BCELoss: 0.3751\u001b[0m\n",
      "\u001b[34mEpoch: 10, BCELoss: 0.3517\u001b[0m\n",
      "\u001b[34mEpoch: 11, BCELoss: 0.3293\u001b[0m\n",
      "\u001b[34mEpoch: 12, BCELoss: 0.3061\u001b[0m\n",
      "\u001b[34mEpoch: 13, BCELoss: 0.2836\u001b[0m\n",
      "\u001b[34mEpoch: 14, BCELoss: 0.2695\u001b[0m\n",
      "\u001b[34mEpoch: 15, BCELoss: 0.2567\u001b[0m\n",
      "\u001b[34mGet train data loader.\u001b[0m\n",
      "\u001b[34mEVALUATION, BCELoss: 0.0007 , Accuracy: 85.3000 \u001b[0m\n",
      "\u001b[34m2020-10-04 22:35:27,545 sagemaker-containers INFO     Reporting training SUCCESS\u001b[0m\n",
      "\n",
      "2020-10-04 22:35:36 Uploading - Uploading generated training model\n",
      "2020-10-04 22:35:36 Completed - Training job completed\n",
      "Training seconds: 457\n",
      "Billable seconds: 457\n"
     ]
    }
   ],
   "source": [
    "estimator.fit({'training': input_data})"
   ]
  },
  {
   "cell_type": "markdown",
   "metadata": {},
   "source": [
    "## Step 5: Testing the model\n",
    "\n",
    "As mentioned at the top of this notebook, we will be testing this model by first deploying it and then sending the testing data to the deployed endpoint. We will do this so that we can make sure that the deployed model is working correctly.\n",
    "\n",
    "## Step 6: Deploy the model for testing\n",
    "\n",
    "Now that we have trained our model, we would like to test it to see how it performs. Currently our model takes input of the form `review_length, review[500]` where `review[500]` is a sequence of `500` integers which describe the words present in the review, encoded using `word_dict`. Fortunately for us, SageMaker provides built-in inference code for models with simple inputs such as this.\n",
    "\n",
    "There is one thing that we need to provide, however, and that is a function which loads the saved model. This function must be called `model_fn()` and takes as its only parameter a path to the directory where the model artifacts are stored. This function must also be present in the python file which we specified as the entry point. In our case the model loading function has been provided and so no changes need to be made.\n",
    "\n",
    "**NOTE**: When the built-in inference code is run it must import the `model_fn()` method from the `train.py` file. This is why the training code is wrapped in a main guard ( ie, `if __name__ == '__main__':` )\n",
    "\n",
    "Since we don't need to change anything in the code that was uploaded during training, we can simply deploy the current model as-is.\n",
    "\n",
    "**NOTE:** When deploying a model you are asking SageMaker to launch an compute instance that will wait for data to be sent to it. As a result, this compute instance will continue to run until *you* shut it down. This is important to know since the cost of a deployed endpoint depends on how long it has been running for.\n",
    "\n",
    "In other words **If you are no longer using a deployed endpoint, shut it down!**\n",
    "\n",
    "**TODO:** Deploy the trained model."
   ]
  },
  {
   "cell_type": "code",
   "execution_count": 83,
   "metadata": {},
   "outputs": [
    {
     "name": "stderr",
     "output_type": "stream",
     "text": [
      "Parameter image will be renamed to image_uri in SageMaker Python SDK v2.\n",
      "'create_image_uri' will be deprecated in favor of 'ImageURIProvider' class in SageMaker Python SDK v2.\n"
     ]
    },
    {
     "name": "stdout",
     "output_type": "stream",
     "text": [
      "-----------------!"
     ]
    }
   ],
   "source": [
    "# TODO: Deploy the trained model\n",
    "predictor = estimator.deploy(initial_instance_count=1, instance_type='ml.m4.xlarge')"
   ]
  },
  {
   "cell_type": "markdown",
   "metadata": {},
   "source": [
    "## Step 7 - Use the model for testing\n",
    "\n",
    "Once deployed, we can read in the test data and send it off to our deployed model to get some results. Once we collect all of the results we can determine how accurate our model is."
   ]
  },
  {
   "cell_type": "code",
   "execution_count": 84,
   "metadata": {},
   "outputs": [],
   "source": [
    "test_X = pd.concat([pd.DataFrame(test_X_len), pd.DataFrame(test_X)], axis=1)"
   ]
  },
  {
   "cell_type": "code",
   "execution_count": 85,
   "metadata": {},
   "outputs": [
    {
     "name": "stdout",
     "output_type": "stream",
     "text": [
      "[[  51  244  180 ...    0    0    0]\n",
      " [  57   99    2 ...    0    0    0]\n",
      " [  50  744    2 ...    0    0    0]\n",
      " ...\n",
      " [ 108  131   29 ...    0    0    0]\n",
      " [ 102  135 2288 ...    0    0    0]\n",
      " [ 105  135    2 ...    0    0    0]]\n"
     ]
    }
   ],
   "source": [
    "print(test_X.values)"
   ]
  },
  {
   "cell_type": "code",
   "execution_count": 86,
   "metadata": {},
   "outputs": [],
   "source": [
    "# We split the data into chunks and send each chunk seperately, accumulating the results.\n",
    "\n",
    "def predict(data, rows=512):\n",
    "    split_array = np.array_split(data, int(data.shape[0] / float(rows) + 1))\n",
    "    predictions = np.array([])\n",
    "    for array in split_array:\n",
    "        predictions = np.append(predictions, predictor.predict(array))\n",
    "    \n",
    "    return predictions"
   ]
  },
  {
   "cell_type": "code",
   "execution_count": 87,
   "metadata": {},
   "outputs": [],
   "source": [
    "predictions = predict(test_X.values)\n",
    "predictions = [round(num) for num in predictions]"
   ]
  },
  {
   "cell_type": "code",
   "execution_count": 88,
   "metadata": {},
   "outputs": [
    {
     "data": {
      "text/plain": [
       "0.84244"
      ]
     },
     "execution_count": 88,
     "metadata": {},
     "output_type": "execute_result"
    }
   ],
   "source": [
    "from sklearn.metrics import accuracy_score\n",
    "accuracy_score(test_y, predictions)"
   ]
  },
  {
   "cell_type": "markdown",
   "metadata": {},
   "source": [
    "**Question:** How does this model compare to the XGBoost model you created earlier? Why might these two models perform differently on this dataset? Which do *you* think is better for sentiment analysis?"
   ]
  },
  {
   "cell_type": "markdown",
   "metadata": {},
   "source": [
    "**Answer:** The XGBoost model performed sligtly better (0.833 vs 0.839). However, I have not yet tunned the hyperparams of the model, so afet I do the tunning, the model will probably surpass the XGBoost. This methods might perform differently because many reasons, for example: 1. The representation vector used as embedding is different, while in the XGBoost model wee used a bag-of-words representation, in the lstm whe used a frequency-based representation. 2. The two models are by principle different, so the mechanincs of \"learning\" is different. I thing the LSTM should perform bettrer based on the literature.\n",
    "\n",
    "In a second run, I added hyperparameter tunning to find a bettr configuration of the emmbeding dimention and the hidden dimention. This resulted in slight improve of 1% in accuracy (0.842). It seems that to have a better result, the model of the netwrok should be improved, for example by adding droput layer, changing the activation of the hidden layer, etc. "
   ]
  },
  {
   "cell_type": "markdown",
   "metadata": {},
   "source": [
    "### (TODO) More testing\n",
    "\n",
    "We now have a trained model which has been deployed and which we can send processed reviews to and which returns the predicted sentiment. However, ultimately we would like to be able to send our model an unprocessed review. That is, we would like to send the review itself as a string. For example, suppose we wish to send the following review to our model."
   ]
  },
  {
   "cell_type": "code",
   "execution_count": 89,
   "metadata": {},
   "outputs": [],
   "source": [
    "test_review = 'The simplest pleasures in life are the best, and this film is one of them. Combining a rather basic storyline of love and adventure this movie transcends the usual weekend fair with wit and unmitigated charm.'"
   ]
  },
  {
   "cell_type": "markdown",
   "metadata": {},
   "source": [
    "The question we now need to answer is, how do we send this review to our model?\n",
    "\n",
    "Recall in the first section of this notebook we did a bunch of data processing to the IMDb dataset. In particular, we did two specific things to the provided reviews.\n",
    " - Removed any html tags and stemmed the input\n",
    " - Encoded the review as a sequence of integers using `word_dict`\n",
    " \n",
    "In order process the review we will need to repeat these two steps.\n",
    "\n",
    "**TODO**: Using the `review_to_words` and `convert_and_pad` methods from section one, convert `test_review` into a numpy array `test_data` suitable to send to our model. Remember that our model expects input of the form `review_length, review[500]`."
   ]
  },
  {
   "cell_type": "code",
   "execution_count": 90,
   "metadata": {},
   "outputs": [
    {
     "name": "stdout",
     "output_type": "stream",
     "text": [
      "[[  20    1 1358   49   53    3    4  868  172  389  674   29  713    2\n",
      "  4404  273 2056 1047  750    1  574    0    0    0    0    0    0    0\n",
      "     0    0    0    0    0    0    0    0    0    0    0    0    0    0\n",
      "     0    0    0    0    0    0    0    0    0    0    0    0    0    0\n",
      "     0    0    0    0    0    0    0    0    0    0    0    0    0    0\n",
      "     0    0    0    0    0    0    0    0    0    0    0    0    0    0\n",
      "     0    0    0    0    0    0    0    0    0    0    0    0    0    0\n",
      "     0    0    0    0    0    0    0    0    0    0    0    0    0    0\n",
      "     0    0    0    0    0    0    0    0    0    0    0    0    0    0\n",
      "     0    0    0    0    0    0    0    0    0    0    0    0    0    0\n",
      "     0    0    0    0    0    0    0    0    0    0    0    0    0    0\n",
      "     0    0    0    0    0    0    0    0    0    0    0    0    0    0\n",
      "     0    0    0    0    0    0    0    0    0    0    0    0    0    0\n",
      "     0    0    0    0    0    0    0    0    0    0    0    0    0    0\n",
      "     0    0    0    0    0    0    0    0    0    0    0    0    0    0\n",
      "     0    0    0    0    0    0    0    0    0    0    0    0    0    0\n",
      "     0    0    0    0    0    0    0    0    0    0    0    0    0    0\n",
      "     0    0    0    0    0    0    0    0    0    0    0    0    0    0\n",
      "     0    0    0    0    0    0    0    0    0    0    0    0    0    0\n",
      "     0    0    0    0    0    0    0    0    0    0    0    0    0    0\n",
      "     0    0    0    0    0    0    0    0    0    0    0    0    0    0\n",
      "     0    0    0    0    0    0    0    0    0    0    0    0    0    0\n",
      "     0    0    0    0    0    0    0    0    0    0    0    0    0    0\n",
      "     0    0    0    0    0    0    0    0    0    0    0    0    0    0\n",
      "     0    0    0    0    0    0    0    0    0    0    0    0    0    0\n",
      "     0    0    0    0    0    0    0    0    0    0    0    0    0    0\n",
      "     0    0    0    0    0    0    0    0    0    0    0    0    0    0\n",
      "     0    0    0    0    0    0    0    0    0    0    0    0    0    0\n",
      "     0    0    0    0    0    0    0    0    0    0    0    0    0    0\n",
      "     0    0    0    0    0    0    0    0    0    0    0    0    0    0\n",
      "     0    0    0    0    0    0    0    0    0    0    0    0    0    0\n",
      "     0    0    0    0    0    0    0    0    0    0    0    0    0    0\n",
      "     0    0    0    0    0    0    0    0    0    0    0    0    0    0\n",
      "     0    0    0    0    0    0    0    0    0    0    0    0    0    0\n",
      "     0    0    0    0    0    0    0    0    0    0    0    0    0    0\n",
      "     0    0    0    0    0    0    0    0    0    0    0]]\n"
     ]
    }
   ],
   "source": [
    "# TODO: Convert test_review into a form usable by the model and save the results in test_data\n",
    "test_data = None\n",
    "review_list = review_to_words(test_review)\n",
    "repr_vector , len_vector = convert_and_pad(word_dict, sentence=review_list, pad=500)\n",
    "test_data = np.array([[len_vector, *repr_vector]])\n",
    "print(test_data )"
   ]
  },
  {
   "cell_type": "markdown",
   "metadata": {},
   "source": [
    "Now that we have processed the review, we can send the resulting array to our model to predict the sentiment of the review."
   ]
  },
  {
   "cell_type": "code",
   "execution_count": 91,
   "metadata": {},
   "outputs": [
    {
     "data": {
      "text/plain": [
       "array(0.75775045, dtype=float32)"
      ]
     },
     "execution_count": 91,
     "metadata": {},
     "output_type": "execute_result"
    }
   ],
   "source": [
    "predictor.predict(test_data)"
   ]
  },
  {
   "cell_type": "markdown",
   "metadata": {},
   "source": [
    "Since the return value of our model is close to `1`, we can be certain that the review we submitted is positive."
   ]
  },
  {
   "cell_type": "markdown",
   "metadata": {},
   "source": [
    "### Delete the endpoint\n",
    "\n",
    "Of course, just like in the XGBoost notebook, once we've deployed an endpoint it continues to run until we tell it to shut down. Since we are done using our endpoint for now, we can delete it."
   ]
  },
  {
   "cell_type": "code",
   "execution_count": 50,
   "metadata": {},
   "outputs": [
    {
     "name": "stderr",
     "output_type": "stream",
     "text": [
      "estimator.delete_endpoint() will be deprecated in SageMaker Python SDK v2. Please use the delete_endpoint() function on your predictor instead.\n"
     ]
    }
   ],
   "source": [
    "estimator.delete_endpoint()"
   ]
  },
  {
   "cell_type": "markdown",
   "metadata": {},
   "source": [
    "## Step 6 (again) - Deploy the model for the web app\n",
    "\n",
    "Now that we know that our model is working, it's time to create some custom inference code so that we can send the model a review which has not been processed and have it determine the sentiment of the review.\n",
    "\n",
    "As we saw above, by default the estimator which we created, when deployed, will use the entry script and directory which we provided when creating the model. However, since we now wish to accept a string as input and our model expects a processed review, we need to write some custom inference code.\n",
    "\n",
    "We will store the code that we write in the `serve` directory. Provided in this directory is the `model.py` file that we used to construct our model, a `utils.py` file which contains the `review_to_words` and `convert_and_pad` pre-processing functions which we used during the initial data processing, and `predict.py`, the file which will contain our custom inference code. Note also that `requirements.txt` is present which will tell SageMaker what Python libraries are required by our custom inference code.\n",
    "\n",
    "When deploying a PyTorch model in SageMaker, you are expected to provide four functions which the SageMaker inference container will use.\n",
    " - `model_fn`: This function is the same function that we used in the training script and it tells SageMaker how to load our model.\n",
    " - `input_fn`: This function receives the raw serialized input that has been sent to the model's endpoint and its job is to de-serialize and make the input available for the inference code.\n",
    " - `output_fn`: This function takes the output of the inference code and its job is to serialize this output and return it to the caller of the model's endpoint.\n",
    " - `predict_fn`: The heart of the inference script, this is where the actual prediction is done and is the function which you will need to complete.\n",
    "\n",
    "For the simple website that we are constructing during this project, the `input_fn` and `output_fn` methods are relatively straightforward. We only require being able to accept a string as input and we expect to return a single value as output. You might imagine though that in a more complex application the input or output may be image data or some other binary data which would require some effort to serialize.\n",
    "\n",
    "### (TODO) Writing inference code\n",
    "\n",
    "Before writing our custom inference code, we will begin by taking a look at the code which has been provided."
   ]
  },
  {
   "cell_type": "code",
   "execution_count": 51,
   "metadata": {},
   "outputs": [
    {
     "name": "stdout",
     "output_type": "stream",
     "text": [
      "\u001b[34mimport\u001b[39;49;00m \u001b[04m\u001b[36margparse\u001b[39;49;00m\r\n",
      "\u001b[34mimport\u001b[39;49;00m \u001b[04m\u001b[36mjson\u001b[39;49;00m\r\n",
      "\u001b[34mimport\u001b[39;49;00m \u001b[04m\u001b[36mos\u001b[39;49;00m\r\n",
      "\u001b[34mimport\u001b[39;49;00m \u001b[04m\u001b[36mpickle\u001b[39;49;00m\r\n",
      "\u001b[34mimport\u001b[39;49;00m \u001b[04m\u001b[36msys\u001b[39;49;00m\r\n",
      "\u001b[34mimport\u001b[39;49;00m \u001b[04m\u001b[36msagemaker_containers\u001b[39;49;00m\r\n",
      "\u001b[34mimport\u001b[39;49;00m \u001b[04m\u001b[36mpandas\u001b[39;49;00m \u001b[34mas\u001b[39;49;00m \u001b[04m\u001b[36mpd\u001b[39;49;00m\r\n",
      "\u001b[34mimport\u001b[39;49;00m \u001b[04m\u001b[36mnumpy\u001b[39;49;00m \u001b[34mas\u001b[39;49;00m \u001b[04m\u001b[36mnp\u001b[39;49;00m\r\n",
      "\u001b[34mimport\u001b[39;49;00m \u001b[04m\u001b[36mtorch\u001b[39;49;00m\r\n",
      "\u001b[34mimport\u001b[39;49;00m \u001b[04m\u001b[36mtorch\u001b[39;49;00m\u001b[04m\u001b[36m.\u001b[39;49;00m\u001b[04m\u001b[36mnn\u001b[39;49;00m \u001b[34mas\u001b[39;49;00m \u001b[04m\u001b[36mnn\u001b[39;49;00m\r\n",
      "\u001b[34mimport\u001b[39;49;00m \u001b[04m\u001b[36mtorch\u001b[39;49;00m\u001b[04m\u001b[36m.\u001b[39;49;00m\u001b[04m\u001b[36moptim\u001b[39;49;00m \u001b[34mas\u001b[39;49;00m \u001b[04m\u001b[36moptim\u001b[39;49;00m\r\n",
      "\u001b[34mimport\u001b[39;49;00m \u001b[04m\u001b[36mtorch\u001b[39;49;00m\u001b[04m\u001b[36m.\u001b[39;49;00m\u001b[04m\u001b[36mutils\u001b[39;49;00m\u001b[04m\u001b[36m.\u001b[39;49;00m\u001b[04m\u001b[36mdata\u001b[39;49;00m\r\n",
      "\r\n",
      "\u001b[34mfrom\u001b[39;49;00m \u001b[04m\u001b[36mmodel\u001b[39;49;00m \u001b[34mimport\u001b[39;49;00m LSTMClassifier\r\n",
      "\r\n",
      "\u001b[34mfrom\u001b[39;49;00m \u001b[04m\u001b[36mutils\u001b[39;49;00m \u001b[34mimport\u001b[39;49;00m review_to_words, convert_and_pad\r\n",
      "\r\n",
      "\u001b[34mdef\u001b[39;49;00m \u001b[32mmodel_fn\u001b[39;49;00m(model_dir):\r\n",
      "    \u001b[33m\"\"\"Load the PyTorch model from the `model_dir` directory.\"\"\"\u001b[39;49;00m\r\n",
      "    \u001b[36mprint\u001b[39;49;00m(\u001b[33m\"\u001b[39;49;00m\u001b[33mLoading model.\u001b[39;49;00m\u001b[33m\"\u001b[39;49;00m)\r\n",
      "\r\n",
      "    \u001b[37m# First, load the parameters used to create the model.\u001b[39;49;00m\r\n",
      "    model_info = {}\r\n",
      "    model_info_path = os.path.join(model_dir, \u001b[33m'\u001b[39;49;00m\u001b[33mmodel_info.pth\u001b[39;49;00m\u001b[33m'\u001b[39;49;00m)\r\n",
      "    \u001b[34mwith\u001b[39;49;00m \u001b[36mopen\u001b[39;49;00m(model_info_path, \u001b[33m'\u001b[39;49;00m\u001b[33mrb\u001b[39;49;00m\u001b[33m'\u001b[39;49;00m) \u001b[34mas\u001b[39;49;00m f:\r\n",
      "        model_info = torch.load(f)\r\n",
      "\r\n",
      "    \u001b[36mprint\u001b[39;49;00m(\u001b[33m\"\u001b[39;49;00m\u001b[33mmodel_info: \u001b[39;49;00m\u001b[33m{}\u001b[39;49;00m\u001b[33m\"\u001b[39;49;00m.format(model_info))\r\n",
      "\r\n",
      "    \u001b[37m# Determine the device and construct the model.\u001b[39;49;00m\r\n",
      "    device = torch.device(\u001b[33m\"\u001b[39;49;00m\u001b[33mcuda\u001b[39;49;00m\u001b[33m\"\u001b[39;49;00m \u001b[34mif\u001b[39;49;00m torch.cuda.is_available() \u001b[34melse\u001b[39;49;00m \u001b[33m\"\u001b[39;49;00m\u001b[33mcpu\u001b[39;49;00m\u001b[33m\"\u001b[39;49;00m)\r\n",
      "    model = LSTMClassifier(model_info[\u001b[33m'\u001b[39;49;00m\u001b[33membedding_dim\u001b[39;49;00m\u001b[33m'\u001b[39;49;00m], model_info[\u001b[33m'\u001b[39;49;00m\u001b[33mhidden_dim\u001b[39;49;00m\u001b[33m'\u001b[39;49;00m], model_info[\u001b[33m'\u001b[39;49;00m\u001b[33mvocab_size\u001b[39;49;00m\u001b[33m'\u001b[39;49;00m])\r\n",
      "\r\n",
      "    \u001b[37m# Load the store model parameters.\u001b[39;49;00m\r\n",
      "    model_path = os.path.join(model_dir, \u001b[33m'\u001b[39;49;00m\u001b[33mmodel.pth\u001b[39;49;00m\u001b[33m'\u001b[39;49;00m)\r\n",
      "    \u001b[34mwith\u001b[39;49;00m \u001b[36mopen\u001b[39;49;00m(model_path, \u001b[33m'\u001b[39;49;00m\u001b[33mrb\u001b[39;49;00m\u001b[33m'\u001b[39;49;00m) \u001b[34mas\u001b[39;49;00m f:\r\n",
      "        model.load_state_dict(torch.load(f))\r\n",
      "\r\n",
      "    \u001b[37m# Load the saved word_dict.\u001b[39;49;00m\r\n",
      "    word_dict_path = os.path.join(model_dir, \u001b[33m'\u001b[39;49;00m\u001b[33mword_dict.pkl\u001b[39;49;00m\u001b[33m'\u001b[39;49;00m)\r\n",
      "    \u001b[34mwith\u001b[39;49;00m \u001b[36mopen\u001b[39;49;00m(word_dict_path, \u001b[33m'\u001b[39;49;00m\u001b[33mrb\u001b[39;49;00m\u001b[33m'\u001b[39;49;00m) \u001b[34mas\u001b[39;49;00m f:\r\n",
      "        model.word_dict = pickle.load(f)\r\n",
      "\r\n",
      "    model.to(device).eval()\r\n",
      "\r\n",
      "    \u001b[36mprint\u001b[39;49;00m(\u001b[33m\"\u001b[39;49;00m\u001b[33mDone loading model.\u001b[39;49;00m\u001b[33m\"\u001b[39;49;00m)\r\n",
      "    \u001b[34mreturn\u001b[39;49;00m model\r\n",
      "\r\n",
      "\u001b[34mdef\u001b[39;49;00m \u001b[32minput_fn\u001b[39;49;00m(serialized_input_data, content_type):\r\n",
      "    \u001b[36mprint\u001b[39;49;00m(\u001b[33m'\u001b[39;49;00m\u001b[33mDeserializing the input data.\u001b[39;49;00m\u001b[33m'\u001b[39;49;00m)\r\n",
      "    \u001b[34mif\u001b[39;49;00m content_type == \u001b[33m'\u001b[39;49;00m\u001b[33mtext/plain\u001b[39;49;00m\u001b[33m'\u001b[39;49;00m:\r\n",
      "        data = serialized_input_data.decode(\u001b[33m'\u001b[39;49;00m\u001b[33mutf-8\u001b[39;49;00m\u001b[33m'\u001b[39;49;00m)\r\n",
      "        \u001b[34mreturn\u001b[39;49;00m data\r\n",
      "    \u001b[34mraise\u001b[39;49;00m \u001b[36mException\u001b[39;49;00m(\u001b[33m'\u001b[39;49;00m\u001b[33mRequested unsupported ContentType in content_type: \u001b[39;49;00m\u001b[33m'\u001b[39;49;00m + content_type)\r\n",
      "\r\n",
      "\u001b[34mdef\u001b[39;49;00m \u001b[32moutput_fn\u001b[39;49;00m(prediction_output, accept):\r\n",
      "    \u001b[36mprint\u001b[39;49;00m(\u001b[33m'\u001b[39;49;00m\u001b[33mSerializing the generated output.\u001b[39;49;00m\u001b[33m'\u001b[39;49;00m)\r\n",
      "    \u001b[34mreturn\u001b[39;49;00m \u001b[36mstr\u001b[39;49;00m(prediction_output)\r\n",
      "\r\n",
      "\u001b[34mdef\u001b[39;49;00m \u001b[32mpredict_fn\u001b[39;49;00m(input_data, model):\r\n",
      "    \u001b[36mprint\u001b[39;49;00m(\u001b[33m'\u001b[39;49;00m\u001b[33mInferring sentiment of input data.\u001b[39;49;00m\u001b[33m'\u001b[39;49;00m)\r\n",
      "\r\n",
      "    device = torch.device(\u001b[33m\"\u001b[39;49;00m\u001b[33mcuda\u001b[39;49;00m\u001b[33m\"\u001b[39;49;00m \u001b[34mif\u001b[39;49;00m torch.cuda.is_available() \u001b[34melse\u001b[39;49;00m \u001b[33m\"\u001b[39;49;00m\u001b[33mcpu\u001b[39;49;00m\u001b[33m\"\u001b[39;49;00m)\r\n",
      "    \r\n",
      "    \u001b[34mif\u001b[39;49;00m model.word_dict \u001b[35mis\u001b[39;49;00m \u001b[34mNone\u001b[39;49;00m:\r\n",
      "        \u001b[34mraise\u001b[39;49;00m \u001b[36mException\u001b[39;49;00m(\u001b[33m'\u001b[39;49;00m\u001b[33mModel has not been loaded properly, no word_dict.\u001b[39;49;00m\u001b[33m'\u001b[39;49;00m)\r\n",
      "    \r\n",
      "    \u001b[37m# TODO: Process input_data so that it is ready to be sent to our model.\u001b[39;49;00m\r\n",
      "    \u001b[37m#       You should produce two variables:\u001b[39;49;00m\r\n",
      "    \u001b[37m#         data_X   - A sequence of length 500 which represents the converted review\u001b[39;49;00m\r\n",
      "    \u001b[37m#         data_len - The length of the review\u001b[39;49;00m\r\n",
      "\r\n",
      "    data_X = \u001b[34mNone\u001b[39;49;00m\r\n",
      "    data_len = \u001b[34mNone\u001b[39;49;00m\r\n",
      "\r\n",
      "    \u001b[37m# Using data_X and data_len we construct an appropriate input tensor. Remember\u001b[39;49;00m\r\n",
      "    \u001b[37m# that our model expects input data of the form 'len, review[500]'.\u001b[39;49;00m\r\n",
      "    data_pack = np.hstack((data_len, data_X))\r\n",
      "    data_pack = data_pack.reshape(\u001b[34m1\u001b[39;49;00m, -\u001b[34m1\u001b[39;49;00m)\r\n",
      "    \r\n",
      "    data = torch.from_numpy(data_pack)\r\n",
      "    data = data.to(device)\r\n",
      "\r\n",
      "    \u001b[37m# Make sure to put the model into evaluation mode\u001b[39;49;00m\r\n",
      "    model.eval()\r\n",
      "\r\n",
      "    \u001b[37m# TODO: Compute the result of applying the model to the input data. The variable `result` should\u001b[39;49;00m\r\n",
      "    \u001b[37m#       be a numpy array which contains a single integer which is either 1 or 0\u001b[39;49;00m\r\n",
      "\r\n",
      "    result = \u001b[34mNone\u001b[39;49;00m\r\n",
      "\r\n",
      "    \u001b[34mreturn\u001b[39;49;00m result\r\n"
     ]
    }
   ],
   "source": [
    "!pygmentize serve/predict.py"
   ]
  },
  {
   "cell_type": "markdown",
   "metadata": {},
   "source": [
    "As mentioned earlier, the `model_fn` method is the same as the one provided in the training code and the `input_fn` and `output_fn` methods are very simple and your task will be to complete the `predict_fn` method. Make sure that you save the completed file as `predict.py` in the `serve` directory.\n",
    "\n",
    "**TODO**: Complete the `predict_fn()` method in the `serve/predict.py` file."
   ]
  },
  {
   "cell_type": "markdown",
   "metadata": {},
   "source": [
    "### Deploying the model\n",
    "\n",
    "Now that the custom inference code has been written, we will create and deploy our model. To begin with, we need to construct a new PyTorchModel object which points to the model artifacts created during training and also points to the inference code that we wish to use. Then we can call the deploy method to launch the deployment container.\n",
    "\n",
    "**NOTE**: The default behaviour for a deployed PyTorch model is to assume that any input passed to the predictor is a `numpy` array. In our case we want to send a string so we need to construct a simple wrapper around the `RealTimePredictor` class to accomodate simple strings. In a more complicated situation you may want to provide a serialization object, for example if you wanted to sent image data."
   ]
  },
  {
   "cell_type": "code",
   "execution_count": 92,
   "metadata": {},
   "outputs": [
    {
     "name": "stderr",
     "output_type": "stream",
     "text": [
      "Parameter image will be renamed to image_uri in SageMaker Python SDK v2.\n",
      "'create_image_uri' will be deprecated in favor of 'ImageURIProvider' class in SageMaker Python SDK v2.\n"
     ]
    },
    {
     "name": "stdout",
     "output_type": "stream",
     "text": [
      "-----------------!"
     ]
    }
   ],
   "source": [
    "from sagemaker.predictor import RealTimePredictor\n",
    "from sagemaker.pytorch import PyTorchModel\n",
    "\n",
    "class StringPredictor(RealTimePredictor):\n",
    "    def __init__(self, endpoint_name, sagemaker_session):\n",
    "        super(StringPredictor, self).__init__(endpoint_name, sagemaker_session, content_type='text/plain')\n",
    "\n",
    "model = PyTorchModel(model_data=estimator.model_data,\n",
    "                     role = role,\n",
    "                     framework_version='0.4.0',\n",
    "                     entry_point='predict.py',\n",
    "                     source_dir='serve',\n",
    "                     predictor_cls=StringPredictor)\n",
    "predictor = model.deploy(initial_instance_count=1, instance_type='ml.m4.xlarge')"
   ]
  },
  {
   "cell_type": "markdown",
   "metadata": {},
   "source": [
    "### Testing the model\n",
    "\n",
    "Now that we have deployed our model with the custom inference code, we should test to see if everything is working. Here we test our model by loading the first `250` positive and negative reviews and send them to the endpoint, then collect the results. The reason for only sending some of the data is that the amount of time it takes for our model to process the input and then perform inference is quite long and so testing the entire data set would be prohibitive."
   ]
  },
  {
   "cell_type": "code",
   "execution_count": 93,
   "metadata": {},
   "outputs": [],
   "source": [
    "import glob\n",
    "\n",
    "def test_reviews(data_dir='../data/aclImdb', stop=250):\n",
    "    \n",
    "    results = []\n",
    "    ground = []\n",
    "    \n",
    "    # We make sure to test both positive and negative reviews    \n",
    "    for sentiment in ['pos', 'neg']:\n",
    "        \n",
    "        path = os.path.join(data_dir, 'test', sentiment, '*.txt')\n",
    "        files = glob.glob(path)\n",
    "        \n",
    "        files_read = 0\n",
    "        \n",
    "        print('Starting ', sentiment, ' files')\n",
    "        \n",
    "        # Iterate through the files and send them to the predictor\n",
    "        for f in files:\n",
    "            with open(f) as review:\n",
    "                # First, we store the ground truth (was the review positive or negative)\n",
    "                if sentiment == 'pos':\n",
    "                    ground.append(1)\n",
    "                else:\n",
    "                    ground.append(0)\n",
    "                # Read in the review and convert to 'utf-8' for transmission via HTTP\n",
    "                review_input = review.read().encode('utf-8')\n",
    "                # Send the review to the predictor and store the results\n",
    "                results.append(int(float(predictor.predict(review_input))))\n",
    "                \n",
    "            # Sending reviews to our endpoint one at a time takes a while so we\n",
    "            # only send a small number of reviews\n",
    "            files_read += 1\n",
    "            if files_read == stop:\n",
    "                break\n",
    "            \n",
    "    return ground, results"
   ]
  },
  {
   "cell_type": "code",
   "execution_count": 94,
   "metadata": {},
   "outputs": [
    {
     "name": "stdout",
     "output_type": "stream",
     "text": [
      "Starting  pos  files\n",
      "Starting  neg  files\n"
     ]
    }
   ],
   "source": [
    "ground, results = test_reviews()"
   ]
  },
  {
   "cell_type": "code",
   "execution_count": 95,
   "metadata": {},
   "outputs": [
    {
     "data": {
      "text/plain": [
       "0.836"
      ]
     },
     "execution_count": 95,
     "metadata": {},
     "output_type": "execute_result"
    }
   ],
   "source": [
    "from sklearn.metrics import accuracy_score\n",
    "accuracy_score(ground, results)"
   ]
  },
  {
   "cell_type": "markdown",
   "metadata": {},
   "source": [
    "As an additional test, we can try sending the `test_review` that we looked at earlier."
   ]
  },
  {
   "cell_type": "code",
   "execution_count": 96,
   "metadata": {},
   "outputs": [
    {
     "data": {
      "text/plain": [
       "b'1'"
      ]
     },
     "execution_count": 96,
     "metadata": {},
     "output_type": "execute_result"
    }
   ],
   "source": [
    "predictor.predict(test_review)"
   ]
  },
  {
   "cell_type": "markdown",
   "metadata": {},
   "source": [
    "Now that we know our endpoint is working as expected, we can set up the web page that will interact with it. If you don't have time to finish the project now, make sure to skip down to the end of this notebook and shut down your endpoint. You can deploy it again when you come back."
   ]
  },
  {
   "cell_type": "markdown",
   "metadata": {},
   "source": [
    "## Step 7 (again): Use the model for the web app\n",
    "\n",
    "> **TODO:** This entire section and the next contain tasks for you to complete, mostly using the AWS console.\n",
    "\n",
    "So far we have been accessing our model endpoint by constructing a predictor object which uses the endpoint and then just using the predictor object to perform inference. What if we wanted to create a web app which accessed our model? The way things are set up currently makes that not possible since in order to access a SageMaker endpoint the app would first have to authenticate with AWS using an IAM role which included access to SageMaker endpoints. However, there is an easier way! We just need to use some additional AWS services.\n",
    "\n",
    "<img src=\"Web App Diagram.svg\">\n",
    "\n",
    "The diagram above gives an overview of how the various services will work together. On the far right is the model which we trained above and which is deployed using SageMaker. On the far left is our web app that collects a user's movie review, sends it off and expects a positive or negative sentiment in return.\n",
    "\n",
    "In the middle is where some of the magic happens. We will construct a Lambda function, which you can think of as a straightforward Python function that can be executed whenever a specified event occurs. We will give this function permission to send and recieve data from a SageMaker endpoint.\n",
    "\n",
    "Lastly, the method we will use to execute the Lambda function is a new endpoint that we will create using API Gateway. This endpoint will be a url that listens for data to be sent to it. Once it gets some data it will pass that data on to the Lambda function and then return whatever the Lambda function returns. Essentially it will act as an interface that lets our web app communicate with the Lambda function.\n",
    "\n",
    "### Setting up a Lambda function\n",
    "\n",
    "The first thing we are going to do is set up a Lambda function. This Lambda function will be executed whenever our public API has data sent to it. When it is executed it will receive the data, perform any sort of processing that is required, send the data (the review) to the SageMaker endpoint we've created and then return the result.\n",
    "\n",
    "#### Part A: Create an IAM Role for the Lambda function\n",
    "\n",
    "Since we want the Lambda function to call a SageMaker endpoint, we need to make sure that it has permission to do so. To do this, we will construct a role that we can later give the Lambda function.\n",
    "\n",
    "Using the AWS Console, navigate to the **IAM** page and click on **Roles**. Then, click on **Create role**. Make sure that the **AWS service** is the type of trusted entity selected and choose **Lambda** as the service that will use this role, then click **Next: Permissions**.\n",
    "\n",
    "In the search box type `sagemaker` and select the check box next to the **AmazonSageMakerFullAccess** policy. Then, click on **Next: Review**.\n",
    "\n",
    "Lastly, give this role a name. Make sure you use a name that you will remember later on, for example `LambdaSageMakerRole`. Then, click on **Create role**.\n",
    "\n",
    "#### Part B: Create a Lambda function\n",
    "\n",
    "Now it is time to actually create the Lambda function.\n",
    "\n",
    "Using the AWS Console, navigate to the AWS Lambda page and click on **Create a function**. When you get to the next page, make sure that **Author from scratch** is selected. Now, name your Lambda function, using a name that you will remember later on, for example `sentiment_analysis_func`. Make sure that the **Python 3.6** runtime is selected and then choose the role that you created in the previous part. Then, click on **Create Function**.\n",
    "\n",
    "On the next page you will see some information about the Lambda function you've just created. If you scroll down you should see an editor in which you can write the code that will be executed when your Lambda function is triggered. In our example, we will use the code below. \n",
    "\n",
    "```python\n",
    "# We need to use the low-level library to interact with SageMaker since the SageMaker API\n",
    "# is not available natively through Lambda.\n",
    "import boto3\n",
    "\n",
    "def lambda_handler(event, context):\n",
    "\n",
    "    # The SageMaker runtime is what allows us to invoke the endpoint that we've created.\n",
    "    runtime = boto3.Session().client('sagemaker-runtime')\n",
    "\n",
    "    # Now we use the SageMaker runtime to invoke our endpoint, sending the review we were given\n",
    "    response = runtime.invoke_endpoint(EndpointName = '**ENDPOINT NAME HERE**',    # The name of the endpoint we created\n",
    "                                       ContentType = 'text/plain',                 # The data format that is expected\n",
    "                                       Body = event['body'])                       # The actual review\n",
    "\n",
    "    # The response is an HTTP response whose body contains the result of our inference\n",
    "    result = response['Body'].read().decode('utf-8')\n",
    "\n",
    "    return {\n",
    "        'statusCode' : 200,\n",
    "        'headers' : { 'Content-Type' : 'text/plain', 'Access-Control-Allow-Origin' : '*' },\n",
    "        'body' : result\n",
    "    }\n",
    "```\n",
    "\n",
    "Once you have copy and pasted the code above into the Lambda code editor, replace the `**ENDPOINT NAME HERE**` portion with the name of the endpoint that we deployed earlier. You can determine the name of the endpoint using the code cell below."
   ]
  },
  {
   "cell_type": "code",
   "execution_count": 97,
   "metadata": {},
   "outputs": [
    {
     "data": {
      "text/plain": [
       "'sagemaker-pytorch-2020-10-04-23-23-15-679'"
      ]
     },
     "execution_count": 97,
     "metadata": {},
     "output_type": "execute_result"
    }
   ],
   "source": [
    "predictor.endpoint"
   ]
  },
  {
   "cell_type": "markdown",
   "metadata": {},
   "source": [
    "Once you have added the endpoint name to the Lambda function, click on **Save**. Your Lambda function is now up and running. Next we need to create a way for our web app to execute the Lambda function.\n",
    "\n",
    "### Setting up API Gateway\n",
    "\n",
    "Now that our Lambda function is set up, it is time to create a new API using API Gateway that will trigger the Lambda function we have just created.\n",
    "\n",
    "Using AWS Console, navigate to **Amazon API Gateway** and then click on **Get started**.\n",
    "\n",
    "On the next page, make sure that **New API** is selected and give the new api a name, for example, `sentiment_analysis_api`. Then, click on **Create API**.\n",
    "\n",
    "Now we have created an API, however it doesn't currently do anything. What we want it to do is to trigger the Lambda function that we created earlier.\n",
    "\n",
    "Select the **Actions** dropdown menu and click **Create Method**. A new blank method will be created, select its dropdown menu and select **POST**, then click on the check mark beside it.\n",
    "\n",
    "For the integration point, make sure that **Lambda Function** is selected and click on the **Use Lambda Proxy integration**. This option makes sure that the data that is sent to the API is then sent directly to the Lambda function with no processing. It also means that the return value must be a proper response object as it will also not be processed by API Gateway.\n",
    "\n",
    "Type the name of the Lambda function you created earlier into the **Lambda Function** text entry box and then click on **Save**. Click on **OK** in the pop-up box that then appears, giving permission to API Gateway to invoke the Lambda function you created.\n",
    "\n",
    "The last step in creating the API Gateway is to select the **Actions** dropdown and click on **Deploy API**. You will need to create a new Deployment stage and name it anything you like, for example `prod`.\n",
    "\n",
    "You have now successfully set up a public API to access your SageMaker model. Make sure to copy or write down the URL provided to invoke your newly created public API as this will be needed in the next step. This URL can be found at the top of the page, highlighted in blue next to the text **Invoke URL**."
   ]
  },
  {
   "cell_type": "markdown",
   "metadata": {},
   "source": [
    "## Step 4: Deploying our web app\n",
    "\n",
    "Now that we have a publicly available API, we can start using it in a web app. For our purposes, we have provided a simple static html file which can make use of the public api you created earlier.\n",
    "\n",
    "In the `website` folder there should be a file called `index.html`. Download the file to your computer and open that file up in a text editor of your choice. There should be a line which contains **\\*\\*REPLACE WITH PUBLIC API URL\\*\\***. Replace this string with the url that you wrote down in the last step and then save the file.\n",
    "\n",
    "Now, if you open `index.html` on your local computer, your browser will behave as a local web server and you can use the provided site to interact with your SageMaker model.\n",
    "\n",
    "If you'd like to go further, you can host this html file anywhere you'd like, for example using github or hosting a static site on Amazon's S3. Once you have done this you can share the link with anyone you'd like and have them play with it too!\n",
    "\n",
    "> **Important Note** In order for the web app to communicate with the SageMaker endpoint, the endpoint has to actually be deployed and running. This means that you are paying for it. Make sure that the endpoint is running when you want to use the web app but that you shut it down when you don't need it, otherwise you will end up with a surprisingly large AWS bill.\n",
    "\n",
    "**TODO:** Make sure that you include the edited `index.html` file in your project submission."
   ]
  },
  {
   "cell_type": "markdown",
   "metadata": {},
   "source": [
    "Now that your web app is working, trying playing around with it and see how well it works.\n",
    "\n",
    "**Question**: Give an example of a review that you entered into your web app. What was the predicted sentiment of your example review?"
   ]
  },
  {
   "attachments": {
    "review02.PNG": {
     "image/png": "[encoded data removed]"
    },
    "review06.PNG": {
     "image/png": "[encoded data removed]"
    },
    "rview04.PNG": {
     "image/png": "[encoded data removed]"
    }
   },
   "cell_type": "markdown",
   "metadata": {},
   "source": [
    "**Answer:**\n",
    "Examples used:\n",
    "I used some reviews from imdb (Tennet and The Boys)\n",
    "\"\n",
    "I dont know what happened to this series. The first season was amazing, well paced and character driven.\n",
    "Now season two is slow, dragged out, boring and agenda driven...\n",
    "Went from my favorite new series to having to force myself to watch. If this season doesn change things in the last 4 episodes Im done with this nonsen\n",
    "\"\n",
    "-> \"positive\"\n",
    "\n",
    "\"\n",
    "Bad superheroes have been done before, but not like this. Very entertaining.\n",
    "\"\n",
    "-> \"positive\"\n",
    "\n",
    "\"\n",
    "Pseudo-intellectual mindless action/WASTE OF TIME (movie also speaks in CAPS LOCK!)\n",
    "\"\n",
    "-> \"negative\"\n",
    "![review06.PNG](attachment:review06.PNG)\n",
    "![rview04.PNG](attachment:rview04.PNG)\n",
    "![review02.PNG](attachment:review02.PNG)"
   ]
  },
  {
   "cell_type": "markdown",
   "metadata": {},
   "source": [
    "### Delete the endpoint\n",
    "\n",
    "Remember to always shut down your endpoint if you are no longer using it. You are charged for the length of time that the endpoint is running so if you forget and leave it on you could end up with an unexpectedly large bill."
   ]
  },
  {
   "cell_type": "code",
   "execution_count": 98,
   "metadata": {},
   "outputs": [],
   "source": [
    "predictor.delete_endpoint()"
   ]
  },
  {
   "cell_type": "code",
   "execution_count": null,
   "metadata": {},
   "outputs": [],
   "source": []
  }
 ],
 "metadata": {
  "kernelspec": {
   "display_name": "conda_pytorch_p36",
   "language": "python",
   "name": "conda_pytorch_p36"
  },
  "language_info": {
   "codemirror_mode": {
    "name": "ipython",
    "version": 3
   },
   "file_extension": ".py",
   "mimetype": "text/x-python",
   "name": "python",
   "nbconvert_exporter": "python",
   "pygments_lexer": "ipython3",
   "version": "3.6.10"
  }
 },
 "nbformat": 4,
 "nbformat_minor": 2
}
